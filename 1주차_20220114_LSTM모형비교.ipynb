{
  "nbformat": 4,
  "nbformat_minor": 0,
  "metadata": {
    "colab": {
      "name": "Untitled0.ipynb의 사본",
      "provenance": [],
      "collapsed_sections": []
    },
    "kernelspec": {
      "name": "python3",
      "display_name": "Python 3"
    },
    "language_info": {
      "name": "python"
    }
  },
  "cells": [
    {
      "cell_type": "code",
      "execution_count": 173,
      "metadata": {
        "colab": {
          "base_uri": "https://localhost:8080/"
        },
        "id": "F8jDX5KQ73f7",
        "outputId": "9066ea72-4127-4f0f-bd11-b70ce77b6200"
      },
      "outputs": [
        {
          "output_type": "stream",
          "name": "stdout",
          "text": [
            "/content/drive/MyDrive/Colab Notebooks/데이콘/영화리뷰감성분석경진대회\n",
            "Archive:  dataset.zip\n",
            "replace dataset/sample_submission.csv? [y]es, [n]o, [A]ll, [N]one, [r]ename: y\n",
            "  inflating: dataset/sample_submission.csv  \n",
            "replace dataset/test.csv? [y]es, [n]o, [A]ll, [N]one, [r]ename: y\n",
            "  inflating: dataset/test.csv        \n",
            "replace dataset/train.csv? [y]es, [n]o, [A]ll, [N]one, [r]ename: y\n",
            "  inflating: dataset/train.csv       \n"
          ]
        }
      ],
      "source": [
        "%cd \"/content/drive/MyDrive/Colab Notebooks/데이콘/영화리뷰감성분석경진대회/\"\n",
        "!unzip \"dataset.zip\""
      ]
    },
    {
      "cell_type": "markdown",
      "source": [
        "#### 1. 데이터 로드하기"
      ],
      "metadata": {
        "id": "TLF26OTeqj2N"
      }
    },
    {
      "cell_type": "code",
      "source": [
        "# 현재 작업 경로를 얻는 함수\n",
        "import os\n",
        "print(os.getcwd())"
      ],
      "metadata": {
        "colab": {
          "base_uri": "https://localhost:8080/"
        },
        "id": "RbzNr30doBa5",
        "outputId": "bd1c92f2-d2f9-4cb4-a5f2-4d46db91f4c2"
      },
      "execution_count": 174,
      "outputs": [
        {
          "output_type": "stream",
          "name": "stdout",
          "text": [
            "/content/drive/My Drive/Colab Notebooks/데이콘/영화리뷰감성분석경진대회\n"
          ]
        }
      ]
    },
    {
      "cell_type": "code",
      "source": [
        "# 데이터 불러오기\n",
        "import pandas as pd\n",
        "\n",
        "train = pd.read_csv(\"./dataset/train.csv\")\n",
        "test = pd.read_csv(\"./dataset/test.csv\")\n",
        "submission = pd.read_csv(\"./dataset/sample_submission.csv\")"
      ],
      "metadata": {
        "id": "A5jWeiHd8RcG"
      },
      "execution_count": 175,
      "outputs": []
    },
    {
      "cell_type": "code",
      "source": [
        "# train 데이터 상위 행 3개\n",
        "train.head(3)"
      ],
      "metadata": {
        "colab": {
          "base_uri": "https://localhost:8080/",
          "height": 143
        },
        "id": "zy2XGdPC9qeb",
        "outputId": "2e254956-fe70-4678-dc9e-da4c78f8ef07"
      },
      "execution_count": 176,
      "outputs": [
        {
          "output_type": "execute_result",
          "data": {
            "text/html": [
              "\n",
              "  <div id=\"df-eba32602-df5a-4022-b2ab-93ef82e8e357\">\n",
              "    <div class=\"colab-df-container\">\n",
              "      <div>\n",
              "<style scoped>\n",
              "    .dataframe tbody tr th:only-of-type {\n",
              "        vertical-align: middle;\n",
              "    }\n",
              "\n",
              "    .dataframe tbody tr th {\n",
              "        vertical-align: top;\n",
              "    }\n",
              "\n",
              "    .dataframe thead th {\n",
              "        text-align: right;\n",
              "    }\n",
              "</style>\n",
              "<table border=\"1\" class=\"dataframe\">\n",
              "  <thead>\n",
              "    <tr style=\"text-align: right;\">\n",
              "      <th></th>\n",
              "      <th>id</th>\n",
              "      <th>document</th>\n",
              "      <th>label</th>\n",
              "    </tr>\n",
              "  </thead>\n",
              "  <tbody>\n",
              "    <tr>\n",
              "      <th>0</th>\n",
              "      <td>1</td>\n",
              "      <td>영상이나 음악이 이쁘다 해도 미화시킨 불륜일뿐</td>\n",
              "      <td>0</td>\n",
              "    </tr>\n",
              "    <tr>\n",
              "      <th>1</th>\n",
              "      <td>2</td>\n",
              "      <td>히치콕이 이 영화를 봤다면 분명 박수를 쳤을듯...</td>\n",
              "      <td>1</td>\n",
              "    </tr>\n",
              "    <tr>\n",
              "      <th>2</th>\n",
              "      <td>3</td>\n",
              "      <td>괜찮은 음악영화가 또 나왔군요!!! 따뜻한 겨울이 될 것 같아요~</td>\n",
              "      <td>1</td>\n",
              "    </tr>\n",
              "  </tbody>\n",
              "</table>\n",
              "</div>\n",
              "      <button class=\"colab-df-convert\" onclick=\"convertToInteractive('df-eba32602-df5a-4022-b2ab-93ef82e8e357')\"\n",
              "              title=\"Convert this dataframe to an interactive table.\"\n",
              "              style=\"display:none;\">\n",
              "        \n",
              "  <svg xmlns=\"http://www.w3.org/2000/svg\" height=\"24px\"viewBox=\"0 0 24 24\"\n",
              "       width=\"24px\">\n",
              "    <path d=\"M0 0h24v24H0V0z\" fill=\"none\"/>\n",
              "    <path d=\"M18.56 5.44l.94 2.06.94-2.06 2.06-.94-2.06-.94-.94-2.06-.94 2.06-2.06.94zm-11 1L8.5 8.5l.94-2.06 2.06-.94-2.06-.94L8.5 2.5l-.94 2.06-2.06.94zm10 10l.94 2.06.94-2.06 2.06-.94-2.06-.94-.94-2.06-.94 2.06-2.06.94z\"/><path d=\"M17.41 7.96l-1.37-1.37c-.4-.4-.92-.59-1.43-.59-.52 0-1.04.2-1.43.59L10.3 9.45l-7.72 7.72c-.78.78-.78 2.05 0 2.83L4 21.41c.39.39.9.59 1.41.59.51 0 1.02-.2 1.41-.59l7.78-7.78 2.81-2.81c.8-.78.8-2.07 0-2.86zM5.41 20L4 18.59l7.72-7.72 1.47 1.35L5.41 20z\"/>\n",
              "  </svg>\n",
              "      </button>\n",
              "      \n",
              "  <style>\n",
              "    .colab-df-container {\n",
              "      display:flex;\n",
              "      flex-wrap:wrap;\n",
              "      gap: 12px;\n",
              "    }\n",
              "\n",
              "    .colab-df-convert {\n",
              "      background-color: #E8F0FE;\n",
              "      border: none;\n",
              "      border-radius: 50%;\n",
              "      cursor: pointer;\n",
              "      display: none;\n",
              "      fill: #1967D2;\n",
              "      height: 32px;\n",
              "      padding: 0 0 0 0;\n",
              "      width: 32px;\n",
              "    }\n",
              "\n",
              "    .colab-df-convert:hover {\n",
              "      background-color: #E2EBFA;\n",
              "      box-shadow: 0px 1px 2px rgba(60, 64, 67, 0.3), 0px 1px 3px 1px rgba(60, 64, 67, 0.15);\n",
              "      fill: #174EA6;\n",
              "    }\n",
              "\n",
              "    [theme=dark] .colab-df-convert {\n",
              "      background-color: #3B4455;\n",
              "      fill: #D2E3FC;\n",
              "    }\n",
              "\n",
              "    [theme=dark] .colab-df-convert:hover {\n",
              "      background-color: #434B5C;\n",
              "      box-shadow: 0px 1px 3px 1px rgba(0, 0, 0, 0.15);\n",
              "      filter: drop-shadow(0px 1px 2px rgba(0, 0, 0, 0.3));\n",
              "      fill: #FFFFFF;\n",
              "    }\n",
              "  </style>\n",
              "\n",
              "      <script>\n",
              "        const buttonEl =\n",
              "          document.querySelector('#df-eba32602-df5a-4022-b2ab-93ef82e8e357 button.colab-df-convert');\n",
              "        buttonEl.style.display =\n",
              "          google.colab.kernel.accessAllowed ? 'block' : 'none';\n",
              "\n",
              "        async function convertToInteractive(key) {\n",
              "          const element = document.querySelector('#df-eba32602-df5a-4022-b2ab-93ef82e8e357');\n",
              "          const dataTable =\n",
              "            await google.colab.kernel.invokeFunction('convertToInteractive',\n",
              "                                                     [key], {});\n",
              "          if (!dataTable) return;\n",
              "\n",
              "          const docLinkHtml = 'Like what you see? Visit the ' +\n",
              "            '<a target=\"_blank\" href=https://colab.research.google.com/notebooks/data_table.ipynb>data table notebook</a>'\n",
              "            + ' to learn more about interactive tables.';\n",
              "          element.innerHTML = '';\n",
              "          dataTable['output_type'] = 'display_data';\n",
              "          await google.colab.output.renderOutput(dataTable, element);\n",
              "          const docLink = document.createElement('div');\n",
              "          docLink.innerHTML = docLinkHtml;\n",
              "          element.appendChild(docLink);\n",
              "        }\n",
              "      </script>\n",
              "    </div>\n",
              "  </div>\n",
              "  "
            ],
            "text/plain": [
              "   id                              document  label\n",
              "0   1             영상이나 음악이 이쁘다 해도 미화시킨 불륜일뿐      0\n",
              "1   2          히치콕이 이 영화를 봤다면 분명 박수를 쳤을듯...      1\n",
              "2   3  괜찮은 음악영화가 또 나왔군요!!! 따뜻한 겨울이 될 것 같아요~      1"
            ]
          },
          "metadata": {},
          "execution_count": 176
        }
      ]
    },
    {
      "cell_type": "code",
      "source": [
        "# test 데이터 상위 행 3개\n",
        "test.head(3)"
      ],
      "metadata": {
        "colab": {
          "base_uri": "https://localhost:8080/",
          "height": 143
        },
        "id": "Qipcujos-ahy",
        "outputId": "fbcdd50e-f519-4852-d691-d31f38cacafb"
      },
      "execution_count": 177,
      "outputs": [
        {
          "output_type": "execute_result",
          "data": {
            "text/html": [
              "\n",
              "  <div id=\"df-d2b99f80-04ec-4a84-862e-5ba17339599e\">\n",
              "    <div class=\"colab-df-container\">\n",
              "      <div>\n",
              "<style scoped>\n",
              "    .dataframe tbody tr th:only-of-type {\n",
              "        vertical-align: middle;\n",
              "    }\n",
              "\n",
              "    .dataframe tbody tr th {\n",
              "        vertical-align: top;\n",
              "    }\n",
              "\n",
              "    .dataframe thead th {\n",
              "        text-align: right;\n",
              "    }\n",
              "</style>\n",
              "<table border=\"1\" class=\"dataframe\">\n",
              "  <thead>\n",
              "    <tr style=\"text-align: right;\">\n",
              "      <th></th>\n",
              "      <th>id</th>\n",
              "      <th>document</th>\n",
              "    </tr>\n",
              "  </thead>\n",
              "  <tbody>\n",
              "    <tr>\n",
              "      <th>0</th>\n",
              "      <td>1</td>\n",
              "      <td>시간 때우기 좋은 영화 지루함</td>\n",
              "    </tr>\n",
              "    <tr>\n",
              "      <th>1</th>\n",
              "      <td>2</td>\n",
              "      <td>훈훈한 정이 느껴지는 영화! 가족끼리 드라마 보듯이 보면 딱~!</td>\n",
              "    </tr>\n",
              "    <tr>\n",
              "      <th>2</th>\n",
              "      <td>3</td>\n",
              "      <td>Childhood fantasy</td>\n",
              "    </tr>\n",
              "  </tbody>\n",
              "</table>\n",
              "</div>\n",
              "      <button class=\"colab-df-convert\" onclick=\"convertToInteractive('df-d2b99f80-04ec-4a84-862e-5ba17339599e')\"\n",
              "              title=\"Convert this dataframe to an interactive table.\"\n",
              "              style=\"display:none;\">\n",
              "        \n",
              "  <svg xmlns=\"http://www.w3.org/2000/svg\" height=\"24px\"viewBox=\"0 0 24 24\"\n",
              "       width=\"24px\">\n",
              "    <path d=\"M0 0h24v24H0V0z\" fill=\"none\"/>\n",
              "    <path d=\"M18.56 5.44l.94 2.06.94-2.06 2.06-.94-2.06-.94-.94-2.06-.94 2.06-2.06.94zm-11 1L8.5 8.5l.94-2.06 2.06-.94-2.06-.94L8.5 2.5l-.94 2.06-2.06.94zm10 10l.94 2.06.94-2.06 2.06-.94-2.06-.94-.94-2.06-.94 2.06-2.06.94z\"/><path d=\"M17.41 7.96l-1.37-1.37c-.4-.4-.92-.59-1.43-.59-.52 0-1.04.2-1.43.59L10.3 9.45l-7.72 7.72c-.78.78-.78 2.05 0 2.83L4 21.41c.39.39.9.59 1.41.59.51 0 1.02-.2 1.41-.59l7.78-7.78 2.81-2.81c.8-.78.8-2.07 0-2.86zM5.41 20L4 18.59l7.72-7.72 1.47 1.35L5.41 20z\"/>\n",
              "  </svg>\n",
              "      </button>\n",
              "      \n",
              "  <style>\n",
              "    .colab-df-container {\n",
              "      display:flex;\n",
              "      flex-wrap:wrap;\n",
              "      gap: 12px;\n",
              "    }\n",
              "\n",
              "    .colab-df-convert {\n",
              "      background-color: #E8F0FE;\n",
              "      border: none;\n",
              "      border-radius: 50%;\n",
              "      cursor: pointer;\n",
              "      display: none;\n",
              "      fill: #1967D2;\n",
              "      height: 32px;\n",
              "      padding: 0 0 0 0;\n",
              "      width: 32px;\n",
              "    }\n",
              "\n",
              "    .colab-df-convert:hover {\n",
              "      background-color: #E2EBFA;\n",
              "      box-shadow: 0px 1px 2px rgba(60, 64, 67, 0.3), 0px 1px 3px 1px rgba(60, 64, 67, 0.15);\n",
              "      fill: #174EA6;\n",
              "    }\n",
              "\n",
              "    [theme=dark] .colab-df-convert {\n",
              "      background-color: #3B4455;\n",
              "      fill: #D2E3FC;\n",
              "    }\n",
              "\n",
              "    [theme=dark] .colab-df-convert:hover {\n",
              "      background-color: #434B5C;\n",
              "      box-shadow: 0px 1px 3px 1px rgba(0, 0, 0, 0.15);\n",
              "      filter: drop-shadow(0px 1px 2px rgba(0, 0, 0, 0.3));\n",
              "      fill: #FFFFFF;\n",
              "    }\n",
              "  </style>\n",
              "\n",
              "      <script>\n",
              "        const buttonEl =\n",
              "          document.querySelector('#df-d2b99f80-04ec-4a84-862e-5ba17339599e button.colab-df-convert');\n",
              "        buttonEl.style.display =\n",
              "          google.colab.kernel.accessAllowed ? 'block' : 'none';\n",
              "\n",
              "        async function convertToInteractive(key) {\n",
              "          const element = document.querySelector('#df-d2b99f80-04ec-4a84-862e-5ba17339599e');\n",
              "          const dataTable =\n",
              "            await google.colab.kernel.invokeFunction('convertToInteractive',\n",
              "                                                     [key], {});\n",
              "          if (!dataTable) return;\n",
              "\n",
              "          const docLinkHtml = 'Like what you see? Visit the ' +\n",
              "            '<a target=\"_blank\" href=https://colab.research.google.com/notebooks/data_table.ipynb>data table notebook</a>'\n",
              "            + ' to learn more about interactive tables.';\n",
              "          element.innerHTML = '';\n",
              "          dataTable['output_type'] = 'display_data';\n",
              "          await google.colab.output.renderOutput(dataTable, element);\n",
              "          const docLink = document.createElement('div');\n",
              "          docLink.innerHTML = docLinkHtml;\n",
              "          element.appendChild(docLink);\n",
              "        }\n",
              "      </script>\n",
              "    </div>\n",
              "  </div>\n",
              "  "
            ],
            "text/plain": [
              "   id                             document\n",
              "0   1                     시간 때우기 좋은 영화 지루함\n",
              "1   2  훈훈한 정이 느껴지는 영화! 가족끼리 드라마 보듯이 보면 딱~!\n",
              "2   3                    Childhood fantasy"
            ]
          },
          "metadata": {},
          "execution_count": 177
        }
      ]
    },
    {
      "cell_type": "code",
      "source": [
        "# train, test 데이터의 shape(모양)\n",
        "print(train.shape)\n",
        "print(test.shape)"
      ],
      "metadata": {
        "colab": {
          "base_uri": "https://localhost:8080/"
        },
        "id": "OobZyi-grAso",
        "outputId": "5804c349-cb46-4d58-ca15-7a47db48dd5d"
      },
      "execution_count": 178,
      "outputs": [
        {
          "output_type": "stream",
          "name": "stdout",
          "text": [
            "(5000, 3)\n",
            "(5000, 2)\n"
          ]
        }
      ]
    },
    {
      "cell_type": "markdown",
      "source": [
        "**[정리]**\n",
        "\n",
        "- train 데이터는 id, document, label 열을 가지고 있고, test 데이터는 id, document 열을 가지고 있습니다.\n",
        "\n",
        "- train 데이터와 test 데이터는 각각 5000개의 리뷰를 가지고 있으며 train 데이터를 이용하여 모형을 학습시키고 test 데이터에 적용하여 label을 찾아내는 대회입니다."
      ],
      "metadata": {
        "id": "nBZKNG0hUVyR"
      }
    },
    {
      "cell_type": "markdown",
      "source": [
        "#### 2. 데이터 정제하기"
      ],
      "metadata": {
        "id": "JwR5db5bqhG8"
      }
    },
    {
      "cell_type": "code",
      "source": [
        "train['document'].nunique(), train['label'].nunique()"
      ],
      "metadata": {
        "colab": {
          "base_uri": "https://localhost:8080/"
        },
        "id": "Nw6M-5OYqhZg",
        "outputId": "a7915cf2-94bf-4f92-e1a5-dc7940501de5"
      },
      "execution_count": 179,
      "outputs": [
        {
          "output_type": "execute_result",
          "data": {
            "text/plain": [
              "(5000, 2)"
            ]
          },
          "metadata": {},
          "execution_count": 179
        }
      ]
    },
    {
      "cell_type": "code",
      "source": [
        "test['document'].nunique()"
      ],
      "metadata": {
        "colab": {
          "base_uri": "https://localhost:8080/"
        },
        "id": "T9ikCq6xqylb",
        "outputId": "ab7f69a9-dd3e-445c-bbbf-85c5d3a629d0"
      },
      "execution_count": 180,
      "outputs": [
        {
          "output_type": "execute_result",
          "data": {
            "text/plain": [
              "4999"
            ]
          },
          "metadata": {},
          "execution_count": 180
        }
      ]
    },
    {
      "cell_type": "markdown",
      "source": [
        "- nunique()는 unique() 함수의 반대로 해석하면 됩니다. unique()는 유일한 값을 추출하는 함수인데 non unique()는 데이터 중복 유무를 확인하여 출력하는 함수입니다.\n",
        "\n",
        "- 여기서 train 데이터는 중복값이 없다는 것을 확인할 수 있습니다. document열에 대하여 5000개의 리뷰가 있기 때문에 출력시 5000개가 나오고 label열에 대하여 긍정/부정 2가지이기 때문에 2개가 나왔습니다.\n",
        "\n",
        "- 그런데 test document열에 대하여 5000개의 리뷰 중 **4999**개가 출력 되었습니다. 이는 **하나의 중복 샘플이 존재한다는 의미**입니다. 하지만 우리는 test 데이터의 결과를 예측하는 문제이기 때문에 제거하지 않고 진행을 할 것입니다. '겹치는 리뷰가 있다' 정도만 알고 넘어가면 될 것 같습니다."
      ],
      "metadata": {
        "id": "LEaIAkU9rQky"
      }
    },
    {
      "cell_type": "code",
      "source": [
        "# label의 분포\n",
        "train['label'].value_counts()"
      ],
      "metadata": {
        "colab": {
          "base_uri": "https://localhost:8080/"
        },
        "id": "6Uw5fpC7sN9F",
        "outputId": "86193668-5574-43b5-a825-5dfa1a98c37b"
      },
      "execution_count": 181,
      "outputs": [
        {
          "output_type": "execute_result",
          "data": {
            "text/plain": [
              "0    2564\n",
              "1    2436\n",
              "Name: label, dtype: int64"
            ]
          },
          "metadata": {},
          "execution_count": 181
        }
      ]
    },
    {
      "cell_type": "code",
      "source": [
        "# label의 분포 시각화\n",
        "train['label'].value_counts().plot(kind='bar')"
      ],
      "metadata": {
        "colab": {
          "base_uri": "https://localhost:8080/",
          "height": 280
        },
        "id": "xoNs3scgsRlL",
        "outputId": "5f173e0e-4b8d-488c-d03f-3223e3d1c211"
      },
      "execution_count": 182,
      "outputs": [
        {
          "output_type": "execute_result",
          "data": {
            "text/plain": [
              "<matplotlib.axes._subplots.AxesSubplot at 0x7fc31a2f8450>"
            ]
          },
          "metadata": {},
          "execution_count": 182
        },
        {
          "output_type": "display_data",
          "data": {
            "image/png": "[encoded data removed]",
            "text/plain": [
              "<Figure size 432x288 with 1 Axes>"
            ]
          },
          "metadata": {
            "needs_background": "light"
          }
        }
      ]
    },
    {
      "cell_type": "markdown",
      "source": [
        "- train 데이터가 가지고 있는 라벨 값의 분포가 크게 차이가 나지 않기 때문에 y값은 따로 건들지 않아도 될 것 같습니다. \n",
        "\n",
        "- 만약에 라벨 값의 분포가 100 : 4900 이렇게 된다면 이는 여러 기법을 가지고 조정을 해야 합니다. 위 내용은 다음 게시글에서 준비해보겠습니다."
      ],
      "metadata": {
        "id": "SPXWXjV7sV47"
      }
    },
    {
      "cell_type": "code",
      "source": [
        "# 결측치 확인\n",
        "train.isnull().sum()"
      ],
      "metadata": {
        "colab": {
          "base_uri": "https://localhost:8080/"
        },
        "id": "WHRSYjIysuDx",
        "outputId": "6d16d979-1ed4-4df6-81ac-9030c76f1ea5"
      },
      "execution_count": 183,
      "outputs": [
        {
          "output_type": "execute_result",
          "data": {
            "text/plain": [
              "id          0\n",
              "document    0\n",
              "label       0\n",
              "dtype: int64"
            ]
          },
          "metadata": {},
          "execution_count": 183
        }
      ]
    },
    {
      "cell_type": "markdown",
      "source": [
        "- null값을 가진 샘플을 제거하기 위해 살펴봤는데 없으므로 넘어갑니다."
      ],
      "metadata": {
        "id": "5SZmt1YPsuhZ"
      }
    },
    {
      "cell_type": "code",
      "source": [
        "train.head()"
      ],
      "metadata": {
        "colab": {
          "base_uri": "https://localhost:8080/",
          "height": 206
        },
        "id": "LYjqRDMdtAIE",
        "outputId": "1890927a-c670-4169-f9b5-2b2f515a0392"
      },
      "execution_count": 184,
      "outputs": [
        {
          "output_type": "execute_result",
          "data": {
            "text/html": [
              "\n",
              "  <div id=\"df-3049676c-819c-4680-b2ec-103e0fa83005\">\n",
              "    <div class=\"colab-df-container\">\n",
              "      <div>\n",
              "<style scoped>\n",
              "    .dataframe tbody tr th:only-of-type {\n",
              "        vertical-align: middle;\n",
              "    }\n",
              "\n",
              "    .dataframe tbody tr th {\n",
              "        vertical-align: top;\n",
              "    }\n",
              "\n",
              "    .dataframe thead th {\n",
              "        text-align: right;\n",
              "    }\n",
              "</style>\n",
              "<table border=\"1\" class=\"dataframe\">\n",
              "  <thead>\n",
              "    <tr style=\"text-align: right;\">\n",
              "      <th></th>\n",
              "      <th>id</th>\n",
              "      <th>document</th>\n",
              "      <th>label</th>\n",
              "    </tr>\n",
              "  </thead>\n",
              "  <tbody>\n",
              "    <tr>\n",
              "      <th>0</th>\n",
              "      <td>1</td>\n",
              "      <td>영상이나 음악이 이쁘다 해도 미화시킨 불륜일뿐</td>\n",
              "      <td>0</td>\n",
              "    </tr>\n",
              "    <tr>\n",
              "      <th>1</th>\n",
              "      <td>2</td>\n",
              "      <td>히치콕이 이 영화를 봤다면 분명 박수를 쳤을듯...</td>\n",
              "      <td>1</td>\n",
              "    </tr>\n",
              "    <tr>\n",
              "      <th>2</th>\n",
              "      <td>3</td>\n",
              "      <td>괜찮은 음악영화가 또 나왔군요!!! 따뜻한 겨울이 될 것 같아요~</td>\n",
              "      <td>1</td>\n",
              "    </tr>\n",
              "    <tr>\n",
              "      <th>3</th>\n",
              "      <td>4</td>\n",
              "      <td>아무래도 20년도지난작품이라 지금보기는너무유치하다</td>\n",
              "      <td>0</td>\n",
              "    </tr>\n",
              "    <tr>\n",
              "      <th>4</th>\n",
              "      <td>5</td>\n",
              "      <td>지금까지의 영화들이 그랬듯. 이 영화역시 일본에 대한 미화는 여전하다.</td>\n",
              "      <td>0</td>\n",
              "    </tr>\n",
              "  </tbody>\n",
              "</table>\n",
              "</div>\n",
              "      <button class=\"colab-df-convert\" onclick=\"convertToInteractive('df-3049676c-819c-4680-b2ec-103e0fa83005')\"\n",
              "              title=\"Convert this dataframe to an interactive table.\"\n",
              "              style=\"display:none;\">\n",
              "        \n",
              "  <svg xmlns=\"http://www.w3.org/2000/svg\" height=\"24px\"viewBox=\"0 0 24 24\"\n",
              "       width=\"24px\">\n",
              "    <path d=\"M0 0h24v24H0V0z\" fill=\"none\"/>\n",
              "    <path d=\"M18.56 5.44l.94 2.06.94-2.06 2.06-.94-2.06-.94-.94-2.06-.94 2.06-2.06.94zm-11 1L8.5 8.5l.94-2.06 2.06-.94-2.06-.94L8.5 2.5l-.94 2.06-2.06.94zm10 10l.94 2.06.94-2.06 2.06-.94-2.06-.94-.94-2.06-.94 2.06-2.06.94z\"/><path d=\"M17.41 7.96l-1.37-1.37c-.4-.4-.92-.59-1.43-.59-.52 0-1.04.2-1.43.59L10.3 9.45l-7.72 7.72c-.78.78-.78 2.05 0 2.83L4 21.41c.39.39.9.59 1.41.59.51 0 1.02-.2 1.41-.59l7.78-7.78 2.81-2.81c.8-.78.8-2.07 0-2.86zM5.41 20L4 18.59l7.72-7.72 1.47 1.35L5.41 20z\"/>\n",
              "  </svg>\n",
              "      </button>\n",
              "      \n",
              "  <style>\n",
              "    .colab-df-container {\n",
              "      display:flex;\n",
              "      flex-wrap:wrap;\n",
              "      gap: 12px;\n",
              "    }\n",
              "\n",
              "    .colab-df-convert {\n",
              "      background-color: #E8F0FE;\n",
              "      border: none;\n",
              "      border-radius: 50%;\n",
              "      cursor: pointer;\n",
              "      display: none;\n",
              "      fill: #1967D2;\n",
              "      height: 32px;\n",
              "      padding: 0 0 0 0;\n",
              "      width: 32px;\n",
              "    }\n",
              "\n",
              "    .colab-df-convert:hover {\n",
              "      background-color: #E2EBFA;\n",
              "      box-shadow: 0px 1px 2px rgba(60, 64, 67, 0.3), 0px 1px 3px 1px rgba(60, 64, 67, 0.15);\n",
              "      fill: #174EA6;\n",
              "    }\n",
              "\n",
              "    [theme=dark] .colab-df-convert {\n",
              "      background-color: #3B4455;\n",
              "      fill: #D2E3FC;\n",
              "    }\n",
              "\n",
              "    [theme=dark] .colab-df-convert:hover {\n",
              "      background-color: #434B5C;\n",
              "      box-shadow: 0px 1px 3px 1px rgba(0, 0, 0, 0.15);\n",
              "      filter: drop-shadow(0px 1px 2px rgba(0, 0, 0, 0.3));\n",
              "      fill: #FFFFFF;\n",
              "    }\n",
              "  </style>\n",
              "\n",
              "      <script>\n",
              "        const buttonEl =\n",
              "          document.querySelector('#df-3049676c-819c-4680-b2ec-103e0fa83005 button.colab-df-convert');\n",
              "        buttonEl.style.display =\n",
              "          google.colab.kernel.accessAllowed ? 'block' : 'none';\n",
              "\n",
              "        async function convertToInteractive(key) {\n",
              "          const element = document.querySelector('#df-3049676c-819c-4680-b2ec-103e0fa83005');\n",
              "          const dataTable =\n",
              "            await google.colab.kernel.invokeFunction('convertToInteractive',\n",
              "                                                     [key], {});\n",
              "          if (!dataTable) return;\n",
              "\n",
              "          const docLinkHtml = 'Like what you see? Visit the ' +\n",
              "            '<a target=\"_blank\" href=https://colab.research.google.com/notebooks/data_table.ipynb>data table notebook</a>'\n",
              "            + ' to learn more about interactive tables.';\n",
              "          element.innerHTML = '';\n",
              "          dataTable['output_type'] = 'display_data';\n",
              "          await google.colab.output.renderOutput(dataTable, element);\n",
              "          const docLink = document.createElement('div');\n",
              "          docLink.innerHTML = docLinkHtml;\n",
              "          element.appendChild(docLink);\n",
              "        }\n",
              "      </script>\n",
              "    </div>\n",
              "  </div>\n",
              "  "
            ],
            "text/plain": [
              "   id                                 document  label\n",
              "0   1                영상이나 음악이 이쁘다 해도 미화시킨 불륜일뿐      0\n",
              "1   2             히치콕이 이 영화를 봤다면 분명 박수를 쳤을듯...      1\n",
              "2   3     괜찮은 음악영화가 또 나왔군요!!! 따뜻한 겨울이 될 것 같아요~      1\n",
              "3   4              아무래도 20년도지난작품이라 지금보기는너무유치하다      0\n",
              "4   5  지금까지의 영화들이 그랬듯. 이 영화역시 일본에 대한 미화는 여전하다.      0"
            ]
          },
          "metadata": {},
          "execution_count": 184
        }
      ]
    },
    {
      "cell_type": "markdown",
      "source": [
        "- 아이디 3번에 '**!!!**' 처럼 각종 특수문자가 사용된 것이 확인됩니다. 따라서 한글만 남기고 제거하기 위해 정규표현식을 이용하여 나타내어 보겠습니다.\n",
        "\n",
        "- 정규표현식은 특정한 규칙을 가진 문자열의 집합을 표현하는데 사용하는 형식 언어입니다.(위키백과)\n",
        "\n",
        "- 우리는 위 리뷰에서 모/자음만 있는 한글과 공백을 추려내는 정규식을 사용하여 쉽게 추출, 제거해보겠습니다.\n",
        "\n",
        "- 한글 코드 범위는 다음과 같습니다.\n",
        "\n",
        "|한글|코드 범위|\n",
        "|------|---|\n",
        "|ㄱ ~ ㅎ|0x3131 ~ 0x314e|\n",
        "|ㅏ ~ ㅣ|0x314f ~ 0x3163|\n",
        "|가 ~ 힣|0xac00 ~ 0xd7a3|\n",
        "\n"
      ],
      "metadata": {
        "id": "V3XUTFWftAZ3"
      }
    },
    {
      "cell_type": "code",
      "source": [
        "train['document'] = train['document'].str.replace(\"[^ㄱ-ㅎㅏ-ㅣ가-힣 ]\",\"\")"
      ],
      "metadata": {
        "id": "aRGzdczNtAjm"
      },
      "execution_count": 185,
      "outputs": []
    },
    {
      "cell_type": "code",
      "source": [
        "train.head()"
      ],
      "metadata": {
        "colab": {
          "base_uri": "https://localhost:8080/",
          "height": 206
        },
        "id": "uBqzQnKFtAmC",
        "outputId": "7f05db38-d0d5-47cd-90d0-cd1877e772fe"
      },
      "execution_count": 186,
      "outputs": [
        {
          "output_type": "execute_result",
          "data": {
            "text/html": [
              "\n",
              "  <div id=\"df-1056989a-6b19-46fe-ae12-f47d90b3ce5a\">\n",
              "    <div class=\"colab-df-container\">\n",
              "      <div>\n",
              "<style scoped>\n",
              "    .dataframe tbody tr th:only-of-type {\n",
              "        vertical-align: middle;\n",
              "    }\n",
              "\n",
              "    .dataframe tbody tr th {\n",
              "        vertical-align: top;\n",
              "    }\n",
              "\n",
              "    .dataframe thead th {\n",
              "        text-align: right;\n",
              "    }\n",
              "</style>\n",
              "<table border=\"1\" class=\"dataframe\">\n",
              "  <thead>\n",
              "    <tr style=\"text-align: right;\">\n",
              "      <th></th>\n",
              "      <th>id</th>\n",
              "      <th>document</th>\n",
              "      <th>label</th>\n",
              "    </tr>\n",
              "  </thead>\n",
              "  <tbody>\n",
              "    <tr>\n",
              "      <th>0</th>\n",
              "      <td>1</td>\n",
              "      <td>영상이나 음악이 이쁘다 해도 미화시킨 불륜일뿐</td>\n",
              "      <td>0</td>\n",
              "    </tr>\n",
              "    <tr>\n",
              "      <th>1</th>\n",
              "      <td>2</td>\n",
              "      <td>히치콕이 이 영화를 봤다면 분명 박수를 쳤을듯</td>\n",
              "      <td>1</td>\n",
              "    </tr>\n",
              "    <tr>\n",
              "      <th>2</th>\n",
              "      <td>3</td>\n",
              "      <td>괜찮은 음악영화가 또 나왔군요 따뜻한 겨울이 될 것 같아요</td>\n",
              "      <td>1</td>\n",
              "    </tr>\n",
              "    <tr>\n",
              "      <th>3</th>\n",
              "      <td>4</td>\n",
              "      <td>아무래도 년도지난작품이라 지금보기는너무유치하다</td>\n",
              "      <td>0</td>\n",
              "    </tr>\n",
              "    <tr>\n",
              "      <th>4</th>\n",
              "      <td>5</td>\n",
              "      <td>지금까지의 영화들이 그랬듯 이 영화역시 일본에 대한 미화는 여전하다</td>\n",
              "      <td>0</td>\n",
              "    </tr>\n",
              "  </tbody>\n",
              "</table>\n",
              "</div>\n",
              "      <button class=\"colab-df-convert\" onclick=\"convertToInteractive('df-1056989a-6b19-46fe-ae12-f47d90b3ce5a')\"\n",
              "              title=\"Convert this dataframe to an interactive table.\"\n",
              "              style=\"display:none;\">\n",
              "        \n",
              "  <svg xmlns=\"http://www.w3.org/2000/svg\" height=\"24px\"viewBox=\"0 0 24 24\"\n",
              "       width=\"24px\">\n",
              "    <path d=\"M0 0h24v24H0V0z\" fill=\"none\"/>\n",
              "    <path d=\"M18.56 5.44l.94 2.06.94-2.06 2.06-.94-2.06-.94-.94-2.06-.94 2.06-2.06.94zm-11 1L8.5 8.5l.94-2.06 2.06-.94-2.06-.94L8.5 2.5l-.94 2.06-2.06.94zm10 10l.94 2.06.94-2.06 2.06-.94-2.06-.94-.94-2.06-.94 2.06-2.06.94z\"/><path d=\"M17.41 7.96l-1.37-1.37c-.4-.4-.92-.59-1.43-.59-.52 0-1.04.2-1.43.59L10.3 9.45l-7.72 7.72c-.78.78-.78 2.05 0 2.83L4 21.41c.39.39.9.59 1.41.59.51 0 1.02-.2 1.41-.59l7.78-7.78 2.81-2.81c.8-.78.8-2.07 0-2.86zM5.41 20L4 18.59l7.72-7.72 1.47 1.35L5.41 20z\"/>\n",
              "  </svg>\n",
              "      </button>\n",
              "      \n",
              "  <style>\n",
              "    .colab-df-container {\n",
              "      display:flex;\n",
              "      flex-wrap:wrap;\n",
              "      gap: 12px;\n",
              "    }\n",
              "\n",
              "    .colab-df-convert {\n",
              "      background-color: #E8F0FE;\n",
              "      border: none;\n",
              "      border-radius: 50%;\n",
              "      cursor: pointer;\n",
              "      display: none;\n",
              "      fill: #1967D2;\n",
              "      height: 32px;\n",
              "      padding: 0 0 0 0;\n",
              "      width: 32px;\n",
              "    }\n",
              "\n",
              "    .colab-df-convert:hover {\n",
              "      background-color: #E2EBFA;\n",
              "      box-shadow: 0px 1px 2px rgba(60, 64, 67, 0.3), 0px 1px 3px 1px rgba(60, 64, 67, 0.15);\n",
              "      fill: #174EA6;\n",
              "    }\n",
              "\n",
              "    [theme=dark] .colab-df-convert {\n",
              "      background-color: #3B4455;\n",
              "      fill: #D2E3FC;\n",
              "    }\n",
              "\n",
              "    [theme=dark] .colab-df-convert:hover {\n",
              "      background-color: #434B5C;\n",
              "      box-shadow: 0px 1px 3px 1px rgba(0, 0, 0, 0.15);\n",
              "      filter: drop-shadow(0px 1px 2px rgba(0, 0, 0, 0.3));\n",
              "      fill: #FFFFFF;\n",
              "    }\n",
              "  </style>\n",
              "\n",
              "      <script>\n",
              "        const buttonEl =\n",
              "          document.querySelector('#df-1056989a-6b19-46fe-ae12-f47d90b3ce5a button.colab-df-convert');\n",
              "        buttonEl.style.display =\n",
              "          google.colab.kernel.accessAllowed ? 'block' : 'none';\n",
              "\n",
              "        async function convertToInteractive(key) {\n",
              "          const element = document.querySelector('#df-1056989a-6b19-46fe-ae12-f47d90b3ce5a');\n",
              "          const dataTable =\n",
              "            await google.colab.kernel.invokeFunction('convertToInteractive',\n",
              "                                                     [key], {});\n",
              "          if (!dataTable) return;\n",
              "\n",
              "          const docLinkHtml = 'Like what you see? Visit the ' +\n",
              "            '<a target=\"_blank\" href=https://colab.research.google.com/notebooks/data_table.ipynb>data table notebook</a>'\n",
              "            + ' to learn more about interactive tables.';\n",
              "          element.innerHTML = '';\n",
              "          dataTable['output_type'] = 'display_data';\n",
              "          await google.colab.output.renderOutput(dataTable, element);\n",
              "          const docLink = document.createElement('div');\n",
              "          docLink.innerHTML = docLinkHtml;\n",
              "          element.appendChild(docLink);\n",
              "        }\n",
              "      </script>\n",
              "    </div>\n",
              "  </div>\n",
              "  "
            ],
            "text/plain": [
              "   id                               document  label\n",
              "0   1              영상이나 음악이 이쁘다 해도 미화시킨 불륜일뿐      0\n",
              "1   2              히치콕이 이 영화를 봤다면 분명 박수를 쳤을듯      1\n",
              "2   3       괜찮은 음악영화가 또 나왔군요 따뜻한 겨울이 될 것 같아요      1\n",
              "3   4              아무래도 년도지난작품이라 지금보기는너무유치하다      0\n",
              "4   5  지금까지의 영화들이 그랬듯 이 영화역시 일본에 대한 미화는 여전하다      0"
            ]
          },
          "metadata": {},
          "execution_count": 186
        }
      ]
    },
    {
      "cell_type": "markdown",
      "source": [
        "- id 3번에 '**!!!**'이 제거된 것을 확인할 수 있습니다. 동일하게 test 데이터에도 적용하겠습니다."
      ],
      "metadata": {
        "id": "40ENZD6PtZih"
      }
    },
    {
      "cell_type": "code",
      "source": [
        "test['document'] = test['document'].str.replace(\"[^ㄱ-ㅎㅏ-ㅣ가-힣 ]\",\"\")"
      ],
      "metadata": {
        "id": "_twz6yI-tZCG"
      },
      "execution_count": 187,
      "outputs": []
    },
    {
      "cell_type": "markdown",
      "source": [
        "#### 3. 토큰화\n",
        "\n",
        "- 자연어 처리에서 전처리되지 않은 상태라면 해당 데이터를 용도에 맞게 전처리를 해야합니다. 전처리 기법 중 토큰화는 토큰(token)이라 불리는 단위로 나누는 작업입니다.\n",
        "\n",
        "- 위 단계에서는 토큰화 과정에서 불용어를 제거해보겠습니다. 불용어란 의미가 없는 단어를 의미합니다. 사용자 정의에 따라 더 다양한 불용어를 사용할 수 있습니다.\n"
      ],
      "metadata": {
        "id": "OvMtMSbEt0Tv"
      }
    },
    {
      "cell_type": "code",
      "source": [
        "stopwords = ['의','가','이','은','들','는','좀','잘','걍','과','도','를','으로','자','에','와','한','하다']"
      ],
      "metadata": {
        "id": "ZB7UipdAt0lw"
      },
      "execution_count": 188,
      "outputs": []
    },
    {
      "cell_type": "markdown",
      "source": [
        "- 파이썬 한국어 형태소 분석 패키지인 KoNLPy가 있는데 이 안에 여러 종류의 한국어 형태소 분석기가 있습니다. 그 중에 OKt 형태소 분석기를 사용하여 제거합니다.\n",
        "\n",
        "-  OKt(Open Korean Text)는 트위터에서 만든 오픈소스 한국어 처리기인 twitter-korean-text를 이어받아 만들고 있는 프로젝트라고 합니다. 형태소 분석기 중에선 시간이 빠르진 않지만 합리적인 시간을 가지고 있어서 자주 사용된다고 합니다."
      ],
      "metadata": {
        "id": "77qG-bdszVqe"
      }
    },
    {
      "cell_type": "code",
      "source": [
        "# 패키지 설치\n",
        "!pip install konlpy"
      ],
      "metadata": {
        "colab": {
          "base_uri": "https://localhost:8080/"
        },
        "id": "4BnRyAQdz6LX",
        "outputId": "ea501ce8-daf5-4f45-df6f-60c09cb40b1e"
      },
      "execution_count": 189,
      "outputs": [
        {
          "output_type": "stream",
          "name": "stdout",
          "text": [
            "Requirement already satisfied: konlpy in /usr/local/lib/python3.7/dist-packages (0.6.0)\n",
            "Requirement already satisfied: JPype1>=0.7.0 in /usr/local/lib/python3.7/dist-packages (from konlpy) (1.3.0)\n",
            "Requirement already satisfied: numpy>=1.6 in /usr/local/lib/python3.7/dist-packages (from konlpy) (1.19.5)\n",
            "Requirement already satisfied: lxml>=4.1.0 in /usr/local/lib/python3.7/dist-packages (from konlpy) (4.2.6)\n",
            "Requirement already satisfied: typing-extensions in /usr/local/lib/python3.7/dist-packages (from JPype1>=0.7.0->konlpy) (3.10.0.2)\n"
          ]
        }
      ]
    },
    {
      "cell_type": "code",
      "source": [
        "from tqdm import tqdm\n",
        "from konlpy.tag import Okt\n",
        "X_train = [] # 리스트 생성\n",
        "okt = Okt() # 형태소 분석기 정의\n",
        "for sentence in tqdm(train['document']): # document 문장을 가져와서\n",
        "    tokenized_sentence = okt.morphs(sentence, stem=True) # 토큰화\n",
        "    stopwords_removed_sentence = [word for word in tokenized_sentence if not word in stopwords] # 불용어 제거\n",
        "    X_train.append(stopwords_removed_sentence) # 리스트 안에 append"
      ],
      "metadata": {
        "colab": {
          "base_uri": "https://localhost:8080/"
        },
        "id": "yLjaR6iVt0oT",
        "outputId": "fb137be1-4929-490e-bbed-c42b3d245775"
      },
      "execution_count": 190,
      "outputs": [
        {
          "output_type": "stream",
          "name": "stderr",
          "text": [
            "100%|██████████| 5000/5000 [00:15<00:00, 323.28it/s]\n"
          ]
        }
      ]
    },
    {
      "cell_type": "code",
      "source": [
        "# 잘 제거 되었는지 확인\n",
        "print(X_train[:3])"
      ],
      "metadata": {
        "colab": {
          "base_uri": "https://localhost:8080/"
        },
        "id": "WV-Lkqsjt0qr",
        "outputId": "f4557347-d5ba-4d36-92ef-662f5d54d5ea"
      },
      "execution_count": 191,
      "outputs": [
        {
          "output_type": "stream",
          "name": "stdout",
          "text": [
            "[['영상', '이나', '음악', '이쁘다', '해도', '미화', '시키다', '불륜', '일', '뿐'], ['히치콕', '영화', '보다', '분명', '박수', '치다'], ['괜찮다', '음악', '영화', '또', '나오다', '따뜻하다', '겨울', '되다', '것', '같다']]\n"
          ]
        }
      ]
    },
    {
      "cell_type": "code",
      "source": [
        "# test 데이터에도 같은 작업 반복\n",
        "X_test = []\n",
        "for sentence in tqdm(test['document']):\n",
        "    tokenized_sentence = okt.morphs(sentence, stem=True) # 토큰화\n",
        "    stopwords_removed_sentence = [word for word in tokenized_sentence if not word in stopwords] # 불용어 제거\n",
        "    X_test.append(stopwords_removed_sentence)"
      ],
      "metadata": {
        "colab": {
          "base_uri": "https://localhost:8080/"
        },
        "id": "InY8vuNht0si",
        "outputId": "ec71a127-50d0-4da3-bedf-72f7ea9414cb"
      },
      "execution_count": 192,
      "outputs": [
        {
          "output_type": "stream",
          "name": "stderr",
          "text": [
            "100%|██████████| 5000/5000 [00:15<00:00, 318.41it/s]\n"
          ]
        }
      ]
    },
    {
      "cell_type": "markdown",
      "source": [
        "#### 4. 정수 인코딩\n",
        "\n",
        "- 숫자로 처리할 수 있도록 정수 인코딩(encoding)을 진행해보겠습니다.\n",
        "\n",
        "-  정수 인코딩이란 텍스트를 숫자로 바꾸는 기법입니다. 우리는 텍스트를 보고 부정/긍정을 빠르게 파악할 수 있지만 인공지능은 파악하기 어렵기 때문에 텍스트를 정수에 매핑시키는 기법입니다. \n",
        "\n",
        "- 우선 데이터에 대해 단어 집합을 만들어야 합니다."
      ],
      "metadata": {
        "id": "osJR-hFK0ZhS"
      }
    },
    {
      "cell_type": "code",
      "source": [
        "from tensorflow.keras.preprocessing.text import Tokenizer\n",
        "from tensorflow.keras.preprocessing.sequence import pad_sequences\n",
        "tokenizer = Tokenizer() # 토큰화\n",
        "tokenizer.fit_on_texts(X_train) # 단어 인덱스 구축"
      ],
      "metadata": {
        "id": "yYmv8fDnt0uk"
      },
      "execution_count": 193,
      "outputs": []
    },
    {
      "cell_type": "code",
      "source": [
        "# 단어 mapping 기준은 단어 빈도수\n",
        "#print(tokenizer.word_index)"
      ],
      "metadata": {
        "id": "j-GmOURIt0wr"
      },
      "execution_count": 197,
      "outputs": []
    },
    {
      "cell_type": "markdown",
      "source": [
        "- 단어 집합을 생성하면서 단어에 고유 정수가 붙었습니다. 이를 word_index를 통해 출력하면 고유 정수가 무엇인지 알 수 있습니다.\n",
        "\n",
        "- 각 정수는 전체 데이터에서 등장 빈도가 높은 순서대로 부여되었습니다. 따라서 위 5000개의 리뷰 중에 '영화' 단어가 가장 많이 나왔다는 것을 확인할 수 있습니다.\n",
        "\n",
        "\n",
        "- 이제는 등장 빈도수가 낮은 단어가 얼마나 있는지 파악하고 제거 여부를 생각해봅시다."
      ],
      "metadata": {
        "id": "G3S9wCeY0uZS"
      }
    },
    {
      "cell_type": "code",
      "source": [
        "threshold = 3\n",
        "total_cnt = len(tokenizer.word_index) # 단어의 수 = 6648개\n",
        "rare_cnt = 0 # 등장 빈도수가 threshold보다 작은 단어의 개수를 카운트\n",
        "total_freq = 0 # 훈련 데이터의 전체 단어 빈도수 총 합\n",
        "rare_freq = 0 # 등장 빈도수가 threshold보다 작은 단어의 등장 빈도수의 총 합\n",
        "\n",
        "# 단어와 빈도수의 쌍(pair)을 key와 value로 받는다.\n",
        "for key, value in tokenizer.word_counts.items():\n",
        "    total_freq = total_freq + value \n",
        "\n",
        "    # 단어의 등장 빈도수가 threshold보다 작으면\n",
        "    if(value < threshold):\n",
        "        rare_cnt = rare_cnt + 1 # 카운트\n",
        "        rare_freq = rare_freq + value\n",
        "\n",
        "print('단어 집합(vocabulary)의 크기 :',total_cnt)\n",
        "print('등장 빈도가 %s번 이하인 희귀 단어의 수: %s'%(threshold - 1, rare_cnt))\n",
        "print(\"단어 집합에서 희귀 단어의 비율:\", (rare_cnt / total_cnt)*100)\n",
        "print(\"전체 등장 빈도에서 희귀 단어 등장 빈도 비율:\", (rare_freq / total_freq)*100)"
      ],
      "metadata": {
        "colab": {
          "base_uri": "https://localhost:8080/"
        },
        "id": "OI2Zjn2V1GPL",
        "outputId": "8e31edc0-f6eb-4cb8-f613-098f6a48267d"
      },
      "execution_count": 198,
      "outputs": [
        {
          "output_type": "stream",
          "name": "stdout",
          "text": [
            "단어 집합(vocabulary)의 크기 : 6648\n",
            "등장 빈도가 2번 이하인 희귀 단어의 수: 4640\n",
            "단어 집합에서 희귀 단어의 비율: 69.79542719614922\n",
            "전체 등장 빈도에서 희귀 단어 등장 빈도 비율: 13.715559648145007\n"
          ]
        }
      ]
    },
    {
      "cell_type": "markdown",
      "source": [
        "- 전체 등장 빈도에서 2번 이하인 희귀 단어 등장 빈도 비율이 13%나 되기 때문에 우리는 등장 빈도가 낮은 친구들을 삭제하지 않겠습니다. 삭제하면 많은 데이터가 삭제되기 때문입니다."
      ],
      "metadata": {
        "id": "GoUAnLWm1Re8"
      }
    },
    {
      "cell_type": "code",
      "source": [
        "# 아무것도 삭제 안할거라서 크기는 그대로!\n",
        "vocab_size = total_cnt\n",
        "print('단어 집합의 크기 :',vocab_size)"
      ],
      "metadata": {
        "id": "yoAd4Nr3dM3w",
        "colab": {
          "base_uri": "https://localhost:8080/"
        },
        "outputId": "df2e4a08-56a6-4c23-b5e9-d33b000e7da4"
      },
      "execution_count": 199,
      "outputs": [
        {
          "output_type": "stream",
          "name": "stdout",
          "text": [
            "단어 집합의 크기 : 6648\n"
          ]
        }
      ]
    },
    {
      "cell_type": "markdown",
      "source": [
        "- texts_to_sequences를 이용하여 정수 시퀀스로 변환을 하겠습니다."
      ],
      "metadata": {
        "id": "bOneIv3HdUfz"
      }
    },
    {
      "cell_type": "code",
      "source": [
        "tokenizer = Tokenizer(vocab_size) \n",
        "tokenizer.fit_on_texts(X_train)\n",
        "X_train = tokenizer.texts_to_sequences(X_train)\n",
        "X_train[:3]"
      ],
      "metadata": {
        "colab": {
          "base_uri": "https://localhost:8080/"
        },
        "id": "XM6dXycK1GR2",
        "outputId": "e870413c-d4a6-4892-8b51-ce094a17ec6f"
      },
      "execution_count": 200,
      "outputs": [
        {
          "output_type": "execute_result",
          "data": {
            "text/plain": [
              "[[256, 192, 182, 238, 619, 929, 329, 930, 196, 151],\n",
              " [2009, 1, 2, 746, 931, 377],\n",
              " [148, 182, 1, 116, 25, 218, 1560, 16, 30, 21]]"
            ]
          },
          "metadata": {},
          "execution_count": 200
        }
      ]
    },
    {
      "cell_type": "code",
      "source": [
        "X_test = tokenizer.texts_to_sequences(X_test)\n",
        "X_test[:3]"
      ],
      "metadata": {
        "colab": {
          "base_uri": "https://localhost:8080/"
        },
        "id": "A1t3hIGW1GUb",
        "outputId": "938074d3-17c1-4709-dd95-05ac2209790f"
      },
      "execution_count": 201,
      "outputs": [
        {
          "output_type": "execute_result",
          "data": {
            "text/plain": [
              "[[42, 723, 7, 1, 321], [791, 1204, 361, 1, 458, 1670, 47, 2, 2, 406], []]"
            ]
          },
          "metadata": {},
          "execution_count": 201
        }
      ]
    },
    {
      "cell_type": "markdown",
      "source": [
        "- 정수 인코딩 형식으로 잘 바뀐 것을 확인할 수 있습니다."
      ],
      "metadata": {
        "id": "-J1nL4x_13ZA"
      }
    },
    {
      "cell_type": "code",
      "source": [
        "print(len(X_train))"
      ],
      "metadata": {
        "colab": {
          "base_uri": "https://localhost:8080/"
        },
        "id": "fUoExpZX1GW9",
        "outputId": "bb01a96d-7f77-486d-c8d7-2696181d613b"
      },
      "execution_count": 202,
      "outputs": [
        {
          "output_type": "stream",
          "name": "stdout",
          "text": [
            "5000\n"
          ]
        }
      ]
    },
    {
      "cell_type": "code",
      "source": [
        "print(len(X_test))"
      ],
      "metadata": {
        "colab": {
          "base_uri": "https://localhost:8080/"
        },
        "id": "vVMvtUTb1GZp",
        "outputId": "47456d8b-509e-4bd2-d123-57e50357f640"
      },
      "execution_count": 203,
      "outputs": [
        {
          "output_type": "stream",
          "name": "stdout",
          "text": [
            "5000\n"
          ]
        }
      ]
    },
    {
      "cell_type": "markdown",
      "source": [
        "굳"
      ],
      "metadata": {
        "id": "CHoXn5i83L5w"
      }
    },
    {
      "cell_type": "markdown",
      "source": [
        "#### 6. 패딩\n",
        "\n",
        "- 서로 다른 길이의 샘플들의 길이를 동일하게 맞취주는 것을 패딩이라고 합니다. \n",
        "\n",
        "- 이미지를 다루는 딥러닝에서는 패딩을 이용하여 이미지에 마치 패딩을 입은 것처럼 0 또는 지정 숫자를 둘러주어 정보의 손실을 막습니다."
      ],
      "metadata": {
        "id": "E5il_B0T3Oz0"
      }
    },
    {
      "cell_type": "code",
      "source": [
        "print(\"가장 긴 리뷰의 길이\", max(len(review) for review in X_train))\n",
        "print(\"리뷰의 평균 길이\", sum(map(len, X_train))/len(X_train))"
      ],
      "metadata": {
        "colab": {
          "base_uri": "https://localhost:8080/"
        },
        "id": "e_vwzaSX3MFM",
        "outputId": "374b55d2-18ac-472b-c457-bc161face13d"
      },
      "execution_count": 204,
      "outputs": [
        {
          "output_type": "stream",
          "name": "stdout",
          "text": [
            "가장 긴 리뷰의 길이 19\n",
            "리뷰의 평균 길이 8.2532\n"
          ]
        }
      ]
    },
    {
      "cell_type": "code",
      "source": [
        "# train 데이터의 리뷰의 길이 시각화\n",
        "import matplotlib.pyplot as plt\n",
        "plt.hist([len(review) for review in X_train], bins=50)\n",
        "plt.xlabel('length of samples')\n",
        "plt.ylabel('number of samples')\n",
        "plt.show()"
      ],
      "metadata": {
        "colab": {
          "base_uri": "https://localhost:8080/",
          "height": 279
        },
        "id": "qm5o9flMQ6JA",
        "outputId": "45e591c0-281b-40c6-cfe3-fd3b307e5e95"
      },
      "execution_count": 205,
      "outputs": [
        {
          "output_type": "display_data",
          "data": {
            "image/png": "[encoded data removed]",
            "text/plain": [
              "<Figure size 432x288 with 1 Axes>"
            ]
          },
          "metadata": {
            "needs_background": "light"
          }
        }
      ]
    },
    {
      "cell_type": "code",
      "source": [
        "# train 데이터의 길이 출력\n",
        "#for i in range(len(X_train)):\n",
        "  #print(len(X_train[i]))"
      ],
      "metadata": {
        "id": "C-CnWhQL3MHf"
      },
      "execution_count": 206,
      "outputs": []
    },
    {
      "cell_type": "code",
      "source": [
        "# 전체 샘플 중 길이가 %s 이하인 샘플의 비율 함수 정의\n",
        "def below_threshold_len(max_len, nested_list):\n",
        "  count = 0\n",
        "  for sentence in nested_list:\n",
        "    if(len(sentence) <= max_len):\n",
        "        count = count + 1\n",
        "  print('전체 샘플 중 길이가 %s 이하인 샘플의 비율: %s'%(max_len, (count / len(nested_list))*100))"
      ],
      "metadata": {
        "id": "x9kNkFI-3MLg"
      },
      "execution_count": 207,
      "outputs": []
    },
    {
      "cell_type": "code",
      "source": [
        "max_len = 15 # 임의로 설정해줌\n",
        "below_threshold_len(max_len, X_train)"
      ],
      "metadata": {
        "id": "FmRxzb18eY0j",
        "colab": {
          "base_uri": "https://localhost:8080/"
        },
        "outputId": "a0f6412f-2a40-43ee-943a-4c5e81752cfe"
      },
      "execution_count": 208,
      "outputs": [
        {
          "output_type": "stream",
          "name": "stdout",
          "text": [
            "전체 샘플 중 길이가 15 이하인 샘플의 비율: 98.98\n"
          ]
        }
      ]
    },
    {
      "cell_type": "markdown",
      "source": [
        "- 샘플 중 길이가 15 이하인 샘플의 비율이 98%나 되기 때문에 15로 길이를 맞춰주어 패딩하겠습니다."
      ],
      "metadata": {
        "id": "mMQZkUyaRdSw"
      }
    },
    {
      "cell_type": "code",
      "source": [
        "X_train = pad_sequences(X_train, maxlen=max_len)\n",
        "X_test = pad_sequences(X_test, maxlen=max_len)"
      ],
      "metadata": {
        "id": "anm_6ZbcfUOU"
      },
      "execution_count": 209,
      "outputs": []
    },
    {
      "cell_type": "code",
      "source": [
        "y_train = train['label']"
      ],
      "metadata": {
        "id": "Yn_iqMDjhlnq"
      },
      "execution_count": 210,
      "outputs": []
    },
    {
      "cell_type": "code",
      "source": [
        "print(X_train.shape)\n",
        "print(X_test.shape)"
      ],
      "metadata": {
        "colab": {
          "base_uri": "https://localhost:8080/"
        },
        "id": "RJROXZuef1o8",
        "outputId": "9896f681-f7b6-4c2b-94cd-694215d51128"
      },
      "execution_count": 211,
      "outputs": [
        {
          "output_type": "stream",
          "name": "stdout",
          "text": [
            "(5000, 15)\n",
            "(5000, 15)\n"
          ]
        }
      ]
    },
    {
      "cell_type": "code",
      "source": [
        "X_train[:3]"
      ],
      "metadata": {
        "colab": {
          "base_uri": "https://localhost:8080/"
        },
        "id": "BFLYaMQLf835",
        "outputId": "9d76de20-050f-4e24-8a65-c2f6c71c60ba"
      },
      "execution_count": 212,
      "outputs": [
        {
          "output_type": "execute_result",
          "data": {
            "text/plain": [
              "array([[   0,    0,    0,    0,    0,  256,  192,  182,  238,  619,  929,\n",
              "         329,  930,  196,  151],\n",
              "       [   0,    0,    0,    0,    0,    0,    0,    0,    0, 2009,    1,\n",
              "           2,  746,  931,  377],\n",
              "       [   0,    0,    0,    0,    0,  148,  182,    1,  116,   25,  218,\n",
              "        1560,   16,   30,   21]], dtype=int32)"
            ]
          },
          "metadata": {},
          "execution_count": 212
        }
      ]
    },
    {
      "cell_type": "markdown",
      "source": [
        "- 다음 X_train[:3]를 살펴봤을때 길이가 15개가 안되는 리뷰에 대하여 패딩을 수행하여 0으로 채워져 있는 것을 확인할 수 있다."
      ],
      "metadata": {
        "id": "kdB6X0-CgCcI"
      }
    },
    {
      "cell_type": "markdown",
      "source": [
        "#### 7. 모델링\n",
        "\n",
        "- 전처리 작업은 이정도로 하고 모델링을 통해 결과를 도출해보겠습니다."
      ],
      "metadata": {
        "id": "Jr9cqx-7gbfp"
      }
    },
    {
      "cell_type": "markdown",
      "source": [
        "**7-1) 간단한 LSTM**"
      ],
      "metadata": {
        "id": "j3cHzCQ5kzn3"
      }
    },
    {
      "cell_type": "code",
      "source": [
        "import numpy as np\n",
        "import matplotlib.pyplot as plt\n",
        "import pandas as pd\n",
        "import os.path as osp\n",
        "from konlpy.tag import Okt\n",
        "import re\n",
        "\n",
        "from tensorflow.keras.preprocessing.text import Tokenizer\n",
        "from tensorflow.keras.preprocessing.sequence import pad_sequences\n",
        "from tensorflow.keras.layers import Embedding, Dense, LSTM\n",
        "from tensorflow.keras.models import Sequential\n",
        "from tensorflow.keras.models import load_model\n",
        "from tensorflow.keras.callbacks import EarlyStopping, ModelCheckpoint"
      ],
      "metadata": {
        "id": "U_x76guwSjgY"
      },
      "execution_count": 213,
      "outputs": []
    },
    {
      "cell_type": "code",
      "source": [
        "embedding_dim = 100\n",
        "hidden_units = 128\n",
        "\n",
        "model = Sequential()\n",
        "model.add(Embedding(vocab_size, embedding_dim))\n",
        "model.add(LSTM(hidden_units))\n",
        "model.add(Dense(1, activation='sigmoid'))\n",
        "\n",
        "es = EarlyStopping(monitor='val_loss', mode='min', verbose=1, patience=4)\n",
        "mc = ModelCheckpoint('best_model.h5', monitor='val_acc', mode='max', verbose=1, save_best_only=True)\n",
        "model.compile(optimizer='rmsprop', loss='binary_crossentropy', metrics=['acc'])\n",
        "history = model.fit(X_train, y_train, epochs=15, callbacks=[es, mc], batch_size=12, validation_split=0.2)"
      ],
      "metadata": {
        "id": "gWFRzkJwokz_",
        "colab": {
          "base_uri": "https://localhost:8080/"
        },
        "outputId": "c9d0c160-ff36-446b-9d19-0cbc66f6f792"
      },
      "execution_count": 214,
      "outputs": [
        {
          "output_type": "stream",
          "name": "stdout",
          "text": [
            "Epoch 1/15\n",
            "334/334 [==============================] - ETA: 0s - loss: 0.4575 - acc: 0.7775\n",
            "Epoch 00001: val_acc improved from -inf to 0.83900, saving model to best_model.h5\n",
            "334/334 [==============================] - 10s 23ms/step - loss: 0.4575 - acc: 0.7775 - val_loss: 0.3693 - val_acc: 0.8390\n",
            "Epoch 2/15\n",
            "334/334 [==============================] - ETA: 0s - loss: 0.2439 - acc: 0.9060\n",
            "Epoch 00002: val_acc improved from 0.83900 to 0.85200, saving model to best_model.h5\n",
            "334/334 [==============================] - 8s 23ms/step - loss: 0.2439 - acc: 0.9060 - val_loss: 0.3757 - val_acc: 0.8520\n",
            "Epoch 3/15\n",
            "333/334 [============================>.] - ETA: 0s - loss: 0.1854 - acc: 0.9294\n",
            "Epoch 00003: val_acc improved from 0.85200 to 0.85400, saving model to best_model.h5\n",
            "334/334 [==============================] - 8s 23ms/step - loss: 0.1858 - acc: 0.9293 - val_loss: 0.3584 - val_acc: 0.8540\n",
            "Epoch 4/15\n",
            "334/334 [==============================] - ETA: 0s - loss: 0.1543 - acc: 0.9402\n",
            "Epoch 00004: val_acc improved from 0.85400 to 0.85700, saving model to best_model.h5\n",
            "334/334 [==============================] - 8s 23ms/step - loss: 0.1543 - acc: 0.9402 - val_loss: 0.4446 - val_acc: 0.8570\n",
            "Epoch 5/15\n",
            "333/334 [============================>.] - ETA: 0s - loss: 0.1320 - acc: 0.9510\n",
            "Epoch 00005: val_acc did not improve from 0.85700\n",
            "334/334 [==============================] - 7s 21ms/step - loss: 0.1318 - acc: 0.9510 - val_loss: 0.3899 - val_acc: 0.8540\n",
            "Epoch 6/15\n",
            "334/334 [==============================] - ETA: 0s - loss: 0.1181 - acc: 0.9542\n",
            "Epoch 00006: val_acc did not improve from 0.85700\n",
            "334/334 [==============================] - 7s 21ms/step - loss: 0.1181 - acc: 0.9542 - val_loss: 0.4376 - val_acc: 0.8510\n",
            "Epoch 7/15\n",
            "334/334 [==============================] - ETA: 0s - loss: 0.1010 - acc: 0.9592\n",
            "Epoch 00007: val_acc did not improve from 0.85700\n",
            "334/334 [==============================] - 7s 21ms/step - loss: 0.1010 - acc: 0.9592 - val_loss: 0.4774 - val_acc: 0.8450\n",
            "Epoch 00007: early stopping\n"
          ]
        }
      ]
    },
    {
      "cell_type": "code",
      "source": [
        "load_to_model = load_model('best_model.h5')\n",
        "y_pred = load_to_model.predict(X_test)"
      ],
      "metadata": {
        "id": "CgxJMYPqSlDs"
      },
      "execution_count": 215,
      "outputs": []
    },
    {
      "cell_type": "code",
      "source": [
        "y_pred # 0.5를 기준으로 0과 1을 분류"
      ],
      "metadata": {
        "colab": {
          "base_uri": "https://localhost:8080/"
        },
        "id": "NekTGQY_jjU_",
        "outputId": "725e1d69-c043-431f-c95c-34d4aab637ca"
      },
      "execution_count": 216,
      "outputs": [
        {
          "output_type": "execute_result",
          "data": {
            "text/plain": [
              "array([[0.00878313],\n",
              "       [0.99905294],\n",
              "       [0.5083071 ],\n",
              "       ...,\n",
              "       [0.99995315],\n",
              "       [0.0235379 ],\n",
              "       [0.99449414]], dtype=float32)"
            ]
          },
          "metadata": {},
          "execution_count": 216
        }
      ]
    },
    {
      "cell_type": "code",
      "source": [
        "for i in range(len(y_pred)):\n",
        "  if y_pred[i] < 0.5:\n",
        "    y_pred[i] = 0\n",
        "  else:\n",
        "    y_pred[i]=1"
      ],
      "metadata": {
        "id": "KuF75py1jmAL"
      },
      "execution_count": 217,
      "outputs": []
    },
    {
      "cell_type": "code",
      "source": [
        "y_pred"
      ],
      "metadata": {
        "colab": {
          "base_uri": "https://localhost:8080/"
        },
        "id": "w6EH4zF2j3C3",
        "outputId": "45f254c8-8f7f-472a-d94a-0bb38361158e"
      },
      "execution_count": 218,
      "outputs": [
        {
          "output_type": "execute_result",
          "data": {
            "text/plain": [
              "array([[0.],\n",
              "       [1.],\n",
              "       [1.],\n",
              "       ...,\n",
              "       [1.],\n",
              "       [0.],\n",
              "       [1.]], dtype=float32)"
            ]
          },
          "metadata": {},
          "execution_count": 218
        }
      ]
    },
    {
      "cell_type": "code",
      "source": [
        "submission['label'] = y_pred\n",
        "submission.to_csv(\"LSTM(1).csv\", index=False) # 0.8415"
      ],
      "metadata": {
        "id": "DJk8VzfDj30g"
      },
      "execution_count": 219,
      "outputs": []
    },
    {
      "cell_type": "markdown",
      "source": [
        "- X_test에 대한 긍/부정 결과가 84.15 accuracy로 무난히 나왔는데 LSTM은 딥러닝 모형이니 추가적으로 layer를 추가하였을때는 결과값이 어떻게 변하는지 살펴봅시다."
      ],
      "metadata": {
        "id": "3vilmLLMkhKS"
      }
    },
    {
      "cell_type": "markdown",
      "source": [
        "**7-2) layer 추가 LSTM**"
      ],
      "metadata": {
        "id": "xFRGoAn9lCs0"
      }
    },
    {
      "cell_type": "code",
      "source": [
        "embedding_dim = 1000\n",
        "embedding_dim2 = 64\n",
        "embedding_dim3 = 32\n",
        "hidden_units = 128\n",
        "\n",
        "model = Sequential()\n",
        "model.add(Embedding(vocab_size, embedding_dim))\n",
        "model.add(LSTM(hidden_units))\n",
        "model.add(Dense(embedding_dim2))\n",
        "model.add(Dense(embedding_dim3))\n",
        "model.add(Dense(1, activation='sigmoid'))"
      ],
      "metadata": {
        "id": "REqzU0YBkFNt"
      },
      "execution_count": 220,
      "outputs": []
    },
    {
      "cell_type": "code",
      "source": [
        "# 모형 summary 확인\n",
        "model.summary()"
      ],
      "metadata": {
        "colab": {
          "base_uri": "https://localhost:8080/"
        },
        "id": "v2HPKucJmVD9",
        "outputId": "77d19176-c0e8-4507-91f0-eab7d9595ee8"
      },
      "execution_count": 221,
      "outputs": [
        {
          "output_type": "stream",
          "name": "stdout",
          "text": [
            "Model: \"sequential_14\"\n",
            "_________________________________________________________________\n",
            " Layer (type)                Output Shape              Param #   \n",
            "=================================================================\n",
            " embedding_15 (Embedding)    (None, None, 1000)        6648000   \n",
            "                                                                 \n",
            " lstm_13 (LSTM)              (None, 128)               578048    \n",
            "                                                                 \n",
            " dense_14 (Dense)            (None, 64)                8256      \n",
            "                                                                 \n",
            " dense_15 (Dense)            (None, 32)                2080      \n",
            "                                                                 \n",
            " dense_16 (Dense)            (None, 1)                 33        \n",
            "                                                                 \n",
            "=================================================================\n",
            "Total params: 7,236,417\n",
            "Trainable params: 7,236,417\n",
            "Non-trainable params: 0\n",
            "_________________________________________________________________\n"
          ]
        }
      ]
    },
    {
      "cell_type": "code",
      "source": [
        "es = EarlyStopping(monitor='val_loss', mode='min', verbose=1, patience=6)\n",
        "mc = ModelCheckpoint('best_model.h5', monitor='val_acc', mode='max', verbose=1, save_best_only=True)\n",
        "model.compile(optimizer='rmsprop', loss='binary_crossentropy', metrics=['acc'])\n",
        "history = model.fit(X_train, y_train, epochs=15, callbacks=[es, mc], batch_size=12, validation_split=0.2)"
      ],
      "metadata": {
        "colab": {
          "base_uri": "https://localhost:8080/"
        },
        "id": "xuNV2NI8mHpi",
        "outputId": "26c69ab7-4fbc-41b4-8b25-bda27a96cabb"
      },
      "execution_count": 222,
      "outputs": [
        {
          "output_type": "stream",
          "name": "stdout",
          "text": [
            "Epoch 1/15\n",
            "334/334 [==============================] - ETA: 0s - loss: 0.4051 - acc: 0.8125\n",
            "Epoch 00001: val_acc improved from -inf to 0.85700, saving model to best_model.h5\n",
            "334/334 [==============================] - 30s 82ms/step - loss: 0.4051 - acc: 0.8125 - val_loss: 0.3474 - val_acc: 0.8570\n",
            "Epoch 2/15\n",
            "334/334 [==============================] - ETA: 0s - loss: 0.2092 - acc: 0.9128\n",
            "Epoch 00002: val_acc did not improve from 0.85700\n",
            "334/334 [==============================] - 27s 80ms/step - loss: 0.2092 - acc: 0.9128 - val_loss: 0.3978 - val_acc: 0.8420\n",
            "Epoch 3/15\n",
            "334/334 [==============================] - ETA: 0s - loss: 0.1350 - acc: 0.9463\n",
            "Epoch 00003: val_acc did not improve from 0.85700\n",
            "334/334 [==============================] - 27s 80ms/step - loss: 0.1350 - acc: 0.9463 - val_loss: 0.5206 - val_acc: 0.8430\n",
            "Epoch 4/15\n",
            "334/334 [==============================] - ETA: 0s - loss: 0.0806 - acc: 0.9678\n",
            "Epoch 00004: val_acc did not improve from 0.85700\n",
            "334/334 [==============================] - 27s 81ms/step - loss: 0.0806 - acc: 0.9678 - val_loss: 0.4525 - val_acc: 0.8500\n",
            "Epoch 5/15\n",
            "334/334 [==============================] - ETA: 0s - loss: 0.0395 - acc: 0.9872\n",
            "Epoch 00005: val_acc did not improve from 0.85700\n",
            "334/334 [==============================] - 27s 80ms/step - loss: 0.0395 - acc: 0.9872 - val_loss: 0.6442 - val_acc: 0.8520\n",
            "Epoch 6/15\n",
            "334/334 [==============================] - ETA: 0s - loss: 0.0149 - acc: 0.9940\n",
            "Epoch 00006: val_acc did not improve from 0.85700\n",
            "334/334 [==============================] - 26s 79ms/step - loss: 0.0149 - acc: 0.9940 - val_loss: 1.2036 - val_acc: 0.8390\n",
            "Epoch 7/15\n",
            "334/334 [==============================] - ETA: 0s - loss: 0.0105 - acc: 0.9980\n",
            "Epoch 00007: val_acc did not improve from 0.85700\n",
            "334/334 [==============================] - 27s 80ms/step - loss: 0.0105 - acc: 0.9980 - val_loss: 1.4722 - val_acc: 0.8430\n",
            "Epoch 00007: early stopping\n"
          ]
        }
      ]
    },
    {
      "cell_type": "code",
      "source": [
        "load_to_model = load_model('best_model.h5')\n",
        "y_pred = load_to_model.predict(X_test)"
      ],
      "metadata": {
        "id": "bh4no3D1moqM"
      },
      "execution_count": 223,
      "outputs": []
    },
    {
      "cell_type": "code",
      "source": [
        "for i in range(len(y_pred)):\n",
        "  if y_pred[i] < 0.5:\n",
        "    y_pred[i] = 0\n",
        "  else:\n",
        "    y_pred[i]=1"
      ],
      "metadata": {
        "id": "BLnJ1bTnq1nf"
      },
      "execution_count": 224,
      "outputs": []
    },
    {
      "cell_type": "code",
      "source": [
        "submission['label'] = y_pred\n",
        "submission.to_csv(\"LSTM(2).csv\", index=False) # 0.8470"
      ],
      "metadata": {
        "id": "QvwnkPubq1qJ"
      },
      "execution_count": 225,
      "outputs": []
    },
    {
      "cell_type": "markdown",
      "source": [
        "#### **[고찰]**\n",
        "\n",
        "1. 제가 한 데이터 처리 과정을 주관을 많이 넣어서 선택적으로 하였습니다. 전처리에 따라서 다양한 데이터를 표현할 수 있습니다.\n",
        "2. 같은 전처리를 한 데이터를 이용하여 모형을 조금 다르게 하였더니 판단 척도인 accuracy가 0.841 -> 0.847로 증가함을 보였습니다. \n",
        "\n",
        "3. 조금 더 깊은 layer의 모형과 epochs, batch size 등의 parameters를 조절한다면 더 좋은 결과가 나올 것 같습니다."
      ],
      "metadata": {
        "id": "BIOooHy2oxxS"
      }
    },
    {
      "cell_type": "markdown",
      "source": [
        "#### **[Reference]**\n",
        "\n",
        "[1] 딥러닝을 이용한 자연어 처리 입문 : https://wikidocs.net/94600 <br>\n",
        "\n",
        "[2] jihyeheo github : https://github.com/jihyeheo/DAC5_Exercise_movement_classification_ai_contest/blob/main/Modeling/20210119_%EB%B2%A0%EC%9D%B4%EC%8A%A4%EB%9D%BC%EC%9D%B8_LSTM.ipynb <br>\n",
        "\n",
        "[3] 운동 동작 분류 AI 경진대회 베이스라인 코드 : https://dacon.io/competitions/official/235689/codeshare/2290?page=1&dtype=recent\n"
      ],
      "metadata": {
        "id": "0qxGE55H5wNO"
      }
    }
  ]
}