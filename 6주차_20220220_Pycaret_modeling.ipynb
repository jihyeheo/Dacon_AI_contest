{
 "cells": [
  {
   "cell_type": "markdown",
   "metadata": {
    "id": "HgHar41gqX9_"
   },
   "source": [
    "- 오늘은 해외 축구 선수 이적료 예측 미션을 Pycaret을 이용하여 모델링을 해보았습니다"
   ]
  },
  {
   "cell_type": "code",
   "execution_count": 1,
   "metadata": {
    "colab": {
     "base_uri": "https://localhost:8080/"
    },
    "id": "XQRRmIUDqaO5",
    "outputId": "205d9bbe-8af4-4d6b-f130-99d1457fa56f"
   },
   "outputs": [
    {
     "name": "stdout",
     "output_type": "stream",
     "text": [
      "C:\\Users\\hu612\\Downloads\n"
     ]
    }
   ],
   "source": [
    "# 현재 작업 경로를 얻는 함수\n",
    "import os\n",
    "print(os.getcwd())"
   ]
  },
  {
   "cell_type": "code",
   "execution_count": 2,
   "metadata": {
    "id": "UsOTPbK5qa6p"
   },
   "outputs": [],
   "source": [
    "import pandas as pd\n",
    "\n",
    "train = pd.read_csv(\"FIFA_train.csv\")\n",
    "test = pd.read_csv(\"FIFA_test.csv\")\n",
    "submission = pd.read_csv(\"submission.csv\")"
   ]
  },
  {
   "cell_type": "code",
   "execution_count": 3,
   "metadata": {
    "colab": {
     "base_uri": "https://localhost:8080/"
    },
    "id": "ebFu-Av0q23u",
    "outputId": "ceb84af0-e841-4ad3-e683-e9f7a3e01f0d"
   },
   "outputs": [
    {
     "name": "stdout",
     "output_type": "stream",
     "text": [
      "(8932, 12)\n",
      "(3828, 11)\n",
      "(3828, 2)\n"
     ]
    }
   ],
   "source": [
    "print(train.shape)\n",
    "print(test.shape)\n",
    "print(submission.shape)"
   ]
  },
  {
   "cell_type": "markdown",
   "metadata": {
    "id": "KgOK_Tbwc7dd"
   },
   "source": [
    "### **train 열**\n",
    "- id : 선수 고유의 아이디\n",
    "- name : 이름\n",
    "- age : 나이\n",
    "- continent : 선수들의 국적이 포함되어 있는 대륙입니다.\n",
    "- contract_until : 선수의 계약기간이 언제까지인지 나타내어 줍니다.\n",
    "- position : 선수가 선호하는 포지션입니다. ex) 공격수, 수비수 등\n",
    "- prefer_foot : 선수가 선호하는 발입니다. ex) 오른발\n",
    "- reputation : 선수가 유명한 정도입니다. ex) 높은 수치일 수록 유명한 선수\n",
    "- stat_overall : 선수의 현재 능력치 입니다.\n",
    "- stat_potential : 선수가 경험 및 노력을 통해 발전할 수 있는 정도입니다.\n",
    "- stat_skill_moves : 선수의 개인기 능력치 입니다.\n",
    "- value : FIFA가 선정한 선수의 이적 시장 가격 (단위 : 유로) 입니다.\n",
    "\n",
    "**-> 11가지의 columns를 이용하여 value를 예측하는 문제입니다. train.csv 파일을 이용하여 모형을 학습하고 test.csv 파일을 적용시켜 예측된 value를 제출하면 됩니다.**"
   ]
  },
  {
   "cell_type": "markdown",
   "metadata": {
    "id": "JFcH1pDJdpdg"
   },
   "source": [
    "### **전처리**\n",
    "\n",
    "- 먼저 베이스라인처럼 id와 name columns는 불필요하다고 생각이 되어 삭제를 합니다."
   ]
  },
  {
   "cell_type": "code",
   "execution_count": 4,
   "metadata": {
    "id": "PPjThUVmj0gu"
   },
   "outputs": [],
   "source": [
    "train.drop(['id', 'name'], axis = 1, inplace = True)\n",
    "test.drop(['id', 'name'], axis = 1, inplace = True)"
   ]
  },
  {
   "cell_type": "code",
   "execution_count": 5,
   "metadata": {
    "colab": {
     "base_uri": "https://localhost:8080/"
    },
    "id": "50P_qB0Uq6tT",
    "outputId": "29002295-9334-4cc3-a048-4aad8ddef189"
   },
   "outputs": [
    {
     "name": "stdout",
     "output_type": "stream",
     "text": [
      "<class 'pandas.core.frame.DataFrame'>\n",
      "RangeIndex: 8932 entries, 0 to 8931\n",
      "Data columns (total 10 columns):\n",
      " #   Column            Non-Null Count  Dtype  \n",
      "---  ------            --------------  -----  \n",
      " 0   age               8932 non-null   int64  \n",
      " 1   continent         8932 non-null   object \n",
      " 2   contract_until    8932 non-null   object \n",
      " 3   position          8932 non-null   object \n",
      " 4   prefer_foot       8932 non-null   object \n",
      " 5   reputation        8932 non-null   float64\n",
      " 6   stat_overall      8932 non-null   int64  \n",
      " 7   stat_potential    8932 non-null   int64  \n",
      " 8   stat_skill_moves  8932 non-null   float64\n",
      " 9   value             8932 non-null   float64\n",
      "dtypes: float64(3), int64(3), object(4)\n",
      "memory usage: 697.9+ KB\n"
     ]
    }
   ],
   "source": [
    "train.info()"
   ]
  },
  {
   "cell_type": "code",
   "execution_count": 6,
   "metadata": {
    "colab": {
     "base_uri": "https://localhost:8080/"
    },
    "id": "FrHVMH-lgiOA",
    "outputId": "07c03ea3-2e92-4f06-829e-ec43c217f92d"
   },
   "outputs": [
    {
     "data": {
      "text/plain": [
       "age                 0\n",
       "continent           0\n",
       "contract_until      0\n",
       "position            0\n",
       "prefer_foot         0\n",
       "reputation          0\n",
       "stat_overall        0\n",
       "stat_potential      0\n",
       "stat_skill_moves    0\n",
       "value               0\n",
       "dtype: int64"
      ]
     },
     "execution_count": 6,
     "metadata": {},
     "output_type": "execute_result"
    }
   ],
   "source": [
    "train.isnull().sum()"
   ]
  },
  {
   "cell_type": "code",
   "execution_count": 7,
   "metadata": {
    "colab": {
     "base_uri": "https://localhost:8080/",
     "height": 242
    },
    "id": "XRE4b9PTd0Ki",
    "outputId": "2e4d0e25-1700-41d0-95ee-d008914711bc"
   },
   "outputs": [
    {
     "data": {
      "text/html": [
       "<div>\n",
       "<style scoped>\n",
       "    .dataframe tbody tr th:only-of-type {\n",
       "        vertical-align: middle;\n",
       "    }\n",
       "\n",
       "    .dataframe tbody tr th {\n",
       "        vertical-align: top;\n",
       "    }\n",
       "\n",
       "    .dataframe thead th {\n",
       "        text-align: right;\n",
       "    }\n",
       "</style>\n",
       "<table border=\"1\" class=\"dataframe\">\n",
       "  <thead>\n",
       "    <tr style=\"text-align: right;\">\n",
       "      <th></th>\n",
       "      <th>age</th>\n",
       "      <th>continent</th>\n",
       "      <th>contract_until</th>\n",
       "      <th>position</th>\n",
       "      <th>prefer_foot</th>\n",
       "      <th>reputation</th>\n",
       "      <th>stat_overall</th>\n",
       "      <th>stat_potential</th>\n",
       "      <th>stat_skill_moves</th>\n",
       "      <th>value</th>\n",
       "    </tr>\n",
       "  </thead>\n",
       "  <tbody>\n",
       "    <tr>\n",
       "      <th>0</th>\n",
       "      <td>31</td>\n",
       "      <td>south america</td>\n",
       "      <td>2021</td>\n",
       "      <td>ST</td>\n",
       "      <td>left</td>\n",
       "      <td>5.0</td>\n",
       "      <td>94</td>\n",
       "      <td>94</td>\n",
       "      <td>4.0</td>\n",
       "      <td>110500000.0</td>\n",
       "    </tr>\n",
       "    <tr>\n",
       "      <th>1</th>\n",
       "      <td>27</td>\n",
       "      <td>europe</td>\n",
       "      <td>2020</td>\n",
       "      <td>GK</td>\n",
       "      <td>right</td>\n",
       "      <td>4.0</td>\n",
       "      <td>91</td>\n",
       "      <td>93</td>\n",
       "      <td>1.0</td>\n",
       "      <td>72000000.0</td>\n",
       "    </tr>\n",
       "    <tr>\n",
       "      <th>2</th>\n",
       "      <td>31</td>\n",
       "      <td>south america</td>\n",
       "      <td>2021</td>\n",
       "      <td>ST</td>\n",
       "      <td>right</td>\n",
       "      <td>5.0</td>\n",
       "      <td>91</td>\n",
       "      <td>91</td>\n",
       "      <td>3.0</td>\n",
       "      <td>80000000.0</td>\n",
       "    </tr>\n",
       "  </tbody>\n",
       "</table>\n",
       "</div>"
      ],
      "text/plain": [
       "   age      continent contract_until position prefer_foot  reputation  \\\n",
       "0   31  south america           2021       ST        left         5.0   \n",
       "1   27         europe           2020       GK       right         4.0   \n",
       "2   31  south america           2021       ST       right         5.0   \n",
       "\n",
       "   stat_overall  stat_potential  stat_skill_moves        value  \n",
       "0            94              94               4.0  110500000.0  \n",
       "1            91              93               1.0   72000000.0  \n",
       "2            91              91               3.0   80000000.0  "
      ]
     },
     "execution_count": 7,
     "metadata": {},
     "output_type": "execute_result"
    }
   ],
   "source": [
    "train.head(3)"
   ]
  },
  {
   "cell_type": "code",
   "execution_count": 8,
   "metadata": {
    "colab": {
     "base_uri": "https://localhost:8080/"
    },
    "id": "u3lnlpALfAxi",
    "outputId": "c9470bb0-c607-437c-844b-0ce790b15849"
   },
   "outputs": [
    {
     "data": {
      "text/plain": [
       "10"
      ]
     },
     "execution_count": 8,
     "metadata": {},
     "output_type": "execute_result"
    }
   ],
   "source": [
    "len(train.columns)"
   ]
  },
  {
   "cell_type": "code",
   "execution_count": 9,
   "metadata": {
    "colab": {
     "base_uri": "https://localhost:8080/"
    },
    "id": "YjpDGPfve-vg",
    "outputId": "ff05171e-2786-4357-9ef4-13e8390e15de"
   },
   "outputs": [
    {
     "name": "stdout",
     "output_type": "stream",
     "text": [
      "age : <class 'numpy.int64'>\n",
      "continent : <class 'str'>\n",
      "contract_until : <class 'str'>\n",
      "position : <class 'str'>\n",
      "prefer_foot : <class 'str'>\n",
      "reputation : <class 'numpy.float64'>\n",
      "stat_overall : <class 'numpy.int64'>\n",
      "stat_potential : <class 'numpy.int64'>\n",
      "stat_skill_moves : <class 'numpy.float64'>\n",
      "value : <class 'numpy.float64'>\n"
     ]
    }
   ],
   "source": [
    "for i in range(len(train.columns)):\n",
    "    print(train.columns[i], \":\", type(train[train.columns[i]][0]))"
   ]
  },
  {
   "cell_type": "markdown",
   "metadata": {
    "id": "Ie-s3K2Sd87k"
   },
   "source": [
    "- train 데이터에 대하여 각 변수의 종류, 유형을 살펴보고 전처리를 진행합니다.\n"
   ]
  },
  {
   "cell_type": "markdown",
   "metadata": {
    "id": "T0VmUvMMkUHR"
   },
   "source": [
    "#### **age**"
   ]
  },
  {
   "cell_type": "code",
   "execution_count": 10,
   "metadata": {
    "colab": {
     "base_uri": "https://localhost:8080/"
    },
    "id": "deg7w45kd70l",
    "outputId": "f88255a2-1a7a-4b45-c061-85fdb0db6662"
   },
   "outputs": [
    {
     "name": "stdout",
     "output_type": "stream",
     "text": [
      "40\n",
      "16\n",
      "25.209135691894314\n"
     ]
    }
   ],
   "source": [
    "print(train.age.max())\n",
    "print(train.age.min())\n",
    "print(train.age.mean())"
   ]
  },
  {
   "cell_type": "code",
   "execution_count": 11,
   "metadata": {
    "colab": {
     "base_uri": "https://localhost:8080/"
    },
    "id": "dZw9_ee2iKUd",
    "outputId": "a50031a3-31c7-48f6-8331-ea1524672930"
   },
   "outputs": [
    {
     "data": {
      "text/plain": [
       "26    708\n",
       "24    691\n",
       "21    676\n",
       "23    663\n",
       "25    654\n",
       "22    632\n",
       "20    582\n",
       "27    581\n",
       "28    532\n",
       "19    491\n",
       "30    476\n",
       "29    472\n",
       "31    347\n",
       "18    344\n",
       "32    285\n",
       "34    216\n",
       "33    202\n",
       "17    131\n",
       "35     89\n",
       "36     64\n",
       "37     42\n",
       "16     18\n",
       "38     17\n",
       "39     16\n",
       "40      3\n",
       "Name: age, dtype: int64"
      ]
     },
     "execution_count": 11,
     "metadata": {},
     "output_type": "execute_result"
    }
   ],
   "source": [
    "train['age'].value_counts()"
   ]
  },
  {
   "cell_type": "code",
   "execution_count": 12,
   "metadata": {
    "colab": {
     "base_uri": "https://localhost:8080/",
     "height": 286
    },
    "id": "6zNmzkQ5gdd6",
    "outputId": "e50316da-aea4-48a2-a979-a1f73e0550ad"
   },
   "outputs": [
    {
     "data": {
      "text/plain": [
       "[]"
      ]
     },
     "execution_count": 12,
     "metadata": {},
     "output_type": "execute_result"
    },
    {
     "data": {
      "image/png": "[encoded data removed]",
      "text/plain": [
       "<Figure size 432x288 with 1 Axes>"
      ]
     },
     "metadata": {
      "needs_background": "light"
     },
     "output_type": "display_data"
    }
   ],
   "source": [
    "import matplotlib.pyplot as plt\n",
    "plt.figure()\n",
    "train.age.value_counts().plot(kind='bar')\n",
    "plt.plot()"
   ]
  },
  {
   "cell_type": "markdown",
   "metadata": {
    "id": "gAlj4E-GkXQQ"
   },
   "source": [
    "#### **continent**"
   ]
  },
  {
   "cell_type": "code",
   "execution_count": null,
   "metadata": {
    "colab": {
     "base_uri": "https://localhost:8080/"
    },
    "id": "fgaufqAijSG8",
    "outputId": "f71289dd-1ecf-46e9-c8e0-27eb5b81ccb7"
   },
   "outputs": [],
   "source": [
    "train['continent'].value_counts()"
   ]
  },
  {
   "cell_type": "code",
   "execution_count": null,
   "metadata": {
    "colab": {
     "base_uri": "https://localhost:8080/"
    },
    "id": "3Ahit7rOkerW",
    "outputId": "d75835d6-4473-4f67-f52c-51c232a5ff40"
   },
   "outputs": [],
   "source": [
    "test['continent'].value_counts()"
   ]
  },
  {
   "cell_type": "markdown",
   "metadata": {
    "id": "OPMhR5SSlGzO"
   },
   "source": [
    "- continent columns는 선수들의 국적 5가지가 표기되어 있었습니다. \n",
    "- 문자열을 숫자로 치환해주고 나중에 정규화를 해주겠습니다."
   ]
  },
  {
   "cell_type": "code",
   "execution_count": null,
   "metadata": {
    "id": "rAitg03Vk8Ev"
   },
   "outputs": [],
   "source": [
    "train['continent'] = train['continent'].replace('europe',1)\n",
    "train['continent'] = train['continent'].replace('south america',2)\n",
    "train['continent'] = train['continent'].replace('asia',3)\n",
    "train['continent'] = train['continent'].replace('africa',4)\n",
    "train['continent'] = train['continent'].replace('oceania',5)"
   ]
  },
  {
   "cell_type": "code",
   "execution_count": null,
   "metadata": {
    "id": "mLAwzzmql_0X"
   },
   "outputs": [],
   "source": [
    "test['continent'] = test['continent'].replace('europe',1)\n",
    "test['continent'] = test['continent'].replace('south america',2)\n",
    "test['continent'] = test['continent'].replace('asia',3)\n",
    "test['continent'] = test['continent'].replace('africa',4)\n",
    "test['continent'] = test['continent'].replace('oceania',5)"
   ]
  },
  {
   "cell_type": "markdown",
   "metadata": {
    "id": "is2jjhOtmieQ"
   },
   "source": [
    "#### **contract_until**"
   ]
  },
  {
   "cell_type": "code",
   "execution_count": null,
   "metadata": {
    "colab": {
     "base_uri": "https://localhost:8080/"
    },
    "id": "J5kJuwdtmIb4",
    "outputId": "658c1def-bb08-4254-dfe5-5bdfa03a6c58"
   },
   "outputs": [],
   "source": [
    "train['contract_until'].value_counts()"
   ]
  },
  {
   "cell_type": "code",
   "execution_count": null,
   "metadata": {
    "colab": {
     "base_uri": "https://localhost:8080/"
    },
    "id": "JsU8nF-ZnXU_",
    "outputId": "81b9dc72-c923-4d53-9d8a-9f625c33a8a0"
   },
   "outputs": [],
   "source": [
    "test['contract_until'].value_counts()"
   ]
  },
  {
   "cell_type": "markdown",
   "metadata": {
    "id": "73ZN-2L_mt0A"
   },
   "source": [
    "- 계약 연도에 관해 나타내져 있는 columns입니다. 보면 계약 연도만 있는 경우도 있고 언제까지인지 나타나져 있는 경우도 있습니다.\n",
    "- 통일을 위해 계약 연도만 추출하여 표시해주도록 하겠습니다."
   ]
  },
  {
   "cell_type": "code",
   "execution_count": null,
   "metadata": {
    "id": "rghhLbwXmmdR"
   },
   "outputs": [],
   "source": [
    "def year(x):\n",
    "  x = x[-4:]\n",
    "  return int(x)\n",
    "\n",
    "train['contract_until'] = train['contract_until'].apply(year)\n",
    "test['contract_until'] = test['contract_until'].apply(year)"
   ]
  },
  {
   "cell_type": "code",
   "execution_count": null,
   "metadata": {
    "colab": {
     "base_uri": "https://localhost:8080/"
    },
    "id": "yoxEgi61nTFb",
    "outputId": "5cbeb3b2-3e9f-4b63-c0de-e857b7eece4f"
   },
   "outputs": [],
   "source": [
    "train['contract_until'].value_counts()"
   ]
  },
  {
   "cell_type": "code",
   "execution_count": null,
   "metadata": {
    "colab": {
     "base_uri": "https://localhost:8080/"
    },
    "id": "z5yMJMNunVJd",
    "outputId": "8a46bd19-80c0-4ce2-c603-79b83a583830"
   },
   "outputs": [],
   "source": [
    "test['contract_until'].value_counts()"
   ]
  },
  {
   "cell_type": "markdown",
   "metadata": {
    "id": "_wtYTXC6nyS0"
   },
   "source": [
    "#### **position**"
   ]
  },
  {
   "cell_type": "code",
   "execution_count": null,
   "metadata": {
    "colab": {
     "base_uri": "https://localhost:8080/"
    },
    "id": "OTUTHx-Tnl3H",
    "outputId": "d9be514e-4d11-439d-ed50-6a535d48ad63"
   },
   "outputs": [],
   "source": [
    "train['position'].value_counts()"
   ]
  },
  {
   "cell_type": "code",
   "execution_count": 14,
   "metadata": {
    "colab": {
     "base_uri": "https://localhost:8080/"
    },
    "id": "UX2SLoBPn2zW",
    "outputId": "381bdfe2-f7f4-41f4-a593-7187c5d8e49b"
   },
   "outputs": [
    {
     "data": {
      "text/plain": [
       "MF    1431\n",
       "DF    1270\n",
       "ST     717\n",
       "GK     410\n",
       "Name: position, dtype: int64"
      ]
     },
     "execution_count": 14,
     "metadata": {},
     "output_type": "execute_result"
    }
   ],
   "source": [
    "test['position'].value_counts()"
   ]
  },
  {
   "cell_type": "markdown",
   "metadata": {
    "id": "5ZuF0cjooSp5"
   },
   "source": [
    "- position columns도 문자열이기 때문에 먼저 숫자로 치환해주겠습니다."
   ]
  },
  {
   "cell_type": "code",
   "execution_count": 15,
   "metadata": {
    "id": "r8DAWzunn7Tn"
   },
   "outputs": [],
   "source": [
    "train['position'] = train['position'].replace('MF',1)\n",
    "train['position'] = train['position'].replace('DF',2)\n",
    "train['position'] = train['position'].replace('ST',3)\n",
    "train['position'] = train['position'].replace('GK',4)"
   ]
  },
  {
   "cell_type": "code",
   "execution_count": 16,
   "metadata": {
    "id": "Nl1AEAfaoL2U"
   },
   "outputs": [],
   "source": [
    "test['position'] = test['position'].replace('MF',1)\n",
    "test['position'] = test['position'].replace('DF',2)\n",
    "test['position'] = test['position'].replace('ST',3)\n",
    "test['position'] = test['position'].replace('GK',4)"
   ]
  },
  {
   "cell_type": "markdown",
   "metadata": {
    "id": "amlbRUM7ofPP"
   },
   "source": [
    "#### **prefer_foot**"
   ]
  },
  {
   "cell_type": "code",
   "execution_count": 17,
   "metadata": {
    "colab": {
     "base_uri": "https://localhost:8080/"
    },
    "id": "btAFbdNVoREF",
    "outputId": "42ef9fa0-d368-4ce4-942e-654ea978e435"
   },
   "outputs": [
    {
     "data": {
      "text/plain": [
       "right    6837\n",
       "left     2095\n",
       "Name: prefer_foot, dtype: int64"
      ]
     },
     "execution_count": 17,
     "metadata": {},
     "output_type": "execute_result"
    }
   ],
   "source": [
    "train['prefer_foot'].value_counts()"
   ]
  },
  {
   "cell_type": "code",
   "execution_count": 18,
   "metadata": {
    "id": "5IerN_Xrojzc"
   },
   "outputs": [],
   "source": [
    "train['prefer_foot'] = train['prefer_foot'].replace('right',1)\n",
    "train['prefer_foot'] = train['prefer_foot'].replace('left',2)"
   ]
  },
  {
   "cell_type": "code",
   "execution_count": 19,
   "metadata": {
    "id": "2uvreCvIo3By"
   },
   "outputs": [],
   "source": [
    "test['prefer_foot'] = test['prefer_foot'].replace('right',1)\n",
    "test['prefer_foot'] = test['prefer_foot'].replace('left',2)"
   ]
  },
  {
   "cell_type": "markdown",
   "metadata": {
    "id": "GRItGNJuo8r8"
   },
   "source": [
    "#### **reputation**"
   ]
  },
  {
   "cell_type": "code",
   "execution_count": 20,
   "metadata": {
    "colab": {
     "base_uri": "https://localhost:8080/"
    },
    "id": "Zla3Opdlo6e7",
    "outputId": "f5de6c05-890d-4e87-994e-ec4c0b090b13"
   },
   "outputs": [
    {
     "data": {
      "text/plain": [
       "0       5.0\n",
       "1       4.0\n",
       "2       5.0\n",
       "3       4.0\n",
       "4       3.0\n",
       "       ... \n",
       "8927    1.0\n",
       "8928    1.0\n",
       "8929    1.0\n",
       "8930    1.0\n",
       "8931    1.0\n",
       "Name: reputation, Length: 8932, dtype: float64"
      ]
     },
     "execution_count": 20,
     "metadata": {},
     "output_type": "execute_result"
    }
   ],
   "source": [
    "train['reputation']"
   ]
  },
  {
   "cell_type": "code",
   "execution_count": 21,
   "metadata": {
    "id": "RIMMgZKrpAn1"
   },
   "outputs": [],
   "source": [
    "train['reputation'] = train['reputation'].astype(int)\n",
    "test['reputation'] = test['reputation'].astype(int)"
   ]
  },
  {
   "cell_type": "code",
   "execution_count": 22,
   "metadata": {
    "colab": {
     "base_uri": "https://localhost:8080/"
    },
    "id": "k6TE0-kzpIvG",
    "outputId": "8f7bf26e-92bc-4693-efdd-063aba04573b"
   },
   "outputs": [
    {
     "data": {
      "text/plain": [
       "0       5\n",
       "1       4\n",
       "2       5\n",
       "3       4\n",
       "4       3\n",
       "       ..\n",
       "8927    1\n",
       "8928    1\n",
       "8929    1\n",
       "8930    1\n",
       "8931    1\n",
       "Name: reputation, Length: 8932, dtype: int32"
      ]
     },
     "execution_count": 22,
     "metadata": {},
     "output_type": "execute_result"
    }
   ],
   "source": [
    "train['reputation']"
   ]
  },
  {
   "cell_type": "markdown",
   "metadata": {
    "id": "3ABzQKo_pO2x"
   },
   "source": [
    "#### **stat_overall, stat_potential**"
   ]
  },
  {
   "cell_type": "code",
   "execution_count": 23,
   "metadata": {
    "colab": {
     "base_uri": "https://localhost:8080/"
    },
    "id": "rwU6DjLEpJpy",
    "outputId": "b4217dd4-0bb6-41cf-cb49-966c10f19afe"
   },
   "outputs": [
    {
     "data": {
      "text/plain": [
       "67    570\n",
       "66    559\n",
       "68    543\n",
       "69    532\n",
       "64    492\n",
       "Name: stat_overall, dtype: int64"
      ]
     },
     "execution_count": 23,
     "metadata": {},
     "output_type": "execute_result"
    }
   ],
   "source": [
    "train['stat_overall'].value_counts()[:5]"
   ]
  },
  {
   "cell_type": "code",
   "execution_count": 24,
   "metadata": {
    "colab": {
     "base_uri": "https://localhost:8080/"
    },
    "id": "3U5eDpjhpUov",
    "outputId": "462f1509-5695-4323-b422-a17353a4f7b7"
   },
   "outputs": [
    {
     "data": {
      "text/plain": [
       "72    613\n",
       "70    612\n",
       "71    594\n",
       "69    575\n",
       "73    554\n",
       "Name: stat_potential, dtype: int64"
      ]
     },
     "execution_count": 24,
     "metadata": {},
     "output_type": "execute_result"
    }
   ],
   "source": [
    "train['stat_potential'].value_counts()[:5]"
   ]
  },
  {
   "cell_type": "markdown",
   "metadata": {
    "id": "jblrS4_pp_RI"
   },
   "source": [
    "- age columns와 함께 정규화 작업을 해줄거라서 일단 넘어가겠습니다."
   ]
  },
  {
   "cell_type": "markdown",
   "metadata": {
    "id": "if9Lk6n0p6IG"
   },
   "source": [
    "#### **stat_skill_moves**"
   ]
  },
  {
   "cell_type": "code",
   "execution_count": 25,
   "metadata": {
    "colab": {
     "base_uri": "https://localhost:8080/"
    },
    "id": "aTkbIgknppUz",
    "outputId": "6c9663f1-c95c-4ecb-8698-9d7c12ab33c9"
   },
   "outputs": [
    {
     "data": {
      "text/plain": [
       "2.0    3905\n",
       "3.0    3473\n",
       "1.0    1008\n",
       "4.0     515\n",
       "5.0      31\n",
       "Name: stat_skill_moves, dtype: int64"
      ]
     },
     "execution_count": 25,
     "metadata": {},
     "output_type": "execute_result"
    }
   ],
   "source": [
    "train['stat_skill_moves'].value_counts()"
   ]
  },
  {
   "cell_type": "code",
   "execution_count": 26,
   "metadata": {
    "colab": {
     "base_uri": "https://localhost:8080/"
    },
    "id": "WctbWuDTp2hl",
    "outputId": "9c1321f0-d9c1-4acd-a35c-b4ae43501df5"
   },
   "outputs": [
    {
     "data": {
      "text/plain": [
       "2.0    1700\n",
       "3.0    1451\n",
       "1.0     410\n",
       "4.0     254\n",
       "5.0      13\n",
       "Name: stat_skill_moves, dtype: int64"
      ]
     },
     "execution_count": 26,
     "metadata": {},
     "output_type": "execute_result"
    }
   ],
   "source": [
    "test['stat_skill_moves'].value_counts()"
   ]
  },
  {
   "cell_type": "code",
   "execution_count": 27,
   "metadata": {
    "id": "XtIPYDE1qNn5"
   },
   "outputs": [],
   "source": [
    "train['stat_skill_moves'] = train['stat_skill_moves'].astype(int)\n",
    "test['stat_skill_moves'] = test['stat_skill_moves'].astype(int)"
   ]
  },
  {
   "cell_type": "markdown",
   "metadata": {
    "id": "O5aKzP6hqViE"
   },
   "source": [
    "#### **age, stat_overall, stat_potential 정규화**"
   ]
  },
  {
   "cell_type": "code",
   "execution_count": 28,
   "metadata": {
    "id": "w0bsIXhaqUEj"
   },
   "outputs": [],
   "source": [
    "from sklearn.preprocessing import MinMaxScaler\n",
    "\n",
    "# MinMaxScaler객체 생성\n",
    "mm = MinMaxScaler()\n",
    "# MinMaxScaler 로 데이터 셋 변환. fit() 과 transform() 호출.  \n",
    "mm.fit(train[['age','stat_overall','stat_potential']])\n",
    "train_ass = mm.transform(train[['age','stat_overall','stat_potential']])"
   ]
  },
  {
   "cell_type": "code",
   "execution_count": 29,
   "metadata": {
    "colab": {
     "base_uri": "https://localhost:8080/"
    },
    "id": "qT3t4dmgtS0M",
    "outputId": "bf18f274-21de-491e-d4b0-32097387b1ce"
   },
   "outputs": [
    {
     "data": {
      "text/plain": [
       "(8932, 3)"
      ]
     },
     "execution_count": 29,
     "metadata": {},
     "output_type": "execute_result"
    }
   ],
   "source": [
    "train_ass = pd.DataFrame(train_ass)\n",
    "train_ass.shape"
   ]
  },
  {
   "cell_type": "code",
   "execution_count": 30,
   "metadata": {
    "id": "7MMQOu0wr9AD"
   },
   "outputs": [],
   "source": [
    "del train['age']\n",
    "del train['stat_overall']\n",
    "del train['stat_potential']"
   ]
  },
  {
   "cell_type": "code",
   "execution_count": 31,
   "metadata": {
    "colab": {
     "base_uri": "https://localhost:8080/"
    },
    "id": "LvWmMp4is2_7",
    "outputId": "aaba799d-5d20-47ba-e184-4f9256ce5631"
   },
   "outputs": [
    {
     "data": {
      "text/plain": [
       "(8932, 7)"
      ]
     },
     "execution_count": 31,
     "metadata": {},
     "output_type": "execute_result"
    }
   ],
   "source": [
    "train.shape"
   ]
  },
  {
   "cell_type": "code",
   "execution_count": 32,
   "metadata": {
    "colab": {
     "base_uri": "https://localhost:8080/"
    },
    "id": "EjbjcsgWs-j9",
    "outputId": "a914ebf2-5160-4bd3-9f94-de9b85f14c67"
   },
   "outputs": [
    {
     "data": {
      "text/plain": [
       "(8932, 10)"
      ]
     },
     "execution_count": 32,
     "metadata": {},
     "output_type": "execute_result"
    }
   ],
   "source": [
    "train = pd.concat([train_ass, train], axis = 1)\n",
    "train.shape"
   ]
  },
  {
   "cell_type": "code",
   "execution_count": 33,
   "metadata": {
    "id": "qzq-0DofvzNS"
   },
   "outputs": [],
   "source": [
    "from sklearn.preprocessing import MinMaxScaler\n",
    "\n",
    "# MinMaxScaler객체 생성\n",
    "mm = MinMaxScaler()\n",
    "# MinMaxScaler 로 데이터 셋 변환. fit() 과 transform() 호출.  \n",
    "mm.fit(test[['age','stat_overall','stat_potential']])\n",
    "test_ass = mm.transform(test[['age','stat_overall','stat_potential']])"
   ]
  },
  {
   "cell_type": "code",
   "execution_count": 34,
   "metadata": {
    "colab": {
     "base_uri": "https://localhost:8080/"
    },
    "id": "aUmJ4uJMxZU9",
    "outputId": "6a9f81bf-d4df-4b7d-9cd6-99e18ea02826"
   },
   "outputs": [
    {
     "data": {
      "text/plain": [
       "(3828, 3)"
      ]
     },
     "execution_count": 34,
     "metadata": {},
     "output_type": "execute_result"
    }
   ],
   "source": [
    "test_ass = pd.DataFrame(test_ass)\n",
    "test_ass.shape"
   ]
  },
  {
   "cell_type": "code",
   "execution_count": 35,
   "metadata": {
    "id": "VkI1UpyvxcRK"
   },
   "outputs": [],
   "source": [
    "del test['age']\n",
    "del test['stat_overall']\n",
    "del test['stat_potential']"
   ]
  },
  {
   "cell_type": "code",
   "execution_count": 36,
   "metadata": {
    "colab": {
     "base_uri": "https://localhost:8080/"
    },
    "id": "ic-h_VWHxgIB",
    "outputId": "bb0a56cb-6e72-411d-9b3d-45c9aab4341a"
   },
   "outputs": [
    {
     "data": {
      "text/plain": [
       "(3828, 9)"
      ]
     },
     "execution_count": 36,
     "metadata": {},
     "output_type": "execute_result"
    }
   ],
   "source": [
    "test = pd.concat([test_ass, test], axis = 1)\n",
    "test.shape"
   ]
  },
  {
   "cell_type": "markdown",
   "metadata": {
    "id": "5-m7F-D_xsOQ"
   },
   "source": [
    "### **모델링**"
   ]
  },
  {
   "cell_type": "code",
   "execution_count": 38,
   "metadata": {
    "colab": {
     "base_uri": "https://localhost:8080/"
    },
    "id": "urvIaJhY0P9L",
    "outputId": "2e003fc9-bd1f-4197-be7a-d4d52701764f"
   },
   "outputs": [
    {
     "data": {
      "text/html": [
       "<style  type=\"text/css\" >\n",
       "#T_9f3a3ad5_9244_11ec_a243_e0d46479bf07row42_col1{\n",
       "            background-color:  lightgreen;\n",
       "        }</style><table id=\"T_9f3a3ad5_9244_11ec_a243_e0d46479bf07\" ><thead>    <tr>        <th class=\"blank level0\" ></th>        <th class=\"col_heading level0 col0\" >Description</th>        <th class=\"col_heading level0 col1\" >Value</th>    </tr></thead><tbody>\n",
       "                <tr>\n",
       "                        <th id=\"T_9f3a3ad5_9244_11ec_a243_e0d46479bf07level0_row0\" class=\"row_heading level0 row0\" >0</th>\n",
       "                        <td id=\"T_9f3a3ad5_9244_11ec_a243_e0d46479bf07row0_col0\" class=\"data row0 col0\" >session_id</td>\n",
       "                        <td id=\"T_9f3a3ad5_9244_11ec_a243_e0d46479bf07row0_col1\" class=\"data row0 col1\" >123</td>\n",
       "            </tr>\n",
       "            <tr>\n",
       "                        <th id=\"T_9f3a3ad5_9244_11ec_a243_e0d46479bf07level0_row1\" class=\"row_heading level0 row1\" >1</th>\n",
       "                        <td id=\"T_9f3a3ad5_9244_11ec_a243_e0d46479bf07row1_col0\" class=\"data row1 col0\" >Target</td>\n",
       "                        <td id=\"T_9f3a3ad5_9244_11ec_a243_e0d46479bf07row1_col1\" class=\"data row1 col1\" >value</td>\n",
       "            </tr>\n",
       "            <tr>\n",
       "                        <th id=\"T_9f3a3ad5_9244_11ec_a243_e0d46479bf07level0_row2\" class=\"row_heading level0 row2\" >2</th>\n",
       "                        <td id=\"T_9f3a3ad5_9244_11ec_a243_e0d46479bf07row2_col0\" class=\"data row2 col0\" >Original Data</td>\n",
       "                        <td id=\"T_9f3a3ad5_9244_11ec_a243_e0d46479bf07row2_col1\" class=\"data row2 col1\" >(8932, 10)</td>\n",
       "            </tr>\n",
       "            <tr>\n",
       "                        <th id=\"T_9f3a3ad5_9244_11ec_a243_e0d46479bf07level0_row3\" class=\"row_heading level0 row3\" >3</th>\n",
       "                        <td id=\"T_9f3a3ad5_9244_11ec_a243_e0d46479bf07row3_col0\" class=\"data row3 col0\" >Missing Values</td>\n",
       "                        <td id=\"T_9f3a3ad5_9244_11ec_a243_e0d46479bf07row3_col1\" class=\"data row3 col1\" >False</td>\n",
       "            </tr>\n",
       "            <tr>\n",
       "                        <th id=\"T_9f3a3ad5_9244_11ec_a243_e0d46479bf07level0_row4\" class=\"row_heading level0 row4\" >4</th>\n",
       "                        <td id=\"T_9f3a3ad5_9244_11ec_a243_e0d46479bf07row4_col0\" class=\"data row4 col0\" >Numeric Features</td>\n",
       "                        <td id=\"T_9f3a3ad5_9244_11ec_a243_e0d46479bf07row4_col1\" class=\"data row4 col1\" >5</td>\n",
       "            </tr>\n",
       "            <tr>\n",
       "                        <th id=\"T_9f3a3ad5_9244_11ec_a243_e0d46479bf07level0_row5\" class=\"row_heading level0 row5\" >5</th>\n",
       "                        <td id=\"T_9f3a3ad5_9244_11ec_a243_e0d46479bf07row5_col0\" class=\"data row5 col0\" >Categorical Features</td>\n",
       "                        <td id=\"T_9f3a3ad5_9244_11ec_a243_e0d46479bf07row5_col1\" class=\"data row5 col1\" >3</td>\n",
       "            </tr>\n",
       "            <tr>\n",
       "                        <th id=\"T_9f3a3ad5_9244_11ec_a243_e0d46479bf07level0_row6\" class=\"row_heading level0 row6\" >6</th>\n",
       "                        <td id=\"T_9f3a3ad5_9244_11ec_a243_e0d46479bf07row6_col0\" class=\"data row6 col0\" >Ordinal Features</td>\n",
       "                        <td id=\"T_9f3a3ad5_9244_11ec_a243_e0d46479bf07row6_col1\" class=\"data row6 col1\" >False</td>\n",
       "            </tr>\n",
       "            <tr>\n",
       "                        <th id=\"T_9f3a3ad5_9244_11ec_a243_e0d46479bf07level0_row7\" class=\"row_heading level0 row7\" >7</th>\n",
       "                        <td id=\"T_9f3a3ad5_9244_11ec_a243_e0d46479bf07row7_col0\" class=\"data row7 col0\" >High Cardinality Features</td>\n",
       "                        <td id=\"T_9f3a3ad5_9244_11ec_a243_e0d46479bf07row7_col1\" class=\"data row7 col1\" >False</td>\n",
       "            </tr>\n",
       "            <tr>\n",
       "                        <th id=\"T_9f3a3ad5_9244_11ec_a243_e0d46479bf07level0_row8\" class=\"row_heading level0 row8\" >8</th>\n",
       "                        <td id=\"T_9f3a3ad5_9244_11ec_a243_e0d46479bf07row8_col0\" class=\"data row8 col0\" >High Cardinality Method</td>\n",
       "                        <td id=\"T_9f3a3ad5_9244_11ec_a243_e0d46479bf07row8_col1\" class=\"data row8 col1\" >None</td>\n",
       "            </tr>\n",
       "            <tr>\n",
       "                        <th id=\"T_9f3a3ad5_9244_11ec_a243_e0d46479bf07level0_row9\" class=\"row_heading level0 row9\" >9</th>\n",
       "                        <td id=\"T_9f3a3ad5_9244_11ec_a243_e0d46479bf07row9_col0\" class=\"data row9 col0\" >Transformed Train Set</td>\n",
       "                        <td id=\"T_9f3a3ad5_9244_11ec_a243_e0d46479bf07row9_col1\" class=\"data row9 col1\" >(7145, 27)</td>\n",
       "            </tr>\n",
       "            <tr>\n",
       "                        <th id=\"T_9f3a3ad5_9244_11ec_a243_e0d46479bf07level0_row10\" class=\"row_heading level0 row10\" >10</th>\n",
       "                        <td id=\"T_9f3a3ad5_9244_11ec_a243_e0d46479bf07row10_col0\" class=\"data row10 col0\" >Transformed Test Set</td>\n",
       "                        <td id=\"T_9f3a3ad5_9244_11ec_a243_e0d46479bf07row10_col1\" class=\"data row10 col1\" >(1787, 27)</td>\n",
       "            </tr>\n",
       "            <tr>\n",
       "                        <th id=\"T_9f3a3ad5_9244_11ec_a243_e0d46479bf07level0_row11\" class=\"row_heading level0 row11\" >11</th>\n",
       "                        <td id=\"T_9f3a3ad5_9244_11ec_a243_e0d46479bf07row11_col0\" class=\"data row11 col0\" >Shuffle Train-Test</td>\n",
       "                        <td id=\"T_9f3a3ad5_9244_11ec_a243_e0d46479bf07row11_col1\" class=\"data row11 col1\" >True</td>\n",
       "            </tr>\n",
       "            <tr>\n",
       "                        <th id=\"T_9f3a3ad5_9244_11ec_a243_e0d46479bf07level0_row12\" class=\"row_heading level0 row12\" >12</th>\n",
       "                        <td id=\"T_9f3a3ad5_9244_11ec_a243_e0d46479bf07row12_col0\" class=\"data row12 col0\" >Stratify Train-Test</td>\n",
       "                        <td id=\"T_9f3a3ad5_9244_11ec_a243_e0d46479bf07row12_col1\" class=\"data row12 col1\" >False</td>\n",
       "            </tr>\n",
       "            <tr>\n",
       "                        <th id=\"T_9f3a3ad5_9244_11ec_a243_e0d46479bf07level0_row13\" class=\"row_heading level0 row13\" >13</th>\n",
       "                        <td id=\"T_9f3a3ad5_9244_11ec_a243_e0d46479bf07row13_col0\" class=\"data row13 col0\" >Fold Generator</td>\n",
       "                        <td id=\"T_9f3a3ad5_9244_11ec_a243_e0d46479bf07row13_col1\" class=\"data row13 col1\" >KFold</td>\n",
       "            </tr>\n",
       "            <tr>\n",
       "                        <th id=\"T_9f3a3ad5_9244_11ec_a243_e0d46479bf07level0_row14\" class=\"row_heading level0 row14\" >14</th>\n",
       "                        <td id=\"T_9f3a3ad5_9244_11ec_a243_e0d46479bf07row14_col0\" class=\"data row14 col0\" >Fold Number</td>\n",
       "                        <td id=\"T_9f3a3ad5_9244_11ec_a243_e0d46479bf07row14_col1\" class=\"data row14 col1\" >10</td>\n",
       "            </tr>\n",
       "            <tr>\n",
       "                        <th id=\"T_9f3a3ad5_9244_11ec_a243_e0d46479bf07level0_row15\" class=\"row_heading level0 row15\" >15</th>\n",
       "                        <td id=\"T_9f3a3ad5_9244_11ec_a243_e0d46479bf07row15_col0\" class=\"data row15 col0\" >CPU Jobs</td>\n",
       "                        <td id=\"T_9f3a3ad5_9244_11ec_a243_e0d46479bf07row15_col1\" class=\"data row15 col1\" >-1</td>\n",
       "            </tr>\n",
       "            <tr>\n",
       "                        <th id=\"T_9f3a3ad5_9244_11ec_a243_e0d46479bf07level0_row16\" class=\"row_heading level0 row16\" >16</th>\n",
       "                        <td id=\"T_9f3a3ad5_9244_11ec_a243_e0d46479bf07row16_col0\" class=\"data row16 col0\" >Use GPU</td>\n",
       "                        <td id=\"T_9f3a3ad5_9244_11ec_a243_e0d46479bf07row16_col1\" class=\"data row16 col1\" >False</td>\n",
       "            </tr>\n",
       "            <tr>\n",
       "                        <th id=\"T_9f3a3ad5_9244_11ec_a243_e0d46479bf07level0_row17\" class=\"row_heading level0 row17\" >17</th>\n",
       "                        <td id=\"T_9f3a3ad5_9244_11ec_a243_e0d46479bf07row17_col0\" class=\"data row17 col0\" >Log Experiment</td>\n",
       "                        <td id=\"T_9f3a3ad5_9244_11ec_a243_e0d46479bf07row17_col1\" class=\"data row17 col1\" >False</td>\n",
       "            </tr>\n",
       "            <tr>\n",
       "                        <th id=\"T_9f3a3ad5_9244_11ec_a243_e0d46479bf07level0_row18\" class=\"row_heading level0 row18\" >18</th>\n",
       "                        <td id=\"T_9f3a3ad5_9244_11ec_a243_e0d46479bf07row18_col0\" class=\"data row18 col0\" >Experiment Name</td>\n",
       "                        <td id=\"T_9f3a3ad5_9244_11ec_a243_e0d46479bf07row18_col1\" class=\"data row18 col1\" >reg-default-name</td>\n",
       "            </tr>\n",
       "            <tr>\n",
       "                        <th id=\"T_9f3a3ad5_9244_11ec_a243_e0d46479bf07level0_row19\" class=\"row_heading level0 row19\" >19</th>\n",
       "                        <td id=\"T_9f3a3ad5_9244_11ec_a243_e0d46479bf07row19_col0\" class=\"data row19 col0\" >USI</td>\n",
       "                        <td id=\"T_9f3a3ad5_9244_11ec_a243_e0d46479bf07row19_col1\" class=\"data row19 col1\" >3ec4</td>\n",
       "            </tr>\n",
       "            <tr>\n",
       "                        <th id=\"T_9f3a3ad5_9244_11ec_a243_e0d46479bf07level0_row20\" class=\"row_heading level0 row20\" >20</th>\n",
       "                        <td id=\"T_9f3a3ad5_9244_11ec_a243_e0d46479bf07row20_col0\" class=\"data row20 col0\" >Imputation Type</td>\n",
       "                        <td id=\"T_9f3a3ad5_9244_11ec_a243_e0d46479bf07row20_col1\" class=\"data row20 col1\" >simple</td>\n",
       "            </tr>\n",
       "            <tr>\n",
       "                        <th id=\"T_9f3a3ad5_9244_11ec_a243_e0d46479bf07level0_row21\" class=\"row_heading level0 row21\" >21</th>\n",
       "                        <td id=\"T_9f3a3ad5_9244_11ec_a243_e0d46479bf07row21_col0\" class=\"data row21 col0\" >Iterative Imputation Iteration</td>\n",
       "                        <td id=\"T_9f3a3ad5_9244_11ec_a243_e0d46479bf07row21_col1\" class=\"data row21 col1\" >None</td>\n",
       "            </tr>\n",
       "            <tr>\n",
       "                        <th id=\"T_9f3a3ad5_9244_11ec_a243_e0d46479bf07level0_row22\" class=\"row_heading level0 row22\" >22</th>\n",
       "                        <td id=\"T_9f3a3ad5_9244_11ec_a243_e0d46479bf07row22_col0\" class=\"data row22 col0\" >Numeric Imputer</td>\n",
       "                        <td id=\"T_9f3a3ad5_9244_11ec_a243_e0d46479bf07row22_col1\" class=\"data row22 col1\" >mean</td>\n",
       "            </tr>\n",
       "            <tr>\n",
       "                        <th id=\"T_9f3a3ad5_9244_11ec_a243_e0d46479bf07level0_row23\" class=\"row_heading level0 row23\" >23</th>\n",
       "                        <td id=\"T_9f3a3ad5_9244_11ec_a243_e0d46479bf07row23_col0\" class=\"data row23 col0\" >Iterative Imputation Numeric Model</td>\n",
       "                        <td id=\"T_9f3a3ad5_9244_11ec_a243_e0d46479bf07row23_col1\" class=\"data row23 col1\" >None</td>\n",
       "            </tr>\n",
       "            <tr>\n",
       "                        <th id=\"T_9f3a3ad5_9244_11ec_a243_e0d46479bf07level0_row24\" class=\"row_heading level0 row24\" >24</th>\n",
       "                        <td id=\"T_9f3a3ad5_9244_11ec_a243_e0d46479bf07row24_col0\" class=\"data row24 col0\" >Categorical Imputer</td>\n",
       "                        <td id=\"T_9f3a3ad5_9244_11ec_a243_e0d46479bf07row24_col1\" class=\"data row24 col1\" >constant</td>\n",
       "            </tr>\n",
       "            <tr>\n",
       "                        <th id=\"T_9f3a3ad5_9244_11ec_a243_e0d46479bf07level0_row25\" class=\"row_heading level0 row25\" >25</th>\n",
       "                        <td id=\"T_9f3a3ad5_9244_11ec_a243_e0d46479bf07row25_col0\" class=\"data row25 col0\" >Iterative Imputation Categorical Model</td>\n",
       "                        <td id=\"T_9f3a3ad5_9244_11ec_a243_e0d46479bf07row25_col1\" class=\"data row25 col1\" >None</td>\n",
       "            </tr>\n",
       "            <tr>\n",
       "                        <th id=\"T_9f3a3ad5_9244_11ec_a243_e0d46479bf07level0_row26\" class=\"row_heading level0 row26\" >26</th>\n",
       "                        <td id=\"T_9f3a3ad5_9244_11ec_a243_e0d46479bf07row26_col0\" class=\"data row26 col0\" >Unknown Categoricals Handling</td>\n",
       "                        <td id=\"T_9f3a3ad5_9244_11ec_a243_e0d46479bf07row26_col1\" class=\"data row26 col1\" >least_frequent</td>\n",
       "            </tr>\n",
       "            <tr>\n",
       "                        <th id=\"T_9f3a3ad5_9244_11ec_a243_e0d46479bf07level0_row27\" class=\"row_heading level0 row27\" >27</th>\n",
       "                        <td id=\"T_9f3a3ad5_9244_11ec_a243_e0d46479bf07row27_col0\" class=\"data row27 col0\" >Normalize</td>\n",
       "                        <td id=\"T_9f3a3ad5_9244_11ec_a243_e0d46479bf07row27_col1\" class=\"data row27 col1\" >False</td>\n",
       "            </tr>\n",
       "            <tr>\n",
       "                        <th id=\"T_9f3a3ad5_9244_11ec_a243_e0d46479bf07level0_row28\" class=\"row_heading level0 row28\" >28</th>\n",
       "                        <td id=\"T_9f3a3ad5_9244_11ec_a243_e0d46479bf07row28_col0\" class=\"data row28 col0\" >Normalize Method</td>\n",
       "                        <td id=\"T_9f3a3ad5_9244_11ec_a243_e0d46479bf07row28_col1\" class=\"data row28 col1\" >None</td>\n",
       "            </tr>\n",
       "            <tr>\n",
       "                        <th id=\"T_9f3a3ad5_9244_11ec_a243_e0d46479bf07level0_row29\" class=\"row_heading level0 row29\" >29</th>\n",
       "                        <td id=\"T_9f3a3ad5_9244_11ec_a243_e0d46479bf07row29_col0\" class=\"data row29 col0\" >Transformation</td>\n",
       "                        <td id=\"T_9f3a3ad5_9244_11ec_a243_e0d46479bf07row29_col1\" class=\"data row29 col1\" >False</td>\n",
       "            </tr>\n",
       "            <tr>\n",
       "                        <th id=\"T_9f3a3ad5_9244_11ec_a243_e0d46479bf07level0_row30\" class=\"row_heading level0 row30\" >30</th>\n",
       "                        <td id=\"T_9f3a3ad5_9244_11ec_a243_e0d46479bf07row30_col0\" class=\"data row30 col0\" >Transformation Method</td>\n",
       "                        <td id=\"T_9f3a3ad5_9244_11ec_a243_e0d46479bf07row30_col1\" class=\"data row30 col1\" >None</td>\n",
       "            </tr>\n",
       "            <tr>\n",
       "                        <th id=\"T_9f3a3ad5_9244_11ec_a243_e0d46479bf07level0_row31\" class=\"row_heading level0 row31\" >31</th>\n",
       "                        <td id=\"T_9f3a3ad5_9244_11ec_a243_e0d46479bf07row31_col0\" class=\"data row31 col0\" >PCA</td>\n",
       "                        <td id=\"T_9f3a3ad5_9244_11ec_a243_e0d46479bf07row31_col1\" class=\"data row31 col1\" >False</td>\n",
       "            </tr>\n",
       "            <tr>\n",
       "                        <th id=\"T_9f3a3ad5_9244_11ec_a243_e0d46479bf07level0_row32\" class=\"row_heading level0 row32\" >32</th>\n",
       "                        <td id=\"T_9f3a3ad5_9244_11ec_a243_e0d46479bf07row32_col0\" class=\"data row32 col0\" >PCA Method</td>\n",
       "                        <td id=\"T_9f3a3ad5_9244_11ec_a243_e0d46479bf07row32_col1\" class=\"data row32 col1\" >None</td>\n",
       "            </tr>\n",
       "            <tr>\n",
       "                        <th id=\"T_9f3a3ad5_9244_11ec_a243_e0d46479bf07level0_row33\" class=\"row_heading level0 row33\" >33</th>\n",
       "                        <td id=\"T_9f3a3ad5_9244_11ec_a243_e0d46479bf07row33_col0\" class=\"data row33 col0\" >PCA Components</td>\n",
       "                        <td id=\"T_9f3a3ad5_9244_11ec_a243_e0d46479bf07row33_col1\" class=\"data row33 col1\" >None</td>\n",
       "            </tr>\n",
       "            <tr>\n",
       "                        <th id=\"T_9f3a3ad5_9244_11ec_a243_e0d46479bf07level0_row34\" class=\"row_heading level0 row34\" >34</th>\n",
       "                        <td id=\"T_9f3a3ad5_9244_11ec_a243_e0d46479bf07row34_col0\" class=\"data row34 col0\" >Ignore Low Variance</td>\n",
       "                        <td id=\"T_9f3a3ad5_9244_11ec_a243_e0d46479bf07row34_col1\" class=\"data row34 col1\" >False</td>\n",
       "            </tr>\n",
       "            <tr>\n",
       "                        <th id=\"T_9f3a3ad5_9244_11ec_a243_e0d46479bf07level0_row35\" class=\"row_heading level0 row35\" >35</th>\n",
       "                        <td id=\"T_9f3a3ad5_9244_11ec_a243_e0d46479bf07row35_col0\" class=\"data row35 col0\" >Combine Rare Levels</td>\n",
       "                        <td id=\"T_9f3a3ad5_9244_11ec_a243_e0d46479bf07row35_col1\" class=\"data row35 col1\" >False</td>\n",
       "            </tr>\n",
       "            <tr>\n",
       "                        <th id=\"T_9f3a3ad5_9244_11ec_a243_e0d46479bf07level0_row36\" class=\"row_heading level0 row36\" >36</th>\n",
       "                        <td id=\"T_9f3a3ad5_9244_11ec_a243_e0d46479bf07row36_col0\" class=\"data row36 col0\" >Rare Level Threshold</td>\n",
       "                        <td id=\"T_9f3a3ad5_9244_11ec_a243_e0d46479bf07row36_col1\" class=\"data row36 col1\" >None</td>\n",
       "            </tr>\n",
       "            <tr>\n",
       "                        <th id=\"T_9f3a3ad5_9244_11ec_a243_e0d46479bf07level0_row37\" class=\"row_heading level0 row37\" >37</th>\n",
       "                        <td id=\"T_9f3a3ad5_9244_11ec_a243_e0d46479bf07row37_col0\" class=\"data row37 col0\" >Numeric Binning</td>\n",
       "                        <td id=\"T_9f3a3ad5_9244_11ec_a243_e0d46479bf07row37_col1\" class=\"data row37 col1\" >False</td>\n",
       "            </tr>\n",
       "            <tr>\n",
       "                        <th id=\"T_9f3a3ad5_9244_11ec_a243_e0d46479bf07level0_row38\" class=\"row_heading level0 row38\" >38</th>\n",
       "                        <td id=\"T_9f3a3ad5_9244_11ec_a243_e0d46479bf07row38_col0\" class=\"data row38 col0\" >Remove Outliers</td>\n",
       "                        <td id=\"T_9f3a3ad5_9244_11ec_a243_e0d46479bf07row38_col1\" class=\"data row38 col1\" >False</td>\n",
       "            </tr>\n",
       "            <tr>\n",
       "                        <th id=\"T_9f3a3ad5_9244_11ec_a243_e0d46479bf07level0_row39\" class=\"row_heading level0 row39\" >39</th>\n",
       "                        <td id=\"T_9f3a3ad5_9244_11ec_a243_e0d46479bf07row39_col0\" class=\"data row39 col0\" >Outliers Threshold</td>\n",
       "                        <td id=\"T_9f3a3ad5_9244_11ec_a243_e0d46479bf07row39_col1\" class=\"data row39 col1\" >None</td>\n",
       "            </tr>\n",
       "            <tr>\n",
       "                        <th id=\"T_9f3a3ad5_9244_11ec_a243_e0d46479bf07level0_row40\" class=\"row_heading level0 row40\" >40</th>\n",
       "                        <td id=\"T_9f3a3ad5_9244_11ec_a243_e0d46479bf07row40_col0\" class=\"data row40 col0\" >Remove Multicollinearity</td>\n",
       "                        <td id=\"T_9f3a3ad5_9244_11ec_a243_e0d46479bf07row40_col1\" class=\"data row40 col1\" >False</td>\n",
       "            </tr>\n",
       "            <tr>\n",
       "                        <th id=\"T_9f3a3ad5_9244_11ec_a243_e0d46479bf07level0_row41\" class=\"row_heading level0 row41\" >41</th>\n",
       "                        <td id=\"T_9f3a3ad5_9244_11ec_a243_e0d46479bf07row41_col0\" class=\"data row41 col0\" >Multicollinearity Threshold</td>\n",
       "                        <td id=\"T_9f3a3ad5_9244_11ec_a243_e0d46479bf07row41_col1\" class=\"data row41 col1\" >None</td>\n",
       "            </tr>\n",
       "            <tr>\n",
       "                        <th id=\"T_9f3a3ad5_9244_11ec_a243_e0d46479bf07level0_row42\" class=\"row_heading level0 row42\" >42</th>\n",
       "                        <td id=\"T_9f3a3ad5_9244_11ec_a243_e0d46479bf07row42_col0\" class=\"data row42 col0\" >Remove Perfect Collinearity</td>\n",
       "                        <td id=\"T_9f3a3ad5_9244_11ec_a243_e0d46479bf07row42_col1\" class=\"data row42 col1\" >True</td>\n",
       "            </tr>\n",
       "            <tr>\n",
       "                        <th id=\"T_9f3a3ad5_9244_11ec_a243_e0d46479bf07level0_row43\" class=\"row_heading level0 row43\" >43</th>\n",
       "                        <td id=\"T_9f3a3ad5_9244_11ec_a243_e0d46479bf07row43_col0\" class=\"data row43 col0\" >Clustering</td>\n",
       "                        <td id=\"T_9f3a3ad5_9244_11ec_a243_e0d46479bf07row43_col1\" class=\"data row43 col1\" >False</td>\n",
       "            </tr>\n",
       "            <tr>\n",
       "                        <th id=\"T_9f3a3ad5_9244_11ec_a243_e0d46479bf07level0_row44\" class=\"row_heading level0 row44\" >44</th>\n",
       "                        <td id=\"T_9f3a3ad5_9244_11ec_a243_e0d46479bf07row44_col0\" class=\"data row44 col0\" >Clustering Iteration</td>\n",
       "                        <td id=\"T_9f3a3ad5_9244_11ec_a243_e0d46479bf07row44_col1\" class=\"data row44 col1\" >None</td>\n",
       "            </tr>\n",
       "            <tr>\n",
       "                        <th id=\"T_9f3a3ad5_9244_11ec_a243_e0d46479bf07level0_row45\" class=\"row_heading level0 row45\" >45</th>\n",
       "                        <td id=\"T_9f3a3ad5_9244_11ec_a243_e0d46479bf07row45_col0\" class=\"data row45 col0\" >Polynomial Features</td>\n",
       "                        <td id=\"T_9f3a3ad5_9244_11ec_a243_e0d46479bf07row45_col1\" class=\"data row45 col1\" >False</td>\n",
       "            </tr>\n",
       "            <tr>\n",
       "                        <th id=\"T_9f3a3ad5_9244_11ec_a243_e0d46479bf07level0_row46\" class=\"row_heading level0 row46\" >46</th>\n",
       "                        <td id=\"T_9f3a3ad5_9244_11ec_a243_e0d46479bf07row46_col0\" class=\"data row46 col0\" >Polynomial Degree</td>\n",
       "                        <td id=\"T_9f3a3ad5_9244_11ec_a243_e0d46479bf07row46_col1\" class=\"data row46 col1\" >None</td>\n",
       "            </tr>\n",
       "            <tr>\n",
       "                        <th id=\"T_9f3a3ad5_9244_11ec_a243_e0d46479bf07level0_row47\" class=\"row_heading level0 row47\" >47</th>\n",
       "                        <td id=\"T_9f3a3ad5_9244_11ec_a243_e0d46479bf07row47_col0\" class=\"data row47 col0\" >Trignometry Features</td>\n",
       "                        <td id=\"T_9f3a3ad5_9244_11ec_a243_e0d46479bf07row47_col1\" class=\"data row47 col1\" >False</td>\n",
       "            </tr>\n",
       "            <tr>\n",
       "                        <th id=\"T_9f3a3ad5_9244_11ec_a243_e0d46479bf07level0_row48\" class=\"row_heading level0 row48\" >48</th>\n",
       "                        <td id=\"T_9f3a3ad5_9244_11ec_a243_e0d46479bf07row48_col0\" class=\"data row48 col0\" >Polynomial Threshold</td>\n",
       "                        <td id=\"T_9f3a3ad5_9244_11ec_a243_e0d46479bf07row48_col1\" class=\"data row48 col1\" >None</td>\n",
       "            </tr>\n",
       "            <tr>\n",
       "                        <th id=\"T_9f3a3ad5_9244_11ec_a243_e0d46479bf07level0_row49\" class=\"row_heading level0 row49\" >49</th>\n",
       "                        <td id=\"T_9f3a3ad5_9244_11ec_a243_e0d46479bf07row49_col0\" class=\"data row49 col0\" >Group Features</td>\n",
       "                        <td id=\"T_9f3a3ad5_9244_11ec_a243_e0d46479bf07row49_col1\" class=\"data row49 col1\" >False</td>\n",
       "            </tr>\n",
       "            <tr>\n",
       "                        <th id=\"T_9f3a3ad5_9244_11ec_a243_e0d46479bf07level0_row50\" class=\"row_heading level0 row50\" >50</th>\n",
       "                        <td id=\"T_9f3a3ad5_9244_11ec_a243_e0d46479bf07row50_col0\" class=\"data row50 col0\" >Feature Selection</td>\n",
       "                        <td id=\"T_9f3a3ad5_9244_11ec_a243_e0d46479bf07row50_col1\" class=\"data row50 col1\" >False</td>\n",
       "            </tr>\n",
       "            <tr>\n",
       "                        <th id=\"T_9f3a3ad5_9244_11ec_a243_e0d46479bf07level0_row51\" class=\"row_heading level0 row51\" >51</th>\n",
       "                        <td id=\"T_9f3a3ad5_9244_11ec_a243_e0d46479bf07row51_col0\" class=\"data row51 col0\" >Feature Selection Method</td>\n",
       "                        <td id=\"T_9f3a3ad5_9244_11ec_a243_e0d46479bf07row51_col1\" class=\"data row51 col1\" >classic</td>\n",
       "            </tr>\n",
       "            <tr>\n",
       "                        <th id=\"T_9f3a3ad5_9244_11ec_a243_e0d46479bf07level0_row52\" class=\"row_heading level0 row52\" >52</th>\n",
       "                        <td id=\"T_9f3a3ad5_9244_11ec_a243_e0d46479bf07row52_col0\" class=\"data row52 col0\" >Features Selection Threshold</td>\n",
       "                        <td id=\"T_9f3a3ad5_9244_11ec_a243_e0d46479bf07row52_col1\" class=\"data row52 col1\" >None</td>\n",
       "            </tr>\n",
       "            <tr>\n",
       "                        <th id=\"T_9f3a3ad5_9244_11ec_a243_e0d46479bf07level0_row53\" class=\"row_heading level0 row53\" >53</th>\n",
       "                        <td id=\"T_9f3a3ad5_9244_11ec_a243_e0d46479bf07row53_col0\" class=\"data row53 col0\" >Feature Interaction</td>\n",
       "                        <td id=\"T_9f3a3ad5_9244_11ec_a243_e0d46479bf07row53_col1\" class=\"data row53 col1\" >False</td>\n",
       "            </tr>\n",
       "            <tr>\n",
       "                        <th id=\"T_9f3a3ad5_9244_11ec_a243_e0d46479bf07level0_row54\" class=\"row_heading level0 row54\" >54</th>\n",
       "                        <td id=\"T_9f3a3ad5_9244_11ec_a243_e0d46479bf07row54_col0\" class=\"data row54 col0\" >Feature Ratio</td>\n",
       "                        <td id=\"T_9f3a3ad5_9244_11ec_a243_e0d46479bf07row54_col1\" class=\"data row54 col1\" >False</td>\n",
       "            </tr>\n",
       "            <tr>\n",
       "                        <th id=\"T_9f3a3ad5_9244_11ec_a243_e0d46479bf07level0_row55\" class=\"row_heading level0 row55\" >55</th>\n",
       "                        <td id=\"T_9f3a3ad5_9244_11ec_a243_e0d46479bf07row55_col0\" class=\"data row55 col0\" >Interaction Threshold</td>\n",
       "                        <td id=\"T_9f3a3ad5_9244_11ec_a243_e0d46479bf07row55_col1\" class=\"data row55 col1\" >None</td>\n",
       "            </tr>\n",
       "            <tr>\n",
       "                        <th id=\"T_9f3a3ad5_9244_11ec_a243_e0d46479bf07level0_row56\" class=\"row_heading level0 row56\" >56</th>\n",
       "                        <td id=\"T_9f3a3ad5_9244_11ec_a243_e0d46479bf07row56_col0\" class=\"data row56 col0\" >Transform Target</td>\n",
       "                        <td id=\"T_9f3a3ad5_9244_11ec_a243_e0d46479bf07row56_col1\" class=\"data row56 col1\" >False</td>\n",
       "            </tr>\n",
       "            <tr>\n",
       "                        <th id=\"T_9f3a3ad5_9244_11ec_a243_e0d46479bf07level0_row57\" class=\"row_heading level0 row57\" >57</th>\n",
       "                        <td id=\"T_9f3a3ad5_9244_11ec_a243_e0d46479bf07row57_col0\" class=\"data row57 col0\" >Transform Target Method</td>\n",
       "                        <td id=\"T_9f3a3ad5_9244_11ec_a243_e0d46479bf07row57_col1\" class=\"data row57 col1\" >box-cox</td>\n",
       "            </tr>\n",
       "    </tbody></table>"
      ],
      "text/plain": [
       "<pandas.io.formats.style.Styler at 0x22f2377d550>"
      ]
     },
     "metadata": {},
     "output_type": "display_data"
    }
   ],
   "source": [
    "from pycaret.regression import *\n",
    "\n",
    "df = setup(data = train, target = 'value',train_size=0.8, session_id = 123)"
   ]
  },
  {
   "cell_type": "code",
   "execution_count": 39,
   "metadata": {},
   "outputs": [
    {
     "data": {
      "text/html": [
       "<style  type=\"text/css\" >\n",
       "    #T_c4b232c4_9244_11ec_bda3_e0d46479bf07 th {\n",
       "          text-align: left;\n",
       "    }#T_c4b232c4_9244_11ec_bda3_e0d46479bf07row0_col0,#T_c4b232c4_9244_11ec_bda3_e0d46479bf07row0_col4,#T_c4b232c4_9244_11ec_bda3_e0d46479bf07row1_col0,#T_c4b232c4_9244_11ec_bda3_e0d46479bf07row1_col1,#T_c4b232c4_9244_11ec_bda3_e0d46479bf07row1_col2,#T_c4b232c4_9244_11ec_bda3_e0d46479bf07row1_col3,#T_c4b232c4_9244_11ec_bda3_e0d46479bf07row1_col4,#T_c4b232c4_9244_11ec_bda3_e0d46479bf07row1_col5,#T_c4b232c4_9244_11ec_bda3_e0d46479bf07row1_col6,#T_c4b232c4_9244_11ec_bda3_e0d46479bf07row2_col0,#T_c4b232c4_9244_11ec_bda3_e0d46479bf07row2_col1,#T_c4b232c4_9244_11ec_bda3_e0d46479bf07row2_col2,#T_c4b232c4_9244_11ec_bda3_e0d46479bf07row2_col3,#T_c4b232c4_9244_11ec_bda3_e0d46479bf07row2_col5,#T_c4b232c4_9244_11ec_bda3_e0d46479bf07row2_col6,#T_c4b232c4_9244_11ec_bda3_e0d46479bf07row3_col0,#T_c4b232c4_9244_11ec_bda3_e0d46479bf07row3_col1,#T_c4b232c4_9244_11ec_bda3_e0d46479bf07row3_col2,#T_c4b232c4_9244_11ec_bda3_e0d46479bf07row3_col3,#T_c4b232c4_9244_11ec_bda3_e0d46479bf07row3_col4,#T_c4b232c4_9244_11ec_bda3_e0d46479bf07row3_col5,#T_c4b232c4_9244_11ec_bda3_e0d46479bf07row3_col6,#T_c4b232c4_9244_11ec_bda3_e0d46479bf07row4_col0,#T_c4b232c4_9244_11ec_bda3_e0d46479bf07row4_col1,#T_c4b232c4_9244_11ec_bda3_e0d46479bf07row4_col2,#T_c4b232c4_9244_11ec_bda3_e0d46479bf07row4_col3,#T_c4b232c4_9244_11ec_bda3_e0d46479bf07row4_col4,#T_c4b232c4_9244_11ec_bda3_e0d46479bf07row4_col5,#T_c4b232c4_9244_11ec_bda3_e0d46479bf07row4_col6,#T_c4b232c4_9244_11ec_bda3_e0d46479bf07row5_col0,#T_c4b232c4_9244_11ec_bda3_e0d46479bf07row5_col1,#T_c4b232c4_9244_11ec_bda3_e0d46479bf07row5_col2,#T_c4b232c4_9244_11ec_bda3_e0d46479bf07row5_col3,#T_c4b232c4_9244_11ec_bda3_e0d46479bf07row5_col4,#T_c4b232c4_9244_11ec_bda3_e0d46479bf07row5_col5,#T_c4b232c4_9244_11ec_bda3_e0d46479bf07row5_col6,#T_c4b232c4_9244_11ec_bda3_e0d46479bf07row6_col0,#T_c4b232c4_9244_11ec_bda3_e0d46479bf07row6_col1,#T_c4b232c4_9244_11ec_bda3_e0d46479bf07row6_col2,#T_c4b232c4_9244_11ec_bda3_e0d46479bf07row6_col3,#T_c4b232c4_9244_11ec_bda3_e0d46479bf07row6_col4,#T_c4b232c4_9244_11ec_bda3_e0d46479bf07row6_col5,#T_c4b232c4_9244_11ec_bda3_e0d46479bf07row6_col6,#T_c4b232c4_9244_11ec_bda3_e0d46479bf07row7_col0,#T_c4b232c4_9244_11ec_bda3_e0d46479bf07row7_col1,#T_c4b232c4_9244_11ec_bda3_e0d46479bf07row7_col2,#T_c4b232c4_9244_11ec_bda3_e0d46479bf07row7_col3,#T_c4b232c4_9244_11ec_bda3_e0d46479bf07row7_col4,#T_c4b232c4_9244_11ec_bda3_e0d46479bf07row7_col5,#T_c4b232c4_9244_11ec_bda3_e0d46479bf07row7_col6,#T_c4b232c4_9244_11ec_bda3_e0d46479bf07row8_col0,#T_c4b232c4_9244_11ec_bda3_e0d46479bf07row8_col1,#T_c4b232c4_9244_11ec_bda3_e0d46479bf07row8_col2,#T_c4b232c4_9244_11ec_bda3_e0d46479bf07row8_col3,#T_c4b232c4_9244_11ec_bda3_e0d46479bf07row8_col4,#T_c4b232c4_9244_11ec_bda3_e0d46479bf07row8_col5,#T_c4b232c4_9244_11ec_bda3_e0d46479bf07row8_col6,#T_c4b232c4_9244_11ec_bda3_e0d46479bf07row9_col0,#T_c4b232c4_9244_11ec_bda3_e0d46479bf07row9_col1,#T_c4b232c4_9244_11ec_bda3_e0d46479bf07row9_col2,#T_c4b232c4_9244_11ec_bda3_e0d46479bf07row9_col3,#T_c4b232c4_9244_11ec_bda3_e0d46479bf07row9_col4,#T_c4b232c4_9244_11ec_bda3_e0d46479bf07row9_col5,#T_c4b232c4_9244_11ec_bda3_e0d46479bf07row9_col6,#T_c4b232c4_9244_11ec_bda3_e0d46479bf07row10_col0,#T_c4b232c4_9244_11ec_bda3_e0d46479bf07row10_col1,#T_c4b232c4_9244_11ec_bda3_e0d46479bf07row10_col2,#T_c4b232c4_9244_11ec_bda3_e0d46479bf07row10_col3,#T_c4b232c4_9244_11ec_bda3_e0d46479bf07row10_col4,#T_c4b232c4_9244_11ec_bda3_e0d46479bf07row10_col5,#T_c4b232c4_9244_11ec_bda3_e0d46479bf07row10_col6,#T_c4b232c4_9244_11ec_bda3_e0d46479bf07row11_col0,#T_c4b232c4_9244_11ec_bda3_e0d46479bf07row11_col1,#T_c4b232c4_9244_11ec_bda3_e0d46479bf07row11_col2,#T_c4b232c4_9244_11ec_bda3_e0d46479bf07row11_col3,#T_c4b232c4_9244_11ec_bda3_e0d46479bf07row11_col4,#T_c4b232c4_9244_11ec_bda3_e0d46479bf07row11_col5,#T_c4b232c4_9244_11ec_bda3_e0d46479bf07row11_col6,#T_c4b232c4_9244_11ec_bda3_e0d46479bf07row12_col0,#T_c4b232c4_9244_11ec_bda3_e0d46479bf07row12_col1,#T_c4b232c4_9244_11ec_bda3_e0d46479bf07row12_col2,#T_c4b232c4_9244_11ec_bda3_e0d46479bf07row12_col3,#T_c4b232c4_9244_11ec_bda3_e0d46479bf07row12_col4,#T_c4b232c4_9244_11ec_bda3_e0d46479bf07row12_col5,#T_c4b232c4_9244_11ec_bda3_e0d46479bf07row12_col6,#T_c4b232c4_9244_11ec_bda3_e0d46479bf07row13_col0,#T_c4b232c4_9244_11ec_bda3_e0d46479bf07row13_col1,#T_c4b232c4_9244_11ec_bda3_e0d46479bf07row13_col2,#T_c4b232c4_9244_11ec_bda3_e0d46479bf07row13_col3,#T_c4b232c4_9244_11ec_bda3_e0d46479bf07row13_col4,#T_c4b232c4_9244_11ec_bda3_e0d46479bf07row13_col5,#T_c4b232c4_9244_11ec_bda3_e0d46479bf07row13_col6,#T_c4b232c4_9244_11ec_bda3_e0d46479bf07row14_col0,#T_c4b232c4_9244_11ec_bda3_e0d46479bf07row14_col1,#T_c4b232c4_9244_11ec_bda3_e0d46479bf07row14_col2,#T_c4b232c4_9244_11ec_bda3_e0d46479bf07row14_col3,#T_c4b232c4_9244_11ec_bda3_e0d46479bf07row14_col4,#T_c4b232c4_9244_11ec_bda3_e0d46479bf07row14_col5,#T_c4b232c4_9244_11ec_bda3_e0d46479bf07row14_col6,#T_c4b232c4_9244_11ec_bda3_e0d46479bf07row15_col0,#T_c4b232c4_9244_11ec_bda3_e0d46479bf07row15_col1,#T_c4b232c4_9244_11ec_bda3_e0d46479bf07row15_col2,#T_c4b232c4_9244_11ec_bda3_e0d46479bf07row15_col3,#T_c4b232c4_9244_11ec_bda3_e0d46479bf07row15_col4,#T_c4b232c4_9244_11ec_bda3_e0d46479bf07row15_col5,#T_c4b232c4_9244_11ec_bda3_e0d46479bf07row15_col6,#T_c4b232c4_9244_11ec_bda3_e0d46479bf07row16_col0,#T_c4b232c4_9244_11ec_bda3_e0d46479bf07row16_col1,#T_c4b232c4_9244_11ec_bda3_e0d46479bf07row16_col2,#T_c4b232c4_9244_11ec_bda3_e0d46479bf07row16_col3,#T_c4b232c4_9244_11ec_bda3_e0d46479bf07row16_col4,#T_c4b232c4_9244_11ec_bda3_e0d46479bf07row16_col5,#T_c4b232c4_9244_11ec_bda3_e0d46479bf07row16_col6,#T_c4b232c4_9244_11ec_bda3_e0d46479bf07row17_col0,#T_c4b232c4_9244_11ec_bda3_e0d46479bf07row17_col1,#T_c4b232c4_9244_11ec_bda3_e0d46479bf07row17_col2,#T_c4b232c4_9244_11ec_bda3_e0d46479bf07row17_col3,#T_c4b232c4_9244_11ec_bda3_e0d46479bf07row17_col4,#T_c4b232c4_9244_11ec_bda3_e0d46479bf07row17_col5,#T_c4b232c4_9244_11ec_bda3_e0d46479bf07row17_col6,#T_c4b232c4_9244_11ec_bda3_e0d46479bf07row18_col0,#T_c4b232c4_9244_11ec_bda3_e0d46479bf07row18_col1,#T_c4b232c4_9244_11ec_bda3_e0d46479bf07row18_col2,#T_c4b232c4_9244_11ec_bda3_e0d46479bf07row18_col3,#T_c4b232c4_9244_11ec_bda3_e0d46479bf07row18_col4,#T_c4b232c4_9244_11ec_bda3_e0d46479bf07row18_col5,#T_c4b232c4_9244_11ec_bda3_e0d46479bf07row18_col6{\n",
       "            text-align:  left;\n",
       "            text-align:  left;\n",
       "        }#T_c4b232c4_9244_11ec_bda3_e0d46479bf07row0_col1,#T_c4b232c4_9244_11ec_bda3_e0d46479bf07row0_col2,#T_c4b232c4_9244_11ec_bda3_e0d46479bf07row0_col3,#T_c4b232c4_9244_11ec_bda3_e0d46479bf07row0_col5,#T_c4b232c4_9244_11ec_bda3_e0d46479bf07row0_col6,#T_c4b232c4_9244_11ec_bda3_e0d46479bf07row2_col4{\n",
       "            text-align:  left;\n",
       "            text-align:  left;\n",
       "            background-color:  yellow;\n",
       "        }#T_c4b232c4_9244_11ec_bda3_e0d46479bf07row0_col7,#T_c4b232c4_9244_11ec_bda3_e0d46479bf07row1_col7,#T_c4b232c4_9244_11ec_bda3_e0d46479bf07row2_col7,#T_c4b232c4_9244_11ec_bda3_e0d46479bf07row3_col7,#T_c4b232c4_9244_11ec_bda3_e0d46479bf07row4_col7,#T_c4b232c4_9244_11ec_bda3_e0d46479bf07row5_col7,#T_c4b232c4_9244_11ec_bda3_e0d46479bf07row6_col7,#T_c4b232c4_9244_11ec_bda3_e0d46479bf07row7_col7,#T_c4b232c4_9244_11ec_bda3_e0d46479bf07row8_col7,#T_c4b232c4_9244_11ec_bda3_e0d46479bf07row9_col7,#T_c4b232c4_9244_11ec_bda3_e0d46479bf07row10_col7,#T_c4b232c4_9244_11ec_bda3_e0d46479bf07row11_col7,#T_c4b232c4_9244_11ec_bda3_e0d46479bf07row12_col7,#T_c4b232c4_9244_11ec_bda3_e0d46479bf07row14_col7,#T_c4b232c4_9244_11ec_bda3_e0d46479bf07row16_col7,#T_c4b232c4_9244_11ec_bda3_e0d46479bf07row17_col7,#T_c4b232c4_9244_11ec_bda3_e0d46479bf07row18_col7{\n",
       "            text-align:  left;\n",
       "            text-align:  left;\n",
       "            background-color:  lightgrey;\n",
       "        }#T_c4b232c4_9244_11ec_bda3_e0d46479bf07row13_col7,#T_c4b232c4_9244_11ec_bda3_e0d46479bf07row15_col7{\n",
       "            text-align:  left;\n",
       "            text-align:  left;\n",
       "            background-color:  yellow;\n",
       "            background-color:  lightgrey;\n",
       "        }</style><table id=\"T_c4b232c4_9244_11ec_bda3_e0d46479bf07\" ><thead>    <tr>        <th class=\"blank level0\" ></th>        <th class=\"col_heading level0 col0\" >Model</th>        <th class=\"col_heading level0 col1\" >MAE</th>        <th class=\"col_heading level0 col2\" >MSE</th>        <th class=\"col_heading level0 col3\" >RMSE</th>        <th class=\"col_heading level0 col4\" >R2</th>        <th class=\"col_heading level0 col5\" >RMSLE</th>        <th class=\"col_heading level0 col6\" >MAPE</th>        <th class=\"col_heading level0 col7\" >TT (Sec)</th>    </tr></thead><tbody>\n",
       "                <tr>\n",
       "                        <th id=\"T_c4b232c4_9244_11ec_bda3_e0d46479bf07level0_row0\" class=\"row_heading level0 row0\" >catboost</th>\n",
       "                        <td id=\"T_c4b232c4_9244_11ec_bda3_e0d46479bf07row0_col0\" class=\"data row0 col0\" >CatBoost Regressor</td>\n",
       "                        <td id=\"T_c4b232c4_9244_11ec_bda3_e0d46479bf07row0_col1\" class=\"data row0 col1\" >41051.5440</td>\n",
       "                        <td id=\"T_c4b232c4_9244_11ec_bda3_e0d46479bf07row0_col2\" class=\"data row0 col2\" >71866056933.4822</td>\n",
       "                        <td id=\"T_c4b232c4_9244_11ec_bda3_e0d46479bf07row0_col3\" class=\"data row0 col3\" >144774.2963</td>\n",
       "                        <td id=\"T_c4b232c4_9244_11ec_bda3_e0d46479bf07row0_col4\" class=\"data row0 col4\" >0.2979</td>\n",
       "                        <td id=\"T_c4b232c4_9244_11ec_bda3_e0d46479bf07row0_col5\" class=\"data row0 col5\" >0.0495</td>\n",
       "                        <td id=\"T_c4b232c4_9244_11ec_bda3_e0d46479bf07row0_col6\" class=\"data row0 col6\" >0.0238</td>\n",
       "                        <td id=\"T_c4b232c4_9244_11ec_bda3_e0d46479bf07row0_col7\" class=\"data row0 col7\" >0.2260</td>\n",
       "            </tr>\n",
       "            <tr>\n",
       "                        <th id=\"T_c4b232c4_9244_11ec_bda3_e0d46479bf07level0_row1\" class=\"row_heading level0 row1\" >gbr</th>\n",
       "                        <td id=\"T_c4b232c4_9244_11ec_bda3_e0d46479bf07row1_col0\" class=\"data row1 col0\" >Gradient Boosting Regressor</td>\n",
       "                        <td id=\"T_c4b232c4_9244_11ec_bda3_e0d46479bf07row1_col1\" class=\"data row1 col1\" >243835.5089</td>\n",
       "                        <td id=\"T_c4b232c4_9244_11ec_bda3_e0d46479bf07row1_col2\" class=\"data row1 col2\" >702146176549.3835</td>\n",
       "                        <td id=\"T_c4b232c4_9244_11ec_bda3_e0d46479bf07row1_col3\" class=\"data row1 col3\" >745109.6208</td>\n",
       "                        <td id=\"T_c4b232c4_9244_11ec_bda3_e0d46479bf07row1_col4\" class=\"data row1 col4\" >0.9825</td>\n",
       "                        <td id=\"T_c4b232c4_9244_11ec_bda3_e0d46479bf07row1_col5\" class=\"data row1 col5\" >0.3472</td>\n",
       "                        <td id=\"T_c4b232c4_9244_11ec_bda3_e0d46479bf07row1_col6\" class=\"data row1 col6\" >0.2248</td>\n",
       "                        <td id=\"T_c4b232c4_9244_11ec_bda3_e0d46479bf07row1_col7\" class=\"data row1 col7\" >0.1180</td>\n",
       "            </tr>\n",
       "            <tr>\n",
       "                        <th id=\"T_c4b232c4_9244_11ec_bda3_e0d46479bf07level0_row2\" class=\"row_heading level0 row2\" >xgboost</th>\n",
       "                        <td id=\"T_c4b232c4_9244_11ec_bda3_e0d46479bf07row2_col0\" class=\"data row2 col0\" >Extreme Gradient Boosting</td>\n",
       "                        <td id=\"T_c4b232c4_9244_11ec_bda3_e0d46479bf07row2_col1\" class=\"data row2 col1\" >174113.7211</td>\n",
       "                        <td id=\"T_c4b232c4_9244_11ec_bda3_e0d46479bf07row2_col2\" class=\"data row2 col2\" >689756702310.4000</td>\n",
       "                        <td id=\"T_c4b232c4_9244_11ec_bda3_e0d46479bf07row2_col3\" class=\"data row2 col3\" >752622.0531</td>\n",
       "                        <td id=\"T_c4b232c4_9244_11ec_bda3_e0d46479bf07row2_col4\" class=\"data row2 col4\" >0.9829</td>\n",
       "                        <td id=\"T_c4b232c4_9244_11ec_bda3_e0d46479bf07row2_col5\" class=\"data row2 col5\" >0.1109</td>\n",
       "                        <td id=\"T_c4b232c4_9244_11ec_bda3_e0d46479bf07row2_col6\" class=\"data row2 col6\" >0.0661</td>\n",
       "                        <td id=\"T_c4b232c4_9244_11ec_bda3_e0d46479bf07row2_col7\" class=\"data row2 col7\" >0.4680</td>\n",
       "            </tr>\n",
       "            <tr>\n",
       "                        <th id=\"T_c4b232c4_9244_11ec_bda3_e0d46479bf07level0_row3\" class=\"row_heading level0 row3\" >et</th>\n",
       "                        <td id=\"T_c4b232c4_9244_11ec_bda3_e0d46479bf07row3_col0\" class=\"data row3 col0\" >Extra Trees Regressor</td>\n",
       "                        <td id=\"T_c4b232c4_9244_11ec_bda3_e0d46479bf07row3_col1\" class=\"data row3 col1\" >184571.7104</td>\n",
       "                        <td id=\"T_c4b232c4_9244_11ec_bda3_e0d46479bf07row3_col2\" class=\"data row3 col2\" >895952472309.4324</td>\n",
       "                        <td id=\"T_c4b232c4_9244_11ec_bda3_e0d46479bf07row3_col3\" class=\"data row3 col3\" >860960.9488</td>\n",
       "                        <td id=\"T_c4b232c4_9244_11ec_bda3_e0d46479bf07row3_col4\" class=\"data row3 col4\" >0.9771</td>\n",
       "                        <td id=\"T_c4b232c4_9244_11ec_bda3_e0d46479bf07row3_col5\" class=\"data row3 col5\" >0.1078</td>\n",
       "                        <td id=\"T_c4b232c4_9244_11ec_bda3_e0d46479bf07row3_col6\" class=\"data row3 col6\" >0.0581</td>\n",
       "                        <td id=\"T_c4b232c4_9244_11ec_bda3_e0d46479bf07row3_col7\" class=\"data row3 col7\" >0.3780</td>\n",
       "            </tr>\n",
       "            <tr>\n",
       "                        <th id=\"T_c4b232c4_9244_11ec_bda3_e0d46479bf07level0_row4\" class=\"row_heading level0 row4\" >rf</th>\n",
       "                        <td id=\"T_c4b232c4_9244_11ec_bda3_e0d46479bf07row4_col0\" class=\"data row4 col0\" >Random Forest Regressor</td>\n",
       "                        <td id=\"T_c4b232c4_9244_11ec_bda3_e0d46479bf07row4_col1\" class=\"data row4 col1\" >191031.1757</td>\n",
       "                        <td id=\"T_c4b232c4_9244_11ec_bda3_e0d46479bf07row4_col2\" class=\"data row4 col2\" >960944851760.8188</td>\n",
       "                        <td id=\"T_c4b232c4_9244_11ec_bda3_e0d46479bf07row4_col3\" class=\"data row4 col3\" >876791.8488</td>\n",
       "                        <td id=\"T_c4b232c4_9244_11ec_bda3_e0d46479bf07row4_col4\" class=\"data row4 col4\" >0.9757</td>\n",
       "                        <td id=\"T_c4b232c4_9244_11ec_bda3_e0d46479bf07row4_col5\" class=\"data row4 col5\" >0.1031</td>\n",
       "                        <td id=\"T_c4b232c4_9244_11ec_bda3_e0d46479bf07row4_col6\" class=\"data row4 col6\" >0.0590</td>\n",
       "                        <td id=\"T_c4b232c4_9244_11ec_bda3_e0d46479bf07row4_col7\" class=\"data row4 col7\" >0.3060</td>\n",
       "            </tr>\n",
       "            <tr>\n",
       "                        <th id=\"T_c4b232c4_9244_11ec_bda3_e0d46479bf07level0_row5\" class=\"row_heading level0 row5\" >lightgbm</th>\n",
       "                        <td id=\"T_c4b232c4_9244_11ec_bda3_e0d46479bf07row5_col0\" class=\"data row5 col0\" >Light Gradient Boosting Machine</td>\n",
       "                        <td id=\"T_c4b232c4_9244_11ec_bda3_e0d46479bf07row5_col1\" class=\"data row5 col1\" >197875.9780</td>\n",
       "                        <td id=\"T_c4b232c4_9244_11ec_bda3_e0d46479bf07row5_col2\" class=\"data row5 col2\" >1255881945916.5540</td>\n",
       "                        <td id=\"T_c4b232c4_9244_11ec_bda3_e0d46479bf07row5_col3\" class=\"data row5 col3\" >981247.2426</td>\n",
       "                        <td id=\"T_c4b232c4_9244_11ec_bda3_e0d46479bf07row5_col4\" class=\"data row5 col4\" >0.9690</td>\n",
       "                        <td id=\"T_c4b232c4_9244_11ec_bda3_e0d46479bf07row5_col5\" class=\"data row5 col5\" >0.1913</td>\n",
       "                        <td id=\"T_c4b232c4_9244_11ec_bda3_e0d46479bf07row5_col6\" class=\"data row5 col6\" >0.1135</td>\n",
       "                        <td id=\"T_c4b232c4_9244_11ec_bda3_e0d46479bf07row5_col7\" class=\"data row5 col7\" >0.1450</td>\n",
       "            </tr>\n",
       "            <tr>\n",
       "                        <th id=\"T_c4b232c4_9244_11ec_bda3_e0d46479bf07level0_row6\" class=\"row_heading level0 row6\" >dt</th>\n",
       "                        <td id=\"T_c4b232c4_9244_11ec_bda3_e0d46479bf07row6_col0\" class=\"data row6 col0\" >Decision Tree Regressor</td>\n",
       "                        <td id=\"T_c4b232c4_9244_11ec_bda3_e0d46479bf07row6_col1\" class=\"data row6 col1\" >249113.8296</td>\n",
       "                        <td id=\"T_c4b232c4_9244_11ec_bda3_e0d46479bf07row6_col2\" class=\"data row6 col2\" >1598879563506.0405</td>\n",
       "                        <td id=\"T_c4b232c4_9244_11ec_bda3_e0d46479bf07row6_col3\" class=\"data row6 col3\" >1192607.3951</td>\n",
       "                        <td id=\"T_c4b232c4_9244_11ec_bda3_e0d46479bf07row6_col4\" class=\"data row6 col4\" >0.9572</td>\n",
       "                        <td id=\"T_c4b232c4_9244_11ec_bda3_e0d46479bf07row6_col5\" class=\"data row6 col5\" >0.1390</td>\n",
       "                        <td id=\"T_c4b232c4_9244_11ec_bda3_e0d46479bf07row6_col6\" class=\"data row6 col6\" >0.0671</td>\n",
       "                        <td id=\"T_c4b232c4_9244_11ec_bda3_e0d46479bf07row6_col7\" class=\"data row6 col7\" >0.0180</td>\n",
       "            </tr>\n",
       "            <tr>\n",
       "                        <th id=\"T_c4b232c4_9244_11ec_bda3_e0d46479bf07level0_row7\" class=\"row_heading level0 row7\" >ada</th>\n",
       "                        <td id=\"T_c4b232c4_9244_11ec_bda3_e0d46479bf07row7_col0\" class=\"data row7 col0\" >AdaBoost Regressor</td>\n",
       "                        <td id=\"T_c4b232c4_9244_11ec_bda3_e0d46479bf07row7_col1\" class=\"data row7 col1\" >1760014.2648</td>\n",
       "                        <td id=\"T_c4b232c4_9244_11ec_bda3_e0d46479bf07row7_col2\" class=\"data row7 col2\" >4727262941714.3799</td>\n",
       "                        <td id=\"T_c4b232c4_9244_11ec_bda3_e0d46479bf07row7_col3\" class=\"data row7 col3\" >2149048.5579</td>\n",
       "                        <td id=\"T_c4b232c4_9244_11ec_bda3_e0d46479bf07row7_col4\" class=\"data row7 col4\" >0.8610</td>\n",
       "                        <td id=\"T_c4b232c4_9244_11ec_bda3_e0d46479bf07row7_col5\" class=\"data row7 col5\" >1.5744</td>\n",
       "                        <td id=\"T_c4b232c4_9244_11ec_bda3_e0d46479bf07row7_col6\" class=\"data row7 col6\" >5.1251</td>\n",
       "                        <td id=\"T_c4b232c4_9244_11ec_bda3_e0d46479bf07row7_col7\" class=\"data row7 col7\" >0.1060</td>\n",
       "            </tr>\n",
       "            <tr>\n",
       "                        <th id=\"T_c4b232c4_9244_11ec_bda3_e0d46479bf07level0_row8\" class=\"row_heading level0 row8\" >knn</th>\n",
       "                        <td id=\"T_c4b232c4_9244_11ec_bda3_e0d46479bf07row8_col0\" class=\"data row8 col0\" >K Neighbors Regressor</td>\n",
       "                        <td id=\"T_c4b232c4_9244_11ec_bda3_e0d46479bf07row8_col1\" class=\"data row8 col1\" >1204692.2000</td>\n",
       "                        <td id=\"T_c4b232c4_9244_11ec_bda3_e0d46479bf07row8_col2\" class=\"data row8 col2\" >11849740111052.8008</td>\n",
       "                        <td id=\"T_c4b232c4_9244_11ec_bda3_e0d46479bf07row8_col3\" class=\"data row8 col3\" >3383021.8000</td>\n",
       "                        <td id=\"T_c4b232c4_9244_11ec_bda3_e0d46479bf07row8_col4\" class=\"data row8 col4\" >0.6666</td>\n",
       "                        <td id=\"T_c4b232c4_9244_11ec_bda3_e0d46479bf07row8_col5\" class=\"data row8 col5\" >0.6408</td>\n",
       "                        <td id=\"T_c4b232c4_9244_11ec_bda3_e0d46479bf07row8_col6\" class=\"data row8 col6\" >0.7260</td>\n",
       "                        <td id=\"T_c4b232c4_9244_11ec_bda3_e0d46479bf07row8_col7\" class=\"data row8 col7\" >0.0400</td>\n",
       "            </tr>\n",
       "            <tr>\n",
       "                        <th id=\"T_c4b232c4_9244_11ec_bda3_e0d46479bf07level0_row9\" class=\"row_heading level0 row9\" >llar</th>\n",
       "                        <td id=\"T_c4b232c4_9244_11ec_bda3_e0d46479bf07row9_col0\" class=\"data row9 col0\" >Lasso Least Angle Regression</td>\n",
       "                        <td id=\"T_c4b232c4_9244_11ec_bda3_e0d46479bf07row9_col1\" class=\"data row9 col1\" >1905665.5363</td>\n",
       "                        <td id=\"T_c4b232c4_9244_11ec_bda3_e0d46479bf07row9_col2\" class=\"data row9 col2\" >12296915435989.0586</td>\n",
       "                        <td id=\"T_c4b232c4_9244_11ec_bda3_e0d46479bf07row9_col3\" class=\"data row9 col3\" >3459749.3695</td>\n",
       "                        <td id=\"T_c4b232c4_9244_11ec_bda3_e0d46479bf07row9_col4\" class=\"data row9 col4\" >0.6513</td>\n",
       "                        <td id=\"T_c4b232c4_9244_11ec_bda3_e0d46479bf07row9_col5\" class=\"data row9 col5\" >1.3616</td>\n",
       "                        <td id=\"T_c4b232c4_9244_11ec_bda3_e0d46479bf07row9_col6\" class=\"data row9 col6\" >5.0774</td>\n",
       "                        <td id=\"T_c4b232c4_9244_11ec_bda3_e0d46479bf07row9_col7\" class=\"data row9 col7\" >0.0090</td>\n",
       "            </tr>\n",
       "            <tr>\n",
       "                        <th id=\"T_c4b232c4_9244_11ec_bda3_e0d46479bf07level0_row10\" class=\"row_heading level0 row10\" >lasso</th>\n",
       "                        <td id=\"T_c4b232c4_9244_11ec_bda3_e0d46479bf07row10_col0\" class=\"data row10 col0\" >Lasso Regression</td>\n",
       "                        <td id=\"T_c4b232c4_9244_11ec_bda3_e0d46479bf07row10_col1\" class=\"data row10 col1\" >1906258.2736</td>\n",
       "                        <td id=\"T_c4b232c4_9244_11ec_bda3_e0d46479bf07row10_col2\" class=\"data row10 col2\" >12297949822667.5527</td>\n",
       "                        <td id=\"T_c4b232c4_9244_11ec_bda3_e0d46479bf07row10_col3\" class=\"data row10 col3\" >3459970.0720</td>\n",
       "                        <td id=\"T_c4b232c4_9244_11ec_bda3_e0d46479bf07row10_col4\" class=\"data row10 col4\" >0.6512</td>\n",
       "                        <td id=\"T_c4b232c4_9244_11ec_bda3_e0d46479bf07row10_col5\" class=\"data row10 col5\" >1.3640</td>\n",
       "                        <td id=\"T_c4b232c4_9244_11ec_bda3_e0d46479bf07row10_col6\" class=\"data row10 col6\" >5.0803</td>\n",
       "                        <td id=\"T_c4b232c4_9244_11ec_bda3_e0d46479bf07row10_col7\" class=\"data row10 col7\" >0.0390</td>\n",
       "            </tr>\n",
       "            <tr>\n",
       "                        <th id=\"T_c4b232c4_9244_11ec_bda3_e0d46479bf07level0_row11\" class=\"row_heading level0 row11\" >lr</th>\n",
       "                        <td id=\"T_c4b232c4_9244_11ec_bda3_e0d46479bf07row11_col0\" class=\"data row11 col0\" >Linear Regression</td>\n",
       "                        <td id=\"T_c4b232c4_9244_11ec_bda3_e0d46479bf07row11_col1\" class=\"data row11 col1\" >1906280.5997</td>\n",
       "                        <td id=\"T_c4b232c4_9244_11ec_bda3_e0d46479bf07row11_col2\" class=\"data row11 col2\" >12301559303320.1367</td>\n",
       "                        <td id=\"T_c4b232c4_9244_11ec_bda3_e0d46479bf07row11_col3\" class=\"data row11 col3\" >3460580.1728</td>\n",
       "                        <td id=\"T_c4b232c4_9244_11ec_bda3_e0d46479bf07row11_col4\" class=\"data row11 col4\" >0.6511</td>\n",
       "                        <td id=\"T_c4b232c4_9244_11ec_bda3_e0d46479bf07row11_col5\" class=\"data row11 col5\" >1.3767</td>\n",
       "                        <td id=\"T_c4b232c4_9244_11ec_bda3_e0d46479bf07row11_col6\" class=\"data row11 col6\" >5.0783</td>\n",
       "                        <td id=\"T_c4b232c4_9244_11ec_bda3_e0d46479bf07row11_col7\" class=\"data row11 col7\" >1.2640</td>\n",
       "            </tr>\n",
       "            <tr>\n",
       "                        <th id=\"T_c4b232c4_9244_11ec_bda3_e0d46479bf07level0_row12\" class=\"row_heading level0 row12\" >ridge</th>\n",
       "                        <td id=\"T_c4b232c4_9244_11ec_bda3_e0d46479bf07row12_col0\" class=\"data row12 col0\" >Ridge Regression</td>\n",
       "                        <td id=\"T_c4b232c4_9244_11ec_bda3_e0d46479bf07row12_col1\" class=\"data row12 col1\" >1895794.2102</td>\n",
       "                        <td id=\"T_c4b232c4_9244_11ec_bda3_e0d46479bf07row12_col2\" class=\"data row12 col2\" >12308134282834.4746</td>\n",
       "                        <td id=\"T_c4b232c4_9244_11ec_bda3_e0d46479bf07row12_col3\" class=\"data row12 col3\" >3460989.2384</td>\n",
       "                        <td id=\"T_c4b232c4_9244_11ec_bda3_e0d46479bf07row12_col4\" class=\"data row12 col4\" >0.6511</td>\n",
       "                        <td id=\"T_c4b232c4_9244_11ec_bda3_e0d46479bf07row12_col5\" class=\"data row12 col5\" >1.3539</td>\n",
       "                        <td id=\"T_c4b232c4_9244_11ec_bda3_e0d46479bf07row12_col6\" class=\"data row12 col6\" >4.9875</td>\n",
       "                        <td id=\"T_c4b232c4_9244_11ec_bda3_e0d46479bf07row12_col7\" class=\"data row12 col7\" >0.0090</td>\n",
       "            </tr>\n",
       "            <tr>\n",
       "                        <th id=\"T_c4b232c4_9244_11ec_bda3_e0d46479bf07level0_row13\" class=\"row_heading level0 row13\" >omp</th>\n",
       "                        <td id=\"T_c4b232c4_9244_11ec_bda3_e0d46479bf07row13_col0\" class=\"data row13 col0\" >Orthogonal Matching Pursuit</td>\n",
       "                        <td id=\"T_c4b232c4_9244_11ec_bda3_e0d46479bf07row13_col1\" class=\"data row13 col1\" >2071094.9154</td>\n",
       "                        <td id=\"T_c4b232c4_9244_11ec_bda3_e0d46479bf07row13_col2\" class=\"data row13 col2\" >14705333590771.7441</td>\n",
       "                        <td id=\"T_c4b232c4_9244_11ec_bda3_e0d46479bf07row13_col3\" class=\"data row13 col3\" >3790649.5001</td>\n",
       "                        <td id=\"T_c4b232c4_9244_11ec_bda3_e0d46479bf07row13_col4\" class=\"data row13 col4\" >0.5799</td>\n",
       "                        <td id=\"T_c4b232c4_9244_11ec_bda3_e0d46479bf07row13_col5\" class=\"data row13 col5\" >1.3163</td>\n",
       "                        <td id=\"T_c4b232c4_9244_11ec_bda3_e0d46479bf07row13_col6\" class=\"data row13 col6\" >4.2604</td>\n",
       "                        <td id=\"T_c4b232c4_9244_11ec_bda3_e0d46479bf07row13_col7\" class=\"data row13 col7\" >0.0080</td>\n",
       "            </tr>\n",
       "            <tr>\n",
       "                        <th id=\"T_c4b232c4_9244_11ec_bda3_e0d46479bf07level0_row14\" class=\"row_heading level0 row14\" >huber</th>\n",
       "                        <td id=\"T_c4b232c4_9244_11ec_bda3_e0d46479bf07row14_col0\" class=\"data row14 col0\" >Huber Regressor</td>\n",
       "                        <td id=\"T_c4b232c4_9244_11ec_bda3_e0d46479bf07row14_col1\" class=\"data row14 col1\" >1662548.6172</td>\n",
       "                        <td id=\"T_c4b232c4_9244_11ec_bda3_e0d46479bf07row14_col2\" class=\"data row14 col2\" >21252318016376.1523</td>\n",
       "                        <td id=\"T_c4b232c4_9244_11ec_bda3_e0d46479bf07row14_col3\" class=\"data row14 col3\" >4538763.7835</td>\n",
       "                        <td id=\"T_c4b232c4_9244_11ec_bda3_e0d46479bf07row14_col4\" class=\"data row14 col4\" >0.4040</td>\n",
       "                        <td id=\"T_c4b232c4_9244_11ec_bda3_e0d46479bf07row14_col5\" class=\"data row14 col5\" >0.8661</td>\n",
       "                        <td id=\"T_c4b232c4_9244_11ec_bda3_e0d46479bf07row14_col6\" class=\"data row14 col6\" >1.1465</td>\n",
       "                        <td id=\"T_c4b232c4_9244_11ec_bda3_e0d46479bf07row14_col7\" class=\"data row14 col7\" >0.0890</td>\n",
       "            </tr>\n",
       "            <tr>\n",
       "                        <th id=\"T_c4b232c4_9244_11ec_bda3_e0d46479bf07level0_row15\" class=\"row_heading level0 row15\" >en</th>\n",
       "                        <td id=\"T_c4b232c4_9244_11ec_bda3_e0d46479bf07row15_col0\" class=\"data row15 col0\" >Elastic Net</td>\n",
       "                        <td id=\"T_c4b232c4_9244_11ec_bda3_e0d46479bf07row15_col1\" class=\"data row15 col1\" >2428884.7213</td>\n",
       "                        <td id=\"T_c4b232c4_9244_11ec_bda3_e0d46479bf07row15_col2\" class=\"data row15 col2\" >24633713922487.4492</td>\n",
       "                        <td id=\"T_c4b232c4_9244_11ec_bda3_e0d46479bf07row15_col3\" class=\"data row15 col3\" >4888277.4256</td>\n",
       "                        <td id=\"T_c4b232c4_9244_11ec_bda3_e0d46479bf07row15_col4\" class=\"data row15 col4\" >0.3083</td>\n",
       "                        <td id=\"T_c4b232c4_9244_11ec_bda3_e0d46479bf07row15_col5\" class=\"data row15 col5\" >1.4290</td>\n",
       "                        <td id=\"T_c4b232c4_9244_11ec_bda3_e0d46479bf07row15_col6\" class=\"data row15 col6\" >3.5534</td>\n",
       "                        <td id=\"T_c4b232c4_9244_11ec_bda3_e0d46479bf07row15_col7\" class=\"data row15 col7\" >0.0080</td>\n",
       "            </tr>\n",
       "            <tr>\n",
       "                        <th id=\"T_c4b232c4_9244_11ec_bda3_e0d46479bf07level0_row16\" class=\"row_heading level0 row16\" >lar</th>\n",
       "                        <td id=\"T_c4b232c4_9244_11ec_bda3_e0d46479bf07row16_col0\" class=\"data row16 col0\" >Least Angle Regression</td>\n",
       "                        <td id=\"T_c4b232c4_9244_11ec_bda3_e0d46479bf07row16_col1\" class=\"data row16 col1\" >2241224.5828</td>\n",
       "                        <td id=\"T_c4b232c4_9244_11ec_bda3_e0d46479bf07row16_col2\" class=\"data row16 col2\" >41242539498430.4453</td>\n",
       "                        <td id=\"T_c4b232c4_9244_11ec_bda3_e0d46479bf07row16_col3\" class=\"data row16 col3\" >5334612.0934</td>\n",
       "                        <td id=\"T_c4b232c4_9244_11ec_bda3_e0d46479bf07row16_col4\" class=\"data row16 col4\" >-0.4217</td>\n",
       "                        <td id=\"T_c4b232c4_9244_11ec_bda3_e0d46479bf07row16_col5\" class=\"data row16 col5\" >1.6356</td>\n",
       "                        <td id=\"T_c4b232c4_9244_11ec_bda3_e0d46479bf07row16_col6\" class=\"data row16 col6\" >5.7471</td>\n",
       "                        <td id=\"T_c4b232c4_9244_11ec_bda3_e0d46479bf07row16_col7\" class=\"data row16 col7\" >0.0100</td>\n",
       "            </tr>\n",
       "            <tr>\n",
       "                        <th id=\"T_c4b232c4_9244_11ec_bda3_e0d46479bf07level0_row17\" class=\"row_heading level0 row17\" >par</th>\n",
       "                        <td id=\"T_c4b232c4_9244_11ec_bda3_e0d46479bf07row17_col0\" class=\"data row17 col0\" >Passive Aggressive Regressor</td>\n",
       "                        <td id=\"T_c4b232c4_9244_11ec_bda3_e0d46479bf07row17_col1\" class=\"data row17 col1\" >2157948.2822</td>\n",
       "                        <td id=\"T_c4b232c4_9244_11ec_bda3_e0d46479bf07row17_col2\" class=\"data row17 col2\" >34790896601498.3086</td>\n",
       "                        <td id=\"T_c4b232c4_9244_11ec_bda3_e0d46479bf07row17_col3\" class=\"data row17 col3\" >5824149.3346</td>\n",
       "                        <td id=\"T_c4b232c4_9244_11ec_bda3_e0d46479bf07row17_col4\" class=\"data row17 col4\" >0.0134</td>\n",
       "                        <td id=\"T_c4b232c4_9244_11ec_bda3_e0d46479bf07row17_col5\" class=\"data row17 col5\" >1.0669</td>\n",
       "                        <td id=\"T_c4b232c4_9244_11ec_bda3_e0d46479bf07row17_col6\" class=\"data row17 col6\" >0.9984</td>\n",
       "                        <td id=\"T_c4b232c4_9244_11ec_bda3_e0d46479bf07row17_col7\" class=\"data row17 col7\" >0.1740</td>\n",
       "            </tr>\n",
       "            <tr>\n",
       "                        <th id=\"T_c4b232c4_9244_11ec_bda3_e0d46479bf07level0_row18\" class=\"row_heading level0 row18\" >br</th>\n",
       "                        <td id=\"T_c4b232c4_9244_11ec_bda3_e0d46479bf07row18_col0\" class=\"data row18 col0\" >Bayesian Ridge</td>\n",
       "                        <td id=\"T_c4b232c4_9244_11ec_bda3_e0d46479bf07row18_col1\" class=\"data row18 col1\" >3118351.8435</td>\n",
       "                        <td id=\"T_c4b232c4_9244_11ec_bda3_e0d46479bf07row18_col2\" class=\"data row18 col2\" >35261594544820.9375</td>\n",
       "                        <td id=\"T_c4b232c4_9244_11ec_bda3_e0d46479bf07row18_col3\" class=\"data row18 col3\" >5866845.4517</td>\n",
       "                        <td id=\"T_c4b232c4_9244_11ec_bda3_e0d46479bf07row18_col4\" class=\"data row18 col4\" >-0.0023</td>\n",
       "                        <td id=\"T_c4b232c4_9244_11ec_bda3_e0d46479bf07row18_col5\" class=\"data row18 col5\" >1.7581</td>\n",
       "                        <td id=\"T_c4b232c4_9244_11ec_bda3_e0d46479bf07row18_col6\" class=\"data row18 col6\" >6.0178</td>\n",
       "                        <td id=\"T_c4b232c4_9244_11ec_bda3_e0d46479bf07row18_col7\" class=\"data row18 col7\" >0.0090</td>\n",
       "            </tr>\n",
       "    </tbody></table>"
      ],
      "text/plain": [
       "<pandas.io.formats.style.Styler at 0x22f21d543a0>"
      ]
     },
     "metadata": {},
     "output_type": "display_data"
    }
   ],
   "source": [
    "best = compare_models(sort='RMSE')"
   ]
  },
  {
   "cell_type": "code",
   "execution_count": 40,
   "metadata": {
    "id": "IKuogOdS9hsP"
   },
   "outputs": [
    {
     "data": {
      "text/html": [
       "<div>\n",
       "<style scoped>\n",
       "    .dataframe tbody tr th:only-of-type {\n",
       "        vertical-align: middle;\n",
       "    }\n",
       "\n",
       "    .dataframe tbody tr th {\n",
       "        vertical-align: top;\n",
       "    }\n",
       "\n",
       "    .dataframe thead th {\n",
       "        text-align: right;\n",
       "    }\n",
       "</style>\n",
       "<table border=\"1\" class=\"dataframe\">\n",
       "  <thead>\n",
       "    <tr style=\"text-align: right;\">\n",
       "      <th></th>\n",
       "      <th>MAE</th>\n",
       "      <th>MSE</th>\n",
       "      <th>RMSE</th>\n",
       "      <th>R2</th>\n",
       "      <th>RMSLE</th>\n",
       "      <th>MAPE</th>\n",
       "    </tr>\n",
       "  </thead>\n",
       "  <tbody>\n",
       "    <tr>\n",
       "      <th>0</th>\n",
       "      <td>221876.2195</td>\n",
       "      <td>4.374862e+11</td>\n",
       "      <td>661427.4068</td>\n",
       "      <td>0.9852</td>\n",
       "      <td>0.3315</td>\n",
       "      <td>0.2463</td>\n",
       "    </tr>\n",
       "  </tbody>\n",
       "</table>\n",
       "</div>"
      ],
      "text/plain": [
       "           MAE           MSE         RMSE      R2   RMSLE    MAPE\n",
       "0  221876.2195  4.374862e+11  661427.4068  0.9852  0.3315  0.2463"
      ]
     },
     "metadata": {},
     "output_type": "display_data"
    }
   ],
   "source": [
    "# 모델 생성하기\n",
    "cat = create_model('catboost', cross_validation = False)\n",
    "xgb = create_model('xgboost', cross_validation = False)\n",
    "gbr = create_model('gbr', cross_validation = False)"
   ]
  },
  {
   "cell_type": "code",
   "execution_count": 41,
   "metadata": {},
   "outputs": [
    {
     "data": {
      "text/html": [
       "<style  type=\"text/css\" >\n",
       "#T_21ea273a_9245_11ec_b18a_e0d46479bf07row10_col0,#T_21ea273a_9245_11ec_b18a_e0d46479bf07row10_col1,#T_21ea273a_9245_11ec_b18a_e0d46479bf07row10_col2,#T_21ea273a_9245_11ec_b18a_e0d46479bf07row10_col3,#T_21ea273a_9245_11ec_b18a_e0d46479bf07row10_col4,#T_21ea273a_9245_11ec_b18a_e0d46479bf07row10_col5{\n",
       "            background:  yellow;\n",
       "        }</style><table id=\"T_21ea273a_9245_11ec_b18a_e0d46479bf07\" ><thead>    <tr>        <th class=\"blank level0\" ></th>        <th class=\"col_heading level0 col0\" >MAE</th>        <th class=\"col_heading level0 col1\" >MSE</th>        <th class=\"col_heading level0 col2\" >RMSE</th>        <th class=\"col_heading level0 col3\" >R2</th>        <th class=\"col_heading level0 col4\" >RMSLE</th>        <th class=\"col_heading level0 col5\" >MAPE</th>    </tr></thead><tbody>\n",
       "                <tr>\n",
       "                        <th id=\"T_21ea273a_9245_11ec_b18a_e0d46479bf07level0_row0\" class=\"row_heading level0 row0\" >0</th>\n",
       "                        <td id=\"T_21ea273a_9245_11ec_b18a_e0d46479bf07row0_col0\" class=\"data row0 col0\" >153749.2108</td>\n",
       "                        <td id=\"T_21ea273a_9245_11ec_b18a_e0d46479bf07row0_col1\" class=\"data row0 col1\" >763628859204.8037</td>\n",
       "                        <td id=\"T_21ea273a_9245_11ec_b18a_e0d46479bf07row0_col2\" class=\"data row0 col2\" >873858.6037</td>\n",
       "                        <td id=\"T_21ea273a_9245_11ec_b18a_e0d46479bf07row0_col3\" class=\"data row0 col3\" >0.9680</td>\n",
       "                        <td id=\"T_21ea273a_9245_11ec_b18a_e0d46479bf07row0_col4\" class=\"data row0 col4\" >0.1001</td>\n",
       "                        <td id=\"T_21ea273a_9245_11ec_b18a_e0d46479bf07row0_col5\" class=\"data row0 col5\" >0.0625</td>\n",
       "            </tr>\n",
       "            <tr>\n",
       "                        <th id=\"T_21ea273a_9245_11ec_b18a_e0d46479bf07level0_row1\" class=\"row_heading level0 row1\" >1</th>\n",
       "                        <td id=\"T_21ea273a_9245_11ec_b18a_e0d46479bf07row1_col0\" class=\"data row1 col0\" >166765.2055</td>\n",
       "                        <td id=\"T_21ea273a_9245_11ec_b18a_e0d46479bf07row1_col1\" class=\"data row1 col1\" >284913195472.8517</td>\n",
       "                        <td id=\"T_21ea273a_9245_11ec_b18a_e0d46479bf07row1_col2\" class=\"data row1 col2\" >533772.6065</td>\n",
       "                        <td id=\"T_21ea273a_9245_11ec_b18a_e0d46479bf07row1_col3\" class=\"data row1 col3\" >0.9928</td>\n",
       "                        <td id=\"T_21ea273a_9245_11ec_b18a_e0d46479bf07row1_col4\" class=\"data row1 col4\" >0.1279</td>\n",
       "                        <td id=\"T_21ea273a_9245_11ec_b18a_e0d46479bf07row1_col5\" class=\"data row1 col5\" >0.0718</td>\n",
       "            </tr>\n",
       "            <tr>\n",
       "                        <th id=\"T_21ea273a_9245_11ec_b18a_e0d46479bf07level0_row2\" class=\"row_heading level0 row2\" >2</th>\n",
       "                        <td id=\"T_21ea273a_9245_11ec_b18a_e0d46479bf07row2_col0\" class=\"data row2 col0\" >169382.7440</td>\n",
       "                        <td id=\"T_21ea273a_9245_11ec_b18a_e0d46479bf07row2_col1\" class=\"data row2 col1\" >243751403226.5652</td>\n",
       "                        <td id=\"T_21ea273a_9245_11ec_b18a_e0d46479bf07row2_col2\" class=\"data row2 col2\" >493711.8626</td>\n",
       "                        <td id=\"T_21ea273a_9245_11ec_b18a_e0d46479bf07row2_col3\" class=\"data row2 col3\" >0.9947</td>\n",
       "                        <td id=\"T_21ea273a_9245_11ec_b18a_e0d46479bf07row2_col4\" class=\"data row2 col4\" >0.1296</td>\n",
       "                        <td id=\"T_21ea273a_9245_11ec_b18a_e0d46479bf07row2_col5\" class=\"data row2 col5\" >0.0755</td>\n",
       "            </tr>\n",
       "            <tr>\n",
       "                        <th id=\"T_21ea273a_9245_11ec_b18a_e0d46479bf07level0_row3\" class=\"row_heading level0 row3\" >3</th>\n",
       "                        <td id=\"T_21ea273a_9245_11ec_b18a_e0d46479bf07row3_col0\" class=\"data row3 col0\" >127133.5653</td>\n",
       "                        <td id=\"T_21ea273a_9245_11ec_b18a_e0d46479bf07row3_col1\" class=\"data row3 col1\" >242703682221.9017</td>\n",
       "                        <td id=\"T_21ea273a_9245_11ec_b18a_e0d46479bf07row3_col2\" class=\"data row3 col2\" >492649.6546</td>\n",
       "                        <td id=\"T_21ea273a_9245_11ec_b18a_e0d46479bf07row3_col3\" class=\"data row3 col3\" >0.9897</td>\n",
       "                        <td id=\"T_21ea273a_9245_11ec_b18a_e0d46479bf07row3_col4\" class=\"data row3 col4\" >0.1285</td>\n",
       "                        <td id=\"T_21ea273a_9245_11ec_b18a_e0d46479bf07row3_col5\" class=\"data row3 col5\" >0.0750</td>\n",
       "            </tr>\n",
       "            <tr>\n",
       "                        <th id=\"T_21ea273a_9245_11ec_b18a_e0d46479bf07level0_row4\" class=\"row_heading level0 row4\" >4</th>\n",
       "                        <td id=\"T_21ea273a_9245_11ec_b18a_e0d46479bf07row4_col0\" class=\"data row4 col0\" >120719.3354</td>\n",
       "                        <td id=\"T_21ea273a_9245_11ec_b18a_e0d46479bf07row4_col1\" class=\"data row4 col1\" >106522062336.1262</td>\n",
       "                        <td id=\"T_21ea273a_9245_11ec_b18a_e0d46479bf07row4_col2\" class=\"data row4 col2\" >326377.1780</td>\n",
       "                        <td id=\"T_21ea273a_9245_11ec_b18a_e0d46479bf07row4_col3\" class=\"data row4 col3\" >0.9964</td>\n",
       "                        <td id=\"T_21ea273a_9245_11ec_b18a_e0d46479bf07row4_col4\" class=\"data row4 col4\" >0.1309</td>\n",
       "                        <td id=\"T_21ea273a_9245_11ec_b18a_e0d46479bf07row4_col5\" class=\"data row4 col5\" >0.0664</td>\n",
       "            </tr>\n",
       "            <tr>\n",
       "                        <th id=\"T_21ea273a_9245_11ec_b18a_e0d46479bf07level0_row5\" class=\"row_heading level0 row5\" >5</th>\n",
       "                        <td id=\"T_21ea273a_9245_11ec_b18a_e0d46479bf07row5_col0\" class=\"data row5 col0\" >126398.1307</td>\n",
       "                        <td id=\"T_21ea273a_9245_11ec_b18a_e0d46479bf07row5_col1\" class=\"data row5 col1\" >128373959873.3477</td>\n",
       "                        <td id=\"T_21ea273a_9245_11ec_b18a_e0d46479bf07row5_col2\" class=\"data row5 col2\" >358293.1200</td>\n",
       "                        <td id=\"T_21ea273a_9245_11ec_b18a_e0d46479bf07row5_col3\" class=\"data row5 col3\" >0.9932</td>\n",
       "                        <td id=\"T_21ea273a_9245_11ec_b18a_e0d46479bf07row5_col4\" class=\"data row5 col4\" >0.0931</td>\n",
       "                        <td id=\"T_21ea273a_9245_11ec_b18a_e0d46479bf07row5_col5\" class=\"data row5 col5\" >0.0626</td>\n",
       "            </tr>\n",
       "            <tr>\n",
       "                        <th id=\"T_21ea273a_9245_11ec_b18a_e0d46479bf07level0_row6\" class=\"row_heading level0 row6\" >6</th>\n",
       "                        <td id=\"T_21ea273a_9245_11ec_b18a_e0d46479bf07row6_col0\" class=\"data row6 col0\" >218450.0344</td>\n",
       "                        <td id=\"T_21ea273a_9245_11ec_b18a_e0d46479bf07row6_col1\" class=\"data row6 col1\" >2143560183087.1643</td>\n",
       "                        <td id=\"T_21ea273a_9245_11ec_b18a_e0d46479bf07row6_col2\" class=\"data row6 col2\" >1464090.2237</td>\n",
       "                        <td id=\"T_21ea273a_9245_11ec_b18a_e0d46479bf07row6_col3\" class=\"data row6 col3\" >0.9608</td>\n",
       "                        <td id=\"T_21ea273a_9245_11ec_b18a_e0d46479bf07row6_col4\" class=\"data row6 col4\" >0.1101</td>\n",
       "                        <td id=\"T_21ea273a_9245_11ec_b18a_e0d46479bf07row6_col5\" class=\"data row6 col5\" >0.0558</td>\n",
       "            </tr>\n",
       "            <tr>\n",
       "                        <th id=\"T_21ea273a_9245_11ec_b18a_e0d46479bf07level0_row7\" class=\"row_heading level0 row7\" >7</th>\n",
       "                        <td id=\"T_21ea273a_9245_11ec_b18a_e0d46479bf07row7_col0\" class=\"data row7 col0\" >205811.2487</td>\n",
       "                        <td id=\"T_21ea273a_9245_11ec_b18a_e0d46479bf07row7_col1\" class=\"data row7 col1\" >1526574948564.4131</td>\n",
       "                        <td id=\"T_21ea273a_9245_11ec_b18a_e0d46479bf07row7_col2\" class=\"data row7 col2\" >1235546.4170</td>\n",
       "                        <td id=\"T_21ea273a_9245_11ec_b18a_e0d46479bf07row7_col3\" class=\"data row7 col3\" >0.9598</td>\n",
       "                        <td id=\"T_21ea273a_9245_11ec_b18a_e0d46479bf07row7_col4\" class=\"data row7 col4\" >0.1141</td>\n",
       "                        <td id=\"T_21ea273a_9245_11ec_b18a_e0d46479bf07row7_col5\" class=\"data row7 col5\" >0.0651</td>\n",
       "            </tr>\n",
       "            <tr>\n",
       "                        <th id=\"T_21ea273a_9245_11ec_b18a_e0d46479bf07level0_row8\" class=\"row_heading level0 row8\" >8</th>\n",
       "                        <td id=\"T_21ea273a_9245_11ec_b18a_e0d46479bf07row8_col0\" class=\"data row8 col0\" >195976.9641</td>\n",
       "                        <td id=\"T_21ea273a_9245_11ec_b18a_e0d46479bf07row8_col1\" class=\"data row8 col1\" >1024378249063.9382</td>\n",
       "                        <td id=\"T_21ea273a_9245_11ec_b18a_e0d46479bf07row8_col2\" class=\"data row8 col2\" >1012115.7291</td>\n",
       "                        <td id=\"T_21ea273a_9245_11ec_b18a_e0d46479bf07row8_col3\" class=\"data row8 col3\" >0.9763</td>\n",
       "                        <td id=\"T_21ea273a_9245_11ec_b18a_e0d46479bf07row8_col4\" class=\"data row8 col4\" >0.0914</td>\n",
       "                        <td id=\"T_21ea273a_9245_11ec_b18a_e0d46479bf07row8_col5\" class=\"data row8 col5\" >0.0606</td>\n",
       "            </tr>\n",
       "            <tr>\n",
       "                        <th id=\"T_21ea273a_9245_11ec_b18a_e0d46479bf07level0_row9\" class=\"row_heading level0 row9\" >9</th>\n",
       "                        <td id=\"T_21ea273a_9245_11ec_b18a_e0d46479bf07row9_col0\" class=\"data row9 col0\" >148732.3548</td>\n",
       "                        <td id=\"T_21ea273a_9245_11ec_b18a_e0d46479bf07row9_col1\" class=\"data row9 col1\" >296324078810.2864</td>\n",
       "                        <td id=\"T_21ea273a_9245_11ec_b18a_e0d46479bf07row9_col2\" class=\"data row9 col2\" >544356.5732</td>\n",
       "                        <td id=\"T_21ea273a_9245_11ec_b18a_e0d46479bf07row9_col3\" class=\"data row9 col3\" >0.9916</td>\n",
       "                        <td id=\"T_21ea273a_9245_11ec_b18a_e0d46479bf07row9_col4\" class=\"data row9 col4\" >0.2412</td>\n",
       "                        <td id=\"T_21ea273a_9245_11ec_b18a_e0d46479bf07row9_col5\" class=\"data row9 col5\" >0.1040</td>\n",
       "            </tr>\n",
       "            <tr>\n",
       "                        <th id=\"T_21ea273a_9245_11ec_b18a_e0d46479bf07level0_row10\" class=\"row_heading level0 row10\" >Mean</th>\n",
       "                        <td id=\"T_21ea273a_9245_11ec_b18a_e0d46479bf07row10_col0\" class=\"data row10 col0\" >163311.8794</td>\n",
       "                        <td id=\"T_21ea273a_9245_11ec_b18a_e0d46479bf07row10_col1\" class=\"data row10 col1\" >676073062186.1398</td>\n",
       "                        <td id=\"T_21ea273a_9245_11ec_b18a_e0d46479bf07row10_col2\" class=\"data row10 col2\" >733477.1968</td>\n",
       "                        <td id=\"T_21ea273a_9245_11ec_b18a_e0d46479bf07row10_col3\" class=\"data row10 col3\" >0.9823</td>\n",
       "                        <td id=\"T_21ea273a_9245_11ec_b18a_e0d46479bf07row10_col4\" class=\"data row10 col4\" >0.1267</td>\n",
       "                        <td id=\"T_21ea273a_9245_11ec_b18a_e0d46479bf07row10_col5\" class=\"data row10 col5\" >0.0699</td>\n",
       "            </tr>\n",
       "            <tr>\n",
       "                        <th id=\"T_21ea273a_9245_11ec_b18a_e0d46479bf07level0_row11\" class=\"row_heading level0 row11\" >SD</th>\n",
       "                        <td id=\"T_21ea273a_9245_11ec_b18a_e0d46479bf07row11_col0\" class=\"data row11 col0\" >32789.9808</td>\n",
       "                        <td id=\"T_21ea273a_9245_11ec_b18a_e0d46479bf07row11_col1\" class=\"data row11 col1\" >655907268266.1488</td>\n",
       "                        <td id=\"T_21ea273a_9245_11ec_b18a_e0d46479bf07row11_col2\" class=\"data row11 col2\" >371596.9105</td>\n",
       "                        <td id=\"T_21ea273a_9245_11ec_b18a_e0d46479bf07row11_col3\" class=\"data row11 col3\" >0.0139</td>\n",
       "                        <td id=\"T_21ea273a_9245_11ec_b18a_e0d46479bf07row11_col4\" class=\"data row11 col4\" >0.0408</td>\n",
       "                        <td id=\"T_21ea273a_9245_11ec_b18a_e0d46479bf07row11_col5\" class=\"data row11 col5\" >0.0129</td>\n",
       "            </tr>\n",
       "    </tbody></table>"
      ],
      "text/plain": [
       "<pandas.io.formats.style.Styler at 0x22f235ca070>"
      ]
     },
     "metadata": {},
     "output_type": "display_data"
    }
   ],
   "source": [
    "# 하이퍼파라미터 튜닝\n",
    "tuned_cat = tune_model(cat, optimize = 'RMSE', n_iter = 10)\n",
    "tuned_xgb = tune_model(xgb, optimize = 'RMSE', n_iter = 10)\n",
    "tuned_gbr = tune_model(gbr, optimize = 'RMSE', n_iter = 10)"
   ]
  },
  {
   "cell_type": "code",
   "execution_count": 42,
   "metadata": {},
   "outputs": [
    {
     "data": {
      "text/html": [
       "<style  type=\"text/css\" >\n",
       "#T_589b0c0a_9245_11ec_bd74_e0d46479bf07row10_col0,#T_589b0c0a_9245_11ec_bd74_e0d46479bf07row10_col1,#T_589b0c0a_9245_11ec_bd74_e0d46479bf07row10_col2,#T_589b0c0a_9245_11ec_bd74_e0d46479bf07row10_col3,#T_589b0c0a_9245_11ec_bd74_e0d46479bf07row10_col4,#T_589b0c0a_9245_11ec_bd74_e0d46479bf07row10_col5{\n",
       "            background:  yellow;\n",
       "        }</style><table id=\"T_589b0c0a_9245_11ec_bd74_e0d46479bf07\" ><thead>    <tr>        <th class=\"blank level0\" ></th>        <th class=\"col_heading level0 col0\" >MAE</th>        <th class=\"col_heading level0 col1\" >MSE</th>        <th class=\"col_heading level0 col2\" >RMSE</th>        <th class=\"col_heading level0 col3\" >R2</th>        <th class=\"col_heading level0 col4\" >RMSLE</th>        <th class=\"col_heading level0 col5\" >MAPE</th>    </tr></thead><tbody>\n",
       "                <tr>\n",
       "                        <th id=\"T_589b0c0a_9245_11ec_bd74_e0d46479bf07level0_row0\" class=\"row_heading level0 row0\" >0</th>\n",
       "                        <td id=\"T_589b0c0a_9245_11ec_bd74_e0d46479bf07row0_col0\" class=\"data row0 col0\" >164591.1205</td>\n",
       "                        <td id=\"T_589b0c0a_9245_11ec_bd74_e0d46479bf07row0_col1\" class=\"data row0 col1\" >369539029833.9967</td>\n",
       "                        <td id=\"T_589b0c0a_9245_11ec_bd74_e0d46479bf07row0_col2\" class=\"data row0 col2\" >607897.2198</td>\n",
       "                        <td id=\"T_589b0c0a_9245_11ec_bd74_e0d46479bf07row0_col3\" class=\"data row0 col3\" >0.9845</td>\n",
       "                        <td id=\"T_589b0c0a_9245_11ec_bd74_e0d46479bf07row0_col4\" class=\"data row0 col4\" >0.1849</td>\n",
       "                        <td id=\"T_589b0c0a_9245_11ec_bd74_e0d46479bf07row0_col5\" class=\"data row0 col5\" >0.1091</td>\n",
       "            </tr>\n",
       "            <tr>\n",
       "                        <th id=\"T_589b0c0a_9245_11ec_bd74_e0d46479bf07level0_row1\" class=\"row_heading level0 row1\" >1</th>\n",
       "                        <td id=\"T_589b0c0a_9245_11ec_bd74_e0d46479bf07row1_col0\" class=\"data row1 col0\" >176942.0002</td>\n",
       "                        <td id=\"T_589b0c0a_9245_11ec_bd74_e0d46479bf07row1_col1\" class=\"data row1 col1\" >263173395796.8206</td>\n",
       "                        <td id=\"T_589b0c0a_9245_11ec_bd74_e0d46479bf07row1_col2\" class=\"data row1 col2\" >513004.2844</td>\n",
       "                        <td id=\"T_589b0c0a_9245_11ec_bd74_e0d46479bf07row1_col3\" class=\"data row1 col3\" >0.9934</td>\n",
       "                        <td id=\"T_589b0c0a_9245_11ec_bd74_e0d46479bf07row1_col4\" class=\"data row1 col4\" >0.1445</td>\n",
       "                        <td id=\"T_589b0c0a_9245_11ec_bd74_e0d46479bf07row1_col5\" class=\"data row1 col5\" >0.0976</td>\n",
       "            </tr>\n",
       "            <tr>\n",
       "                        <th id=\"T_589b0c0a_9245_11ec_bd74_e0d46479bf07level0_row2\" class=\"row_heading level0 row2\" >2</th>\n",
       "                        <td id=\"T_589b0c0a_9245_11ec_bd74_e0d46479bf07row2_col0\" class=\"data row2 col0\" >183114.5385</td>\n",
       "                        <td id=\"T_589b0c0a_9245_11ec_bd74_e0d46479bf07row2_col1\" class=\"data row2 col1\" >228213066018.6578</td>\n",
       "                        <td id=\"T_589b0c0a_9245_11ec_bd74_e0d46479bf07row2_col2\" class=\"data row2 col2\" >477716.5122</td>\n",
       "                        <td id=\"T_589b0c0a_9245_11ec_bd74_e0d46479bf07row2_col3\" class=\"data row2 col3\" >0.9950</td>\n",
       "                        <td id=\"T_589b0c0a_9245_11ec_bd74_e0d46479bf07row2_col4\" class=\"data row2 col4\" >0.2519</td>\n",
       "                        <td id=\"T_589b0c0a_9245_11ec_bd74_e0d46479bf07row2_col5\" class=\"data row2 col5\" >0.1127</td>\n",
       "            </tr>\n",
       "            <tr>\n",
       "                        <th id=\"T_589b0c0a_9245_11ec_bd74_e0d46479bf07level0_row3\" class=\"row_heading level0 row3\" >3</th>\n",
       "                        <td id=\"T_589b0c0a_9245_11ec_bd74_e0d46479bf07row3_col0\" class=\"data row3 col0\" >126240.2647</td>\n",
       "                        <td id=\"T_589b0c0a_9245_11ec_bd74_e0d46479bf07row3_col1\" class=\"data row3 col1\" >80857617170.1863</td>\n",
       "                        <td id=\"T_589b0c0a_9245_11ec_bd74_e0d46479bf07row3_col2\" class=\"data row3 col2\" >284354.7383</td>\n",
       "                        <td id=\"T_589b0c0a_9245_11ec_bd74_e0d46479bf07row3_col3\" class=\"data row3 col3\" >0.9966</td>\n",
       "                        <td id=\"T_589b0c0a_9245_11ec_bd74_e0d46479bf07row3_col4\" class=\"data row3 col4\" >0.1538</td>\n",
       "                        <td id=\"T_589b0c0a_9245_11ec_bd74_e0d46479bf07row3_col5\" class=\"data row3 col5\" >0.1038</td>\n",
       "            </tr>\n",
       "            <tr>\n",
       "                        <th id=\"T_589b0c0a_9245_11ec_bd74_e0d46479bf07level0_row4\" class=\"row_heading level0 row4\" >4</th>\n",
       "                        <td id=\"T_589b0c0a_9245_11ec_bd74_e0d46479bf07row4_col0\" class=\"data row4 col0\" >139576.0701</td>\n",
       "                        <td id=\"T_589b0c0a_9245_11ec_bd74_e0d46479bf07row4_col1\" class=\"data row4 col1\" >120600934225.3064</td>\n",
       "                        <td id=\"T_589b0c0a_9245_11ec_bd74_e0d46479bf07row4_col2\" class=\"data row4 col2\" >347276.4522</td>\n",
       "                        <td id=\"T_589b0c0a_9245_11ec_bd74_e0d46479bf07row4_col3\" class=\"data row4 col3\" >0.9959</td>\n",
       "                        <td id=\"T_589b0c0a_9245_11ec_bd74_e0d46479bf07row4_col4\" class=\"data row4 col4\" >0.1606</td>\n",
       "                        <td id=\"T_589b0c0a_9245_11ec_bd74_e0d46479bf07row4_col5\" class=\"data row4 col5\" >0.1070</td>\n",
       "            </tr>\n",
       "            <tr>\n",
       "                        <th id=\"T_589b0c0a_9245_11ec_bd74_e0d46479bf07level0_row5\" class=\"row_heading level0 row5\" >5</th>\n",
       "                        <td id=\"T_589b0c0a_9245_11ec_bd74_e0d46479bf07row5_col0\" class=\"data row5 col0\" >141450.0982</td>\n",
       "                        <td id=\"T_589b0c0a_9245_11ec_bd74_e0d46479bf07row5_col1\" class=\"data row5 col1\" >109450442210.1862</td>\n",
       "                        <td id=\"T_589b0c0a_9245_11ec_bd74_e0d46479bf07row5_col2\" class=\"data row5 col2\" >330832.9521</td>\n",
       "                        <td id=\"T_589b0c0a_9245_11ec_bd74_e0d46479bf07row5_col3\" class=\"data row5 col3\" >0.9942</td>\n",
       "                        <td id=\"T_589b0c0a_9245_11ec_bd74_e0d46479bf07row5_col4\" class=\"data row5 col4\" >0.1494</td>\n",
       "                        <td id=\"T_589b0c0a_9245_11ec_bd74_e0d46479bf07row5_col5\" class=\"data row5 col5\" >0.1036</td>\n",
       "            </tr>\n",
       "            <tr>\n",
       "                        <th id=\"T_589b0c0a_9245_11ec_bd74_e0d46479bf07level0_row6\" class=\"row_heading level0 row6\" >6</th>\n",
       "                        <td id=\"T_589b0c0a_9245_11ec_bd74_e0d46479bf07row6_col0\" class=\"data row6 col0\" >223508.5822</td>\n",
       "                        <td id=\"T_589b0c0a_9245_11ec_bd74_e0d46479bf07row6_col1\" class=\"data row6 col1\" >2287218011983.1177</td>\n",
       "                        <td id=\"T_589b0c0a_9245_11ec_bd74_e0d46479bf07row6_col2\" class=\"data row6 col2\" >1512355.1210</td>\n",
       "                        <td id=\"T_589b0c0a_9245_11ec_bd74_e0d46479bf07row6_col3\" class=\"data row6 col3\" >0.9582</td>\n",
       "                        <td id=\"T_589b0c0a_9245_11ec_bd74_e0d46479bf07row6_col4\" class=\"data row6 col4\" >0.1538</td>\n",
       "                        <td id=\"T_589b0c0a_9245_11ec_bd74_e0d46479bf07row6_col5\" class=\"data row6 col5\" >0.0940</td>\n",
       "            </tr>\n",
       "            <tr>\n",
       "                        <th id=\"T_589b0c0a_9245_11ec_bd74_e0d46479bf07level0_row7\" class=\"row_heading level0 row7\" >7</th>\n",
       "                        <td id=\"T_589b0c0a_9245_11ec_bd74_e0d46479bf07row7_col0\" class=\"data row7 col0\" >219886.6375</td>\n",
       "                        <td id=\"T_589b0c0a_9245_11ec_bd74_e0d46479bf07row7_col1\" class=\"data row7 col1\" >1158855736325.8813</td>\n",
       "                        <td id=\"T_589b0c0a_9245_11ec_bd74_e0d46479bf07row7_col2\" class=\"data row7 col2\" >1076501.6193</td>\n",
       "                        <td id=\"T_589b0c0a_9245_11ec_bd74_e0d46479bf07row7_col3\" class=\"data row7 col3\" >0.9694</td>\n",
       "                        <td id=\"T_589b0c0a_9245_11ec_bd74_e0d46479bf07row7_col4\" class=\"data row7 col4\" >0.1708</td>\n",
       "                        <td id=\"T_589b0c0a_9245_11ec_bd74_e0d46479bf07row7_col5\" class=\"data row7 col5\" >0.1100</td>\n",
       "            </tr>\n",
       "            <tr>\n",
       "                        <th id=\"T_589b0c0a_9245_11ec_bd74_e0d46479bf07level0_row8\" class=\"row_heading level0 row8\" >8</th>\n",
       "                        <td id=\"T_589b0c0a_9245_11ec_bd74_e0d46479bf07row8_col0\" class=\"data row8 col0\" >192629.7251</td>\n",
       "                        <td id=\"T_589b0c0a_9245_11ec_bd74_e0d46479bf07row8_col1\" class=\"data row8 col1\" >383321284863.9502</td>\n",
       "                        <td id=\"T_589b0c0a_9245_11ec_bd74_e0d46479bf07row8_col2\" class=\"data row8 col2\" >619129.4573</td>\n",
       "                        <td id=\"T_589b0c0a_9245_11ec_bd74_e0d46479bf07row8_col3\" class=\"data row8 col3\" >0.9911</td>\n",
       "                        <td id=\"T_589b0c0a_9245_11ec_bd74_e0d46479bf07row8_col4\" class=\"data row8 col4\" >0.1704</td>\n",
       "                        <td id=\"T_589b0c0a_9245_11ec_bd74_e0d46479bf07row8_col5\" class=\"data row8 col5\" >0.1094</td>\n",
       "            </tr>\n",
       "            <tr>\n",
       "                        <th id=\"T_589b0c0a_9245_11ec_bd74_e0d46479bf07level0_row9\" class=\"row_heading level0 row9\" >9</th>\n",
       "                        <td id=\"T_589b0c0a_9245_11ec_bd74_e0d46479bf07row9_col0\" class=\"data row9 col0\" >144553.4559</td>\n",
       "                        <td id=\"T_589b0c0a_9245_11ec_bd74_e0d46479bf07row9_col1\" class=\"data row9 col1\" >179170703457.6943</td>\n",
       "                        <td id=\"T_589b0c0a_9245_11ec_bd74_e0d46479bf07row9_col2\" class=\"data row9 col2\" >423285.6051</td>\n",
       "                        <td id=\"T_589b0c0a_9245_11ec_bd74_e0d46479bf07row9_col3\" class=\"data row9 col3\" >0.9949</td>\n",
       "                        <td id=\"T_589b0c0a_9245_11ec_bd74_e0d46479bf07row9_col4\" class=\"data row9 col4\" >0.2681</td>\n",
       "                        <td id=\"T_589b0c0a_9245_11ec_bd74_e0d46479bf07row9_col5\" class=\"data row9 col5\" >0.1449</td>\n",
       "            </tr>\n",
       "            <tr>\n",
       "                        <th id=\"T_589b0c0a_9245_11ec_bd74_e0d46479bf07level0_row10\" class=\"row_heading level0 row10\" >Mean</th>\n",
       "                        <td id=\"T_589b0c0a_9245_11ec_bd74_e0d46479bf07row10_col0\" class=\"data row10 col0\" >171249.2493</td>\n",
       "                        <td id=\"T_589b0c0a_9245_11ec_bd74_e0d46479bf07row10_col1\" class=\"data row10 col1\" >518040022188.5798</td>\n",
       "                        <td id=\"T_589b0c0a_9245_11ec_bd74_e0d46479bf07row10_col2\" class=\"data row10 col2\" >619235.3962</td>\n",
       "                        <td id=\"T_589b0c0a_9245_11ec_bd74_e0d46479bf07row10_col3\" class=\"data row10 col3\" >0.9873</td>\n",
       "                        <td id=\"T_589b0c0a_9245_11ec_bd74_e0d46479bf07row10_col4\" class=\"data row10 col4\" >0.1808</td>\n",
       "                        <td id=\"T_589b0c0a_9245_11ec_bd74_e0d46479bf07row10_col5\" class=\"data row10 col5\" >0.1092</td>\n",
       "            </tr>\n",
       "            <tr>\n",
       "                        <th id=\"T_589b0c0a_9245_11ec_bd74_e0d46479bf07level0_row11\" class=\"row_heading level0 row11\" >SD</th>\n",
       "                        <td id=\"T_589b0c0a_9245_11ec_bd74_e0d46479bf07row11_col0\" class=\"data row11 col0\" >32250.4808</td>\n",
       "                        <td id=\"T_589b0c0a_9245_11ec_bd74_e0d46479bf07row11_col1\" class=\"data row11 col1\" >660352786598.8920</td>\n",
       "                        <td id=\"T_589b0c0a_9245_11ec_bd74_e0d46479bf07row11_col2\" class=\"data row11 col2\" >366861.7537</td>\n",
       "                        <td id=\"T_589b0c0a_9245_11ec_bd74_e0d46479bf07row11_col3\" class=\"data row11 col3\" >0.0125</td>\n",
       "                        <td id=\"T_589b0c0a_9245_11ec_bd74_e0d46479bf07row11_col4\" class=\"data row11 col4\" >0.0413</td>\n",
       "                        <td id=\"T_589b0c0a_9245_11ec_bd74_e0d46479bf07row11_col5\" class=\"data row11 col5\" >0.0131</td>\n",
       "            </tr>\n",
       "    </tbody></table>"
      ],
      "text/plain": [
       "<pandas.io.formats.style.Styler at 0x22f237beee0>"
      ]
     },
     "metadata": {},
     "output_type": "display_data"
    }
   ],
   "source": [
    "# 모델 블렌딩(Blend)\n",
    "\n",
    "blender_specific = blend_models(estimator_list = \n",
    "                                [tuned_cat,tuned_xgb,tuned_gbr], optimize = 'RMSE')\n"
   ]
  },
  {
   "cell_type": "code",
   "execution_count": 43,
   "metadata": {},
   "outputs": [
    {
     "data": {
      "image/png": "[encoded data removed]",
      "text/plain": [
       "<Figure size 576x396 with 2 Axes>"
      ]
     },
     "metadata": {},
     "output_type": "display_data"
    }
   ],
   "source": [
    "plot_model(blender_specific)"
   ]
  },
  {
   "cell_type": "code",
   "execution_count": 45,
   "metadata": {},
   "outputs": [
    {
     "data": {
      "image/png": "[encoded data removed]",
      "text/plain": [
       "<Figure size 576x396 with 1 Axes>"
      ]
     },
     "metadata": {},
     "output_type": "display_data"
    }
   ],
   "source": [
    "plot_model(blender_specific, plot='error')"
   ]
  },
  {
   "cell_type": "code",
   "execution_count": 46,
   "metadata": {},
   "outputs": [
    {
     "data": {
      "image/png": "[encoded data removed]",
      "text/plain": [
       "<Figure size 576x396 with 1 Axes>"
      ]
     },
     "metadata": {},
     "output_type": "display_data"
    }
   ],
   "source": [
    "plot_model(blender_specific, plot='learning')"
   ]
  },
  {
   "cell_type": "code",
   "execution_count": 47,
   "metadata": {},
   "outputs": [],
   "source": [
    "# 마지막 학습(Finalize)\n",
    "final_model = finalize_model(blender_specific)"
   ]
  },
  {
   "cell_type": "code",
   "execution_count": 48,
   "metadata": {},
   "outputs": [],
   "source": [
    "# 예측(Predict)\n",
    "pred = predict_model(final_model, data = test)"
   ]
  },
  {
   "cell_type": "code",
   "execution_count": 51,
   "metadata": {},
   "outputs": [
    {
     "data": {
      "text/html": [
       "<div>\n",
       "<style scoped>\n",
       "    .dataframe tbody tr th:only-of-type {\n",
       "        vertical-align: middle;\n",
       "    }\n",
       "\n",
       "    .dataframe tbody tr th {\n",
       "        vertical-align: top;\n",
       "    }\n",
       "\n",
       "    .dataframe thead th {\n",
       "        text-align: right;\n",
       "    }\n",
       "</style>\n",
       "<table border=\"1\" class=\"dataframe\">\n",
       "  <thead>\n",
       "    <tr style=\"text-align: right;\">\n",
       "      <th></th>\n",
       "      <th>0</th>\n",
       "      <th>1</th>\n",
       "      <th>2</th>\n",
       "      <th>continent</th>\n",
       "      <th>contract_until</th>\n",
       "      <th>position</th>\n",
       "      <th>prefer_foot</th>\n",
       "      <th>reputation</th>\n",
       "      <th>stat_skill_moves</th>\n",
       "      <th>Label</th>\n",
       "    </tr>\n",
       "  </thead>\n",
       "  <tbody>\n",
       "    <tr>\n",
       "      <th>0</th>\n",
       "      <td>0.653846</td>\n",
       "      <td>1.000000</td>\n",
       "      <td>0.976744</td>\n",
       "      <td>europe</td>\n",
       "      <td>2022</td>\n",
       "      <td>3</td>\n",
       "      <td>1</td>\n",
       "      <td>5</td>\n",
       "      <td>5</td>\n",
       "      <td>8.768736e+07</td>\n",
       "    </tr>\n",
       "    <tr>\n",
       "      <th>1</th>\n",
       "      <td>0.384615</td>\n",
       "      <td>0.957447</td>\n",
       "      <td>0.953488</td>\n",
       "      <td>south america</td>\n",
       "      <td>2022</td>\n",
       "      <td>3</td>\n",
       "      <td>1</td>\n",
       "      <td>5</td>\n",
       "      <td>5</td>\n",
       "      <td>8.941837e+07</td>\n",
       "    </tr>\n",
       "    <tr>\n",
       "      <th>2</th>\n",
       "      <td>0.423077</td>\n",
       "      <td>0.936170</td>\n",
       "      <td>0.930233</td>\n",
       "      <td>europe</td>\n",
       "      <td>2023</td>\n",
       "      <td>1</td>\n",
       "      <td>1</td>\n",
       "      <td>4</td>\n",
       "      <td>4</td>\n",
       "      <td>7.516293e+07</td>\n",
       "    </tr>\n",
       "  </tbody>\n",
       "</table>\n",
       "</div>"
      ],
      "text/plain": [
       "          0         1         2      continent contract_until  position  \\\n",
       "0  0.653846  1.000000  0.976744         europe           2022         3   \n",
       "1  0.384615  0.957447  0.953488  south america           2022         3   \n",
       "2  0.423077  0.936170  0.930233         europe           2023         1   \n",
       "\n",
       "   prefer_foot  reputation  stat_skill_moves         Label  \n",
       "0            1           5                 5  8.768736e+07  \n",
       "1            1           5                 5  8.941837e+07  \n",
       "2            1           4                 4  7.516293e+07  "
      ]
     },
     "execution_count": 51,
     "metadata": {},
     "output_type": "execute_result"
    }
   ],
   "source": [
    "pred.head(3)"
   ]
  },
  {
   "cell_type": "code",
   "execution_count": 50,
   "metadata": {},
   "outputs": [
    {
     "data": {
      "text/plain": [
       "0       8.768736e+07\n",
       "1       8.941837e+07\n",
       "2       7.516293e+07\n",
       "3       7.428270e+07\n",
       "4       6.895601e+07\n",
       "            ...     \n",
       "3823    1.099876e+05\n",
       "3824    5.275563e+04\n",
       "3825    7.444700e+04\n",
       "3826    9.131228e+04\n",
       "3827    7.616987e+04\n",
       "Name: Label, Length: 3828, dtype: float64"
      ]
     },
     "execution_count": 50,
     "metadata": {},
     "output_type": "execute_result"
    }
   ],
   "source": [
    "pred['Label']"
   ]
  },
  {
   "cell_type": "code",
   "execution_count": 52,
   "metadata": {},
   "outputs": [],
   "source": [
    "submission['value'] = pred['Label']"
   ]
  },
  {
   "cell_type": "code",
   "execution_count": 54,
   "metadata": {},
   "outputs": [],
   "source": [
    "submission.to_csv('pycaret_modeling.csv', index=False)"
   ]
  },
  {
   "cell_type": "markdown",
   "metadata": {},
   "source": [
    "### [마무리]\n",
    "\n",
    "- 다음과 같이 제출을 하면 1054169.64284점이 나옵니다.\n",
    "- 우엥,, 다음주까지 성능을 좀 더 올려서 코드공유를 해보겠습니다.\n",
    "\n",
    "### 감사합니다.\n",
    "\n",
    "### [Reference]\n",
    "\n",
    "[1] Pycaret 참고\n",
    "https://dacon.io/codeshare/4243?dtype=recent<br>\n",
    "[2] Pycaret 참고 : https://today-1.tistory.com/17"
   ]
  }
 ],
 "metadata": {
  "colab": {
   "collapsed_sections": [],
   "name": "Untitled0.ipynb",
   "provenance": []
  },
  "kernelspec": {
   "display_name": "Python 3",
   "language": "python",
   "name": "python3"
  },
  "language_info": {
   "codemirror_mode": {
    "name": "ipython",
    "version": 3
   },
   "file_extension": ".py",
   "mimetype": "text/x-python",
   "name": "python",
   "nbconvert_exporter": "python",
   "pygments_lexer": "ipython3",
   "version": "3.8.5"
  }
 },
 "nbformat": 4,
 "nbformat_minor": 1
}
